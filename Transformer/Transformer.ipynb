{
  "cells": [
    {
      "cell_type": "markdown",
      "metadata": {
        "id": "VebyKBIY_bY2"
      },
      "source": [
        "# Transformer Code Review"
      ]
    },
    {
      "cell_type": "markdown",
      "metadata": {
        "id": "jO8aVl8c_VJy"
      },
      "source": [
        "## Library"
      ]
    },
    {
      "cell_type": "code",
      "execution_count": 114,
      "metadata": {
        "colab": {
          "base_uri": "https://localhost:8080/"
        },
        "id": "vQNi-e4QlPiO",
        "outputId": "f0aad4fa-419b-4aac-99dc-464ef3c201e7"
      },
      "outputs": [
        {
          "name": "stdout",
          "output_type": "stream",
          "text": [
            "Requirement already satisfied: torchtext==0.6.0 in /usr/local/lib/python3.10/dist-packages (0.6.0)\n",
            "Requirement already satisfied: tqdm in /usr/local/lib/python3.10/dist-packages (from torchtext==0.6.0) (4.66.5)\n",
            "Requirement already satisfied: requests in /usr/local/lib/python3.10/dist-packages (from torchtext==0.6.0) (2.32.3)\n",
            "Requirement already satisfied: torch in /usr/local/lib/python3.10/dist-packages (from torchtext==0.6.0) (2.5.0+cu121)\n",
            "Requirement already satisfied: numpy in /usr/local/lib/python3.10/dist-packages (from torchtext==0.6.0) (1.26.4)\n",
            "Requirement already satisfied: six in /usr/local/lib/python3.10/dist-packages (from torchtext==0.6.0) (1.16.0)\n",
            "Requirement already satisfied: sentencepiece in /usr/local/lib/python3.10/dist-packages (from torchtext==0.6.0) (0.2.0)\n",
            "Requirement already satisfied: charset-normalizer<4,>=2 in /usr/local/lib/python3.10/dist-packages (from requests->torchtext==0.6.0) (3.4.0)\n",
            "Requirement already satisfied: idna<4,>=2.5 in /usr/local/lib/python3.10/dist-packages (from requests->torchtext==0.6.0) (3.10)\n",
            "Requirement already satisfied: urllib3<3,>=1.21.1 in /usr/local/lib/python3.10/dist-packages (from requests->torchtext==0.6.0) (2.2.3)\n",
            "Requirement already satisfied: certifi>=2017.4.17 in /usr/local/lib/python3.10/dist-packages (from requests->torchtext==0.6.0) (2024.8.30)\n",
            "Requirement already satisfied: filelock in /usr/local/lib/python3.10/dist-packages (from torch->torchtext==0.6.0) (3.16.1)\n",
            "Requirement already satisfied: typing-extensions>=4.8.0 in /usr/local/lib/python3.10/dist-packages (from torch->torchtext==0.6.0) (4.12.2)\n",
            "Requirement already satisfied: networkx in /usr/local/lib/python3.10/dist-packages (from torch->torchtext==0.6.0) (3.4.2)\n",
            "Requirement already satisfied: jinja2 in /usr/local/lib/python3.10/dist-packages (from torch->torchtext==0.6.0) (3.1.4)\n",
            "Requirement already satisfied: fsspec in /usr/local/lib/python3.10/dist-packages (from torch->torchtext==0.6.0) (2024.6.1)\n",
            "Requirement already satisfied: sympy==1.13.1 in /usr/local/lib/python3.10/dist-packages (from torch->torchtext==0.6.0) (1.13.1)\n",
            "Requirement already satisfied: mpmath<1.4,>=1.1.0 in /usr/local/lib/python3.10/dist-packages (from sympy==1.13.1->torch->torchtext==0.6.0) (1.3.0)\n",
            "Requirement already satisfied: MarkupSafe>=2.0 in /usr/local/lib/python3.10/dist-packages (from jinja2->torch->torchtext==0.6.0) (3.0.2)\n"
          ]
        }
      ],
      "source": [
        "!pip install torchtext==0.6.0"
      ]
    },
    {
      "cell_type": "code",
      "execution_count": 196,
      "metadata": {
        "id": "3qs6BA4d_ffo"
      },
      "outputs": [],
      "source": [
        "import csv\n",
        "import math\n",
        "import time\n",
        "import random\n",
        "\n",
        "import numpy as np\n",
        "import torch\n",
        "import torch.nn as nn\n",
        "import torch.optim as optim\n",
        "import torch.utils.data as data\n",
        "import spacy\n",
        "from torch.utils.tensorboard import SummaryWriter\n",
        "\n",
        "import pandas as pd\n",
        "import seaborn as sns\n",
        "from torch import Tensor\n",
        "from torch.nn.utils.rnn import pad_sequence\n",
        "from torch.utils.data import DataLoader\n",
        "from tqdm import tqdm\n",
        "\n",
        "import matplotlib.pyplot as plt\n",
        "import matplotlib.ticker as ticker\n",
        "\n",
        "from torchtext.data import Field, BucketIterator,Example, Dataset\n",
        "from torchtext.data.metrics import bleu_score\n",
        "import spacy"
      ]
    },
    {
      "cell_type": "markdown",
      "metadata": {
        "id": "bwnFzAGo_eLn"
      },
      "source": [
        "## Dataset"
      ]
    },
    {
      "cell_type": "code",
      "execution_count": 116,
      "metadata": {
        "id": "0RdDdDEt6qTh"
      },
      "outputs": [],
      "source": [
        "# !git clone https://github.com/multi30k/dataset.git"
      ]
    },
    {
      "cell_type": "code",
      "execution_count": 117,
      "metadata": {
        "colab": {
          "base_uri": "https://localhost:8080/"
        },
        "id": "ZEtQEoqk8WwT",
        "outputId": "9647c533-ae0d-473b-ce09-0a6441cb93ff"
      },
      "outputs": [
        {
          "name": "stdout",
          "output_type": "stream",
          "text": [
            "/content/train.en: ASCII text\n"
          ]
        }
      ],
      "source": [
        "!file /content/train.en"
      ]
    },
    {
      "cell_type": "code",
      "execution_count": 204,
      "metadata": {
        "colab": {
          "base_uri": "https://localhost:8080/"
        },
        "id": "_JcwTWsO8dRE",
        "outputId": "5f8ab3fc-1a47-4723-87f7-a1891afc4b1a"
      },
      "outputs": [
        {
          "name": "stdout",
          "output_type": "stream",
          "text": [
            "Two young, White males are outside near many bushes.\n",
            "Several men in hard hats are operating a giant pulley system.\n",
            "A little girl climbing into a wooden playhouse.\n",
            "A man in a blue shirt is standing on a ladder cleaning a window.\n",
            "Two men are at the stove preparing food.\n"
          ]
        }
      ],
      "source": [
        "# ASCII 텍스트 파일에서 일부 문장만 출력\n",
        "with open('./train.en', 'r') as file:\n",
        "    lines = file.readlines()\n",
        "    num_sentences = 5\n",
        "\n",
        "    for line in lines[:num_sentences]:\n",
        "        print(line.strip())"
      ]
    },
    {
      "cell_type": "code",
      "execution_count": 202,
      "metadata": {
        "colab": {
          "base_uri": "https://localhost:8080/"
        },
        "id": "hM8pCHig8iTj",
        "outputId": "67f40715-0533-4111-8923-3992eee56008"
      },
      "outputs": [
        {
          "name": "stdout",
          "output_type": "stream",
          "text": [
            "Zwei junge weiße Männer sind im Freien in der Nähe vieler Büsche.\n",
            "Mehrere Männer mit Schutzhelmen bedienen ein Antriebsradsystem.\n",
            "Ein kleines Mädchen klettert in ein Spielhaus aus Holz.\n",
            "Ein Mann in einem blauen Hemd steht auf einer Leiter und putzt ein Fenster.\n",
            "Zwei Männer stehen am Herd und bereiten Essen zu.\n"
          ]
        }
      ],
      "source": [
        "# ASCII 텍스트 파일에서 일부 문장만 출력\n",
        "with open('./train.de', 'r') as file:\n",
        "    lines = file.readlines()\n",
        "    num_sentences = 5\n",
        "\n",
        "    for line in lines[:num_sentences]:\n",
        "        print(line.strip())"
      ]
    },
    {
      "cell_type": "markdown",
      "metadata": {
        "id": "LObft46m_n98"
      },
      "source": [
        "### Train dataset"
      ]
    },
    {
      "cell_type": "code",
      "execution_count": 120,
      "metadata": {
        "colab": {
          "base_uri": "https://localhost:8080/"
        },
        "id": "FIzjSiwE9xBn",
        "outputId": "61baa451-2dcb-4e14-9ca1-664eab34fdcd"
      },
      "outputs": [
        {
          "name": "stdout",
          "output_type": "stream",
          "text": [
            "English: Two young, White males are outside near many bushes.\n",
            "German: Zwei junge weiße Männer sind im Freien in der Nähe vieler Büsche.\n",
            "\n",
            "English: Several men in hard hats are operating a giant pulley system.\n",
            "German: Mehrere Männer mit Schutzhelmen bedienen ein Antriebsradsystem.\n",
            "\n",
            "English: A little girl climbing into a wooden playhouse.\n",
            "German: Ein kleines Mädchen klettert in ein Spielhaus aus Holz.\n",
            "\n",
            "English: A man in a blue shirt is standing on a ladder cleaning a window.\n",
            "German: Ein Mann in einem blauen Hemd steht auf einer Leiter und putzt ein Fenster.\n",
            "\n",
            "English: Two men are at the stove preparing food.\n",
            "German: Zwei Männer stehen am Herd und bereiten Essen zu.\n",
            "\n"
          ]
        }
      ],
      "source": [
        "# 영어와 독일어 파일 경로\n",
        "en_file = './train.en'\n",
        "de_file = './train.de'\n",
        "\n",
        "# 두 파일을 열고 대응되는 문장 쌍을 묶기\n",
        "with open(en_file, 'r', encoding='utf-8') as en_f, open(de_file, 'r', encoding='utf-8') as de_f:\n",
        "    en_sentences = en_f.readlines()  # 영어 문장들\n",
        "    de_sentences = de_f.readlines()  # 독일어 문장들\n",
        "\n",
        "# 문장 쌍 묶기\n",
        "dataset = [(en.strip(), de.strip()) for en, de in zip(en_sentences, de_sentences)]\n",
        "\n",
        "# 데이터셋 확인\n",
        "for en, de in dataset[:5]:  # 예시로 처음 5개의 문장 쌍 출력\n",
        "    print(f'English: {en}\\nGerman: {de}\\n')"
      ]
    },
    {
      "cell_type": "code",
      "execution_count": 121,
      "metadata": {
        "id": "1yr9Nbh8-Xjx"
      },
      "outputs": [],
      "source": [
        "import csv\n",
        "\n",
        "# 데이터셋을 CSV 파일로 저장\n",
        "with open('./train_dataset.csv', 'w', newline='', encoding='utf-8') as csvfile:\n",
        "    writer = csv.writer(csvfile)\n",
        "    writer.writerow(['English', 'German'])  # 헤더\n",
        "    writer.writerows(dataset)  # 데이터 쓰기"
      ]
    },
    {
      "cell_type": "markdown",
      "metadata": {
        "id": "5UErCSTY_qPh"
      },
      "source": [
        "### Validation dataset"
      ]
    },
    {
      "cell_type": "code",
      "execution_count": 122,
      "metadata": {
        "colab": {
          "base_uri": "https://localhost:8080/"
        },
        "id": "tBBx_abV-hkc",
        "outputId": "c88ea7fb-5003-48a0-bbfa-b45902f17fdc"
      },
      "outputs": [
        {
          "name": "stdout",
          "output_type": "stream",
          "text": [
            "English: A group of men are loading cotton onto a truck\n",
            "German: Eine Gruppe von Männern lädt Baumwolle auf einen Lastwagen\n",
            "\n",
            "English: A man sleeping in a green room on a couch.\n",
            "German: Ein Mann schläft in einem grünen Raum auf einem Sofa.\n",
            "\n",
            "English: A boy wearing headphones sits on a woman's shoulders.\n",
            "German: Ein Junge mit Kopfhörern sitzt auf den Schultern einer Frau.\n",
            "\n",
            "English: Two men setting up a blue ice fishing hut on an iced over lake\n",
            "German: Zwei Männer bauen eine blaue Eisfischerhütte auf einem zugefrorenen See auf\n",
            "\n",
            "English: A balding man wearing a red life jacket is sitting in a small boat.\n",
            "German: Ein Mann mit beginnender Glatze, der eine rote Rettungsweste trägt, sitzt in einem kleinen Boot.\n",
            "\n"
          ]
        }
      ],
      "source": [
        "en_file = './val.en'\n",
        "de_file = './val.de'\n",
        "\n",
        "with open(en_file, 'r', encoding='utf-8') as en_f, open(de_file, 'r', encoding='utf-8') as de_f:\n",
        "    en_sentences = en_f.readlines()  # 영어 문장들\n",
        "    de_sentences = de_f.readlines()  # 독일어 문장들\n",
        "\n",
        "dataset = [(en.strip(), de.strip()) for en, de in zip(en_sentences, de_sentences)]\n",
        "\n",
        "for en, de in dataset[:5]:  # 예시로 처음 5개의 문장 쌍 출력\n",
        "    print(f'English: {en}\\nGerman: {de}\\n')\n",
        "\n",
        "with open('./validation_dataset.csv', 'w', newline='', encoding='utf-8') as csvfile:\n",
        "    writer = csv.writer(csvfile)\n",
        "    writer.writerow(['English', 'German'])  # 헤더\n",
        "    writer.writerows(dataset)  # 데이터 쓰기"
      ]
    },
    {
      "cell_type": "code",
      "execution_count": 123,
      "metadata": {
        "colab": {
          "base_uri": "https://localhost:8080/"
        },
        "id": "LTB3eBlhln6J",
        "outputId": "72e975fe-11b1-4d32-ba0f-716587c9be6c"
      },
      "outputs": [
        {
          "name": "stdout",
          "output_type": "stream",
          "text": [
            "English: A man in an orange hat starring at something.\n",
            "German: Ein Mann mit einem orangefarbenen Hut, der etwas anstarrt.\n",
            "\n",
            "English: A Boston Terrier is running on lush green grass in front of a white fence.\n",
            "German: Ein Boston Terrier läuft über saftig-grünes Gras vor einem weißen Zaun.\n",
            "\n",
            "English: A girl in karate uniform breaking a stick with a front kick.\n",
            "German: Ein Mädchen in einem Karateanzug bricht ein Brett mit einem Tritt.\n",
            "\n",
            "English: Five people wearing winter jackets and helmets stand in the snow, with snowmobiles in the background.\n",
            "German: Fünf Leute in Winterjacken und mit Helmen stehen im Schnee mit Schneemobilen im Hintergrund.\n",
            "\n",
            "English: People are fixing the roof of a house.\n",
            "German: Leute Reparieren das Dach eines Hauses.\n",
            "\n"
          ]
        }
      ],
      "source": [
        "en_file = './test_2016_flickr.en'\n",
        "de_file = './test_2016_flickr.de'\n",
        "\n",
        "with open(en_file, 'r', encoding='utf-8') as en_f, open(de_file, 'r', encoding='utf-8') as de_f:\n",
        "    en_sentences = en_f.readlines()  # 영어 문장들\n",
        "    de_sentences = de_f.readlines()  # 독일어 문장들\n",
        "\n",
        "dataset = [(en.strip(), de.strip()) for en, de in zip(en_sentences, de_sentences)]\n",
        "\n",
        "for en, de in dataset[:5]:  # 예시로 처음 5개의 문장 쌍 출력\n",
        "    print(f'English: {en}\\nGerman: {de}\\n')\n",
        "\n",
        "with open('./test2016flickr_dataset.csv', 'w', newline='', encoding='utf-8') as csvfile:\n",
        "    writer = csv.writer(csvfile)\n",
        "    writer.writerow(['English', 'German'])  # 헤더\n",
        "    writer.writerows(dataset)  # 데이터 쓰기"
      ]
    },
    {
      "cell_type": "code",
      "execution_count": 124,
      "metadata": {
        "id": "-P95faoIAWqZ"
      },
      "outputs": [],
      "source": [
        "train_dataset = pd.read_csv('./train_dataset.csv')\n",
        "validation_dataset = pd.read_csv('./validation_dataset.csv')\n",
        "test_dataset = pd.read_csv('./test2016flickr_dataset.csv')"
      ]
    },
    {
      "cell_type": "code",
      "execution_count": 125,
      "metadata": {
        "colab": {
          "base_uri": "https://localhost:8080/",
          "height": 206
        },
        "id": "PWKT9kEAAgBp",
        "outputId": "300e0283-b19d-4412-8207-788e8559220f"
      },
      "outputs": [
        {
          "data": {
            "application/vnd.google.colaboratory.intrinsic+json": {
              "summary": "{\n  \"name\": \"train_dataset\",\n  \"rows\": 29000,\n  \"fields\": [\n    {\n      \"column\": \"English\",\n      \"properties\": {\n        \"dtype\": \"string\",\n        \"num_unique_values\": 28991,\n        \"samples\": [\n          \"Little boy pulling a green wagon wearing a sweatshirt and boots.\",\n          \"Three dancers wearing red sashes perform on a darkened stage.\",\n          \"A man, wearing an official jacket and hat, is leaning against a rail while reading a newspaper.\"\n        ],\n        \"semantic_type\": \"\",\n        \"description\": \"\"\n      }\n    },\n    {\n      \"column\": \"German\",\n      \"properties\": {\n        \"dtype\": \"string\",\n        \"num_unique_values\": 28975,\n        \"samples\": [\n          \"Drei Frauen beten mit gefalteten H\\u00e4nden.\",\n          \"Zwei Wanderer wandern neben einer gr\\u00fcnen Konifere eine karge B\\u00f6schung hinunter.\",\n          \"Drei Kinder stehen auf einem umgest\\u00fcrzten Baumstamm.\"\n        ],\n        \"semantic_type\": \"\",\n        \"description\": \"\"\n      }\n    }\n  ]\n}",
              "type": "dataframe",
              "variable_name": "train_dataset"
            },
            "text/html": [
              "\n",
              "  <div id=\"df-0fa1b99e-8ddc-41fe-beda-262e888aaf18\" class=\"colab-df-container\">\n",
              "    <div>\n",
              "<style scoped>\n",
              "    .dataframe tbody tr th:only-of-type {\n",
              "        vertical-align: middle;\n",
              "    }\n",
              "\n",
              "    .dataframe tbody tr th {\n",
              "        vertical-align: top;\n",
              "    }\n",
              "\n",
              "    .dataframe thead th {\n",
              "        text-align: right;\n",
              "    }\n",
              "</style>\n",
              "<table border=\"1\" class=\"dataframe\">\n",
              "  <thead>\n",
              "    <tr style=\"text-align: right;\">\n",
              "      <th></th>\n",
              "      <th>English</th>\n",
              "      <th>German</th>\n",
              "    </tr>\n",
              "  </thead>\n",
              "  <tbody>\n",
              "    <tr>\n",
              "      <th>0</th>\n",
              "      <td>Two young, White males are outside near many b...</td>\n",
              "      <td>Zwei junge weiße Männer sind im Freien in der ...</td>\n",
              "    </tr>\n",
              "    <tr>\n",
              "      <th>1</th>\n",
              "      <td>Several men in hard hats are operating a giant...</td>\n",
              "      <td>Mehrere Männer mit Schutzhelmen bedienen ein A...</td>\n",
              "    </tr>\n",
              "    <tr>\n",
              "      <th>2</th>\n",
              "      <td>A little girl climbing into a wooden playhouse.</td>\n",
              "      <td>Ein kleines Mädchen klettert in ein Spielhaus ...</td>\n",
              "    </tr>\n",
              "    <tr>\n",
              "      <th>3</th>\n",
              "      <td>A man in a blue shirt is standing on a ladder ...</td>\n",
              "      <td>Ein Mann in einem blauen Hemd steht auf einer ...</td>\n",
              "    </tr>\n",
              "    <tr>\n",
              "      <th>4</th>\n",
              "      <td>Two men are at the stove preparing food.</td>\n",
              "      <td>Zwei Männer stehen am Herd und bereiten Essen zu.</td>\n",
              "    </tr>\n",
              "  </tbody>\n",
              "</table>\n",
              "</div>\n",
              "    <div class=\"colab-df-buttons\">\n",
              "\n",
              "  <div class=\"colab-df-container\">\n",
              "    <button class=\"colab-df-convert\" onclick=\"convertToInteractive('df-0fa1b99e-8ddc-41fe-beda-262e888aaf18')\"\n",
              "            title=\"Convert this dataframe to an interactive table.\"\n",
              "            style=\"display:none;\">\n",
              "\n",
              "  <svg xmlns=\"http://www.w3.org/2000/svg\" height=\"24px\" viewBox=\"0 -960 960 960\">\n",
              "    <path d=\"M120-120v-720h720v720H120Zm60-500h600v-160H180v160Zm220 220h160v-160H400v160Zm0 220h160v-160H400v160ZM180-400h160v-160H180v160Zm440 0h160v-160H620v160ZM180-180h160v-160H180v160Zm440 0h160v-160H620v160Z\"/>\n",
              "  </svg>\n",
              "    </button>\n",
              "\n",
              "  <style>\n",
              "    .colab-df-container {\n",
              "      display:flex;\n",
              "      gap: 12px;\n",
              "    }\n",
              "\n",
              "    .colab-df-convert {\n",
              "      background-color: #E8F0FE;\n",
              "      border: none;\n",
              "      border-radius: 50%;\n",
              "      cursor: pointer;\n",
              "      display: none;\n",
              "      fill: #1967D2;\n",
              "      height: 32px;\n",
              "      padding: 0 0 0 0;\n",
              "      width: 32px;\n",
              "    }\n",
              "\n",
              "    .colab-df-convert:hover {\n",
              "      background-color: #E2EBFA;\n",
              "      box-shadow: 0px 1px 2px rgba(60, 64, 67, 0.3), 0px 1px 3px 1px rgba(60, 64, 67, 0.15);\n",
              "      fill: #174EA6;\n",
              "    }\n",
              "\n",
              "    .colab-df-buttons div {\n",
              "      margin-bottom: 4px;\n",
              "    }\n",
              "\n",
              "    [theme=dark] .colab-df-convert {\n",
              "      background-color: #3B4455;\n",
              "      fill: #D2E3FC;\n",
              "    }\n",
              "\n",
              "    [theme=dark] .colab-df-convert:hover {\n",
              "      background-color: #434B5C;\n",
              "      box-shadow: 0px 1px 3px 1px rgba(0, 0, 0, 0.15);\n",
              "      filter: drop-shadow(0px 1px 2px rgba(0, 0, 0, 0.3));\n",
              "      fill: #FFFFFF;\n",
              "    }\n",
              "  </style>\n",
              "\n",
              "    <script>\n",
              "      const buttonEl =\n",
              "        document.querySelector('#df-0fa1b99e-8ddc-41fe-beda-262e888aaf18 button.colab-df-convert');\n",
              "      buttonEl.style.display =\n",
              "        google.colab.kernel.accessAllowed ? 'block' : 'none';\n",
              "\n",
              "      async function convertToInteractive(key) {\n",
              "        const element = document.querySelector('#df-0fa1b99e-8ddc-41fe-beda-262e888aaf18');\n",
              "        const dataTable =\n",
              "          await google.colab.kernel.invokeFunction('convertToInteractive',\n",
              "                                                    [key], {});\n",
              "        if (!dataTable) return;\n",
              "\n",
              "        const docLinkHtml = 'Like what you see? Visit the ' +\n",
              "          '<a target=\"_blank\" href=https://colab.research.google.com/notebooks/data_table.ipynb>data table notebook</a>'\n",
              "          + ' to learn more about interactive tables.';\n",
              "        element.innerHTML = '';\n",
              "        dataTable['output_type'] = 'display_data';\n",
              "        await google.colab.output.renderOutput(dataTable, element);\n",
              "        const docLink = document.createElement('div');\n",
              "        docLink.innerHTML = docLinkHtml;\n",
              "        element.appendChild(docLink);\n",
              "      }\n",
              "    </script>\n",
              "  </div>\n",
              "\n",
              "\n",
              "<div id=\"df-d074fec1-f8e4-4514-8252-2842a85ce631\">\n",
              "  <button class=\"colab-df-quickchart\" onclick=\"quickchart('df-d074fec1-f8e4-4514-8252-2842a85ce631')\"\n",
              "            title=\"Suggest charts\"\n",
              "            style=\"display:none;\">\n",
              "\n",
              "<svg xmlns=\"http://www.w3.org/2000/svg\" height=\"24px\"viewBox=\"0 0 24 24\"\n",
              "     width=\"24px\">\n",
              "    <g>\n",
              "        <path d=\"M19 3H5c-1.1 0-2 .9-2 2v14c0 1.1.9 2 2 2h14c1.1 0 2-.9 2-2V5c0-1.1-.9-2-2-2zM9 17H7v-7h2v7zm4 0h-2V7h2v10zm4 0h-2v-4h2v4z\"/>\n",
              "    </g>\n",
              "</svg>\n",
              "  </button>\n",
              "\n",
              "<style>\n",
              "  .colab-df-quickchart {\n",
              "      --bg-color: #E8F0FE;\n",
              "      --fill-color: #1967D2;\n",
              "      --hover-bg-color: #E2EBFA;\n",
              "      --hover-fill-color: #174EA6;\n",
              "      --disabled-fill-color: #AAA;\n",
              "      --disabled-bg-color: #DDD;\n",
              "  }\n",
              "\n",
              "  [theme=dark] .colab-df-quickchart {\n",
              "      --bg-color: #3B4455;\n",
              "      --fill-color: #D2E3FC;\n",
              "      --hover-bg-color: #434B5C;\n",
              "      --hover-fill-color: #FFFFFF;\n",
              "      --disabled-bg-color: #3B4455;\n",
              "      --disabled-fill-color: #666;\n",
              "  }\n",
              "\n",
              "  .colab-df-quickchart {\n",
              "    background-color: var(--bg-color);\n",
              "    border: none;\n",
              "    border-radius: 50%;\n",
              "    cursor: pointer;\n",
              "    display: none;\n",
              "    fill: var(--fill-color);\n",
              "    height: 32px;\n",
              "    padding: 0;\n",
              "    width: 32px;\n",
              "  }\n",
              "\n",
              "  .colab-df-quickchart:hover {\n",
              "    background-color: var(--hover-bg-color);\n",
              "    box-shadow: 0 1px 2px rgba(60, 64, 67, 0.3), 0 1px 3px 1px rgba(60, 64, 67, 0.15);\n",
              "    fill: var(--button-hover-fill-color);\n",
              "  }\n",
              "\n",
              "  .colab-df-quickchart-complete:disabled,\n",
              "  .colab-df-quickchart-complete:disabled:hover {\n",
              "    background-color: var(--disabled-bg-color);\n",
              "    fill: var(--disabled-fill-color);\n",
              "    box-shadow: none;\n",
              "  }\n",
              "\n",
              "  .colab-df-spinner {\n",
              "    border: 2px solid var(--fill-color);\n",
              "    border-color: transparent;\n",
              "    border-bottom-color: var(--fill-color);\n",
              "    animation:\n",
              "      spin 1s steps(1) infinite;\n",
              "  }\n",
              "\n",
              "  @keyframes spin {\n",
              "    0% {\n",
              "      border-color: transparent;\n",
              "      border-bottom-color: var(--fill-color);\n",
              "      border-left-color: var(--fill-color);\n",
              "    }\n",
              "    20% {\n",
              "      border-color: transparent;\n",
              "      border-left-color: var(--fill-color);\n",
              "      border-top-color: var(--fill-color);\n",
              "    }\n",
              "    30% {\n",
              "      border-color: transparent;\n",
              "      border-left-color: var(--fill-color);\n",
              "      border-top-color: var(--fill-color);\n",
              "      border-right-color: var(--fill-color);\n",
              "    }\n",
              "    40% {\n",
              "      border-color: transparent;\n",
              "      border-right-color: var(--fill-color);\n",
              "      border-top-color: var(--fill-color);\n",
              "    }\n",
              "    60% {\n",
              "      border-color: transparent;\n",
              "      border-right-color: var(--fill-color);\n",
              "    }\n",
              "    80% {\n",
              "      border-color: transparent;\n",
              "      border-right-color: var(--fill-color);\n",
              "      border-bottom-color: var(--fill-color);\n",
              "    }\n",
              "    90% {\n",
              "      border-color: transparent;\n",
              "      border-bottom-color: var(--fill-color);\n",
              "    }\n",
              "  }\n",
              "</style>\n",
              "\n",
              "  <script>\n",
              "    async function quickchart(key) {\n",
              "      const quickchartButtonEl =\n",
              "        document.querySelector('#' + key + ' button');\n",
              "      quickchartButtonEl.disabled = true;  // To prevent multiple clicks.\n",
              "      quickchartButtonEl.classList.add('colab-df-spinner');\n",
              "      try {\n",
              "        const charts = await google.colab.kernel.invokeFunction(\n",
              "            'suggestCharts', [key], {});\n",
              "      } catch (error) {\n",
              "        console.error('Error during call to suggestCharts:', error);\n",
              "      }\n",
              "      quickchartButtonEl.classList.remove('colab-df-spinner');\n",
              "      quickchartButtonEl.classList.add('colab-df-quickchart-complete');\n",
              "    }\n",
              "    (() => {\n",
              "      let quickchartButtonEl =\n",
              "        document.querySelector('#df-d074fec1-f8e4-4514-8252-2842a85ce631 button');\n",
              "      quickchartButtonEl.style.display =\n",
              "        google.colab.kernel.accessAllowed ? 'block' : 'none';\n",
              "    })();\n",
              "  </script>\n",
              "</div>\n",
              "\n",
              "    </div>\n",
              "  </div>\n"
            ],
            "text/plain": [
              "                                             English  \\\n",
              "0  Two young, White males are outside near many b...   \n",
              "1  Several men in hard hats are operating a giant...   \n",
              "2    A little girl climbing into a wooden playhouse.   \n",
              "3  A man in a blue shirt is standing on a ladder ...   \n",
              "4           Two men are at the stove preparing food.   \n",
              "\n",
              "                                              German  \n",
              "0  Zwei junge weiße Männer sind im Freien in der ...  \n",
              "1  Mehrere Männer mit Schutzhelmen bedienen ein A...  \n",
              "2  Ein kleines Mädchen klettert in ein Spielhaus ...  \n",
              "3  Ein Mann in einem blauen Hemd steht auf einer ...  \n",
              "4  Zwei Männer stehen am Herd und bereiten Essen zu.  "
            ]
          },
          "execution_count": 125,
          "metadata": {},
          "output_type": "execute_result"
        }
      ],
      "source": [
        "train_dataset.head()"
      ]
    },
    {
      "cell_type": "code",
      "execution_count": 126,
      "metadata": {
        "colab": {
          "base_uri": "https://localhost:8080/",
          "height": 206
        },
        "id": "y54QKgrcAi6E",
        "outputId": "9742a355-4939-4097-ffa4-f4f8a3c5acde"
      },
      "outputs": [
        {
          "data": {
            "application/vnd.google.colaboratory.intrinsic+json": {
              "summary": "{\n  \"name\": \"validation_dataset\",\n  \"rows\": 1014,\n  \"fields\": [\n    {\n      \"column\": \"English\",\n      \"properties\": {\n        \"dtype\": \"string\",\n        \"num_unique_values\": 1014,\n        \"samples\": [\n          \"A man slouched in a chair on a city sidewalk girl watching.\",\n          \"A man with a bucket and a girl in a hat on the beach.\",\n          \"Many asian children made a train under a viet nam sign.\"\n        ],\n        \"semantic_type\": \"\",\n        \"description\": \"\"\n      }\n    },\n    {\n      \"column\": \"German\",\n      \"properties\": {\n        \"dtype\": \"string\",\n        \"num_unique_values\": 1014,\n        \"samples\": [\n          \"Ein Mann l\\u00fcmmelt auf einem Gehweg in einer Stadt auf einem Stuhl und sieht den Frauen nach.\",\n          \"Ein Mann mit einem Eimer und ein M\\u00e4dchen mit einem Hut am Strand.\",\n          \"Viele asiatische Kinder bilden einen Zug unter einem Vietnam-Schild.\"\n        ],\n        \"semantic_type\": \"\",\n        \"description\": \"\"\n      }\n    }\n  ]\n}",
              "type": "dataframe",
              "variable_name": "validation_dataset"
            },
            "text/html": [
              "\n",
              "  <div id=\"df-bac72f0b-a068-4b06-b284-44c21d21bf07\" class=\"colab-df-container\">\n",
              "    <div>\n",
              "<style scoped>\n",
              "    .dataframe tbody tr th:only-of-type {\n",
              "        vertical-align: middle;\n",
              "    }\n",
              "\n",
              "    .dataframe tbody tr th {\n",
              "        vertical-align: top;\n",
              "    }\n",
              "\n",
              "    .dataframe thead th {\n",
              "        text-align: right;\n",
              "    }\n",
              "</style>\n",
              "<table border=\"1\" class=\"dataframe\">\n",
              "  <thead>\n",
              "    <tr style=\"text-align: right;\">\n",
              "      <th></th>\n",
              "      <th>English</th>\n",
              "      <th>German</th>\n",
              "    </tr>\n",
              "  </thead>\n",
              "  <tbody>\n",
              "    <tr>\n",
              "      <th>0</th>\n",
              "      <td>A group of men are loading cotton onto a truck</td>\n",
              "      <td>Eine Gruppe von Männern lädt Baumwolle auf ein...</td>\n",
              "    </tr>\n",
              "    <tr>\n",
              "      <th>1</th>\n",
              "      <td>A man sleeping in a green room on a couch.</td>\n",
              "      <td>Ein Mann schläft in einem grünen Raum auf eine...</td>\n",
              "    </tr>\n",
              "    <tr>\n",
              "      <th>2</th>\n",
              "      <td>A boy wearing headphones sits on a woman's sho...</td>\n",
              "      <td>Ein Junge mit Kopfhörern sitzt auf den Schulte...</td>\n",
              "    </tr>\n",
              "    <tr>\n",
              "      <th>3</th>\n",
              "      <td>Two men setting up a blue ice fishing hut on a...</td>\n",
              "      <td>Zwei Männer bauen eine blaue Eisfischerhütte a...</td>\n",
              "    </tr>\n",
              "    <tr>\n",
              "      <th>4</th>\n",
              "      <td>A balding man wearing a red life jacket is sit...</td>\n",
              "      <td>Ein Mann mit beginnender Glatze, der eine rote...</td>\n",
              "    </tr>\n",
              "  </tbody>\n",
              "</table>\n",
              "</div>\n",
              "    <div class=\"colab-df-buttons\">\n",
              "\n",
              "  <div class=\"colab-df-container\">\n",
              "    <button class=\"colab-df-convert\" onclick=\"convertToInteractive('df-bac72f0b-a068-4b06-b284-44c21d21bf07')\"\n",
              "            title=\"Convert this dataframe to an interactive table.\"\n",
              "            style=\"display:none;\">\n",
              "\n",
              "  <svg xmlns=\"http://www.w3.org/2000/svg\" height=\"24px\" viewBox=\"0 -960 960 960\">\n",
              "    <path d=\"M120-120v-720h720v720H120Zm60-500h600v-160H180v160Zm220 220h160v-160H400v160Zm0 220h160v-160H400v160ZM180-400h160v-160H180v160Zm440 0h160v-160H620v160ZM180-180h160v-160H180v160Zm440 0h160v-160H620v160Z\"/>\n",
              "  </svg>\n",
              "    </button>\n",
              "\n",
              "  <style>\n",
              "    .colab-df-container {\n",
              "      display:flex;\n",
              "      gap: 12px;\n",
              "    }\n",
              "\n",
              "    .colab-df-convert {\n",
              "      background-color: #E8F0FE;\n",
              "      border: none;\n",
              "      border-radius: 50%;\n",
              "      cursor: pointer;\n",
              "      display: none;\n",
              "      fill: #1967D2;\n",
              "      height: 32px;\n",
              "      padding: 0 0 0 0;\n",
              "      width: 32px;\n",
              "    }\n",
              "\n",
              "    .colab-df-convert:hover {\n",
              "      background-color: #E2EBFA;\n",
              "      box-shadow: 0px 1px 2px rgba(60, 64, 67, 0.3), 0px 1px 3px 1px rgba(60, 64, 67, 0.15);\n",
              "      fill: #174EA6;\n",
              "    }\n",
              "\n",
              "    .colab-df-buttons div {\n",
              "      margin-bottom: 4px;\n",
              "    }\n",
              "\n",
              "    [theme=dark] .colab-df-convert {\n",
              "      background-color: #3B4455;\n",
              "      fill: #D2E3FC;\n",
              "    }\n",
              "\n",
              "    [theme=dark] .colab-df-convert:hover {\n",
              "      background-color: #434B5C;\n",
              "      box-shadow: 0px 1px 3px 1px rgba(0, 0, 0, 0.15);\n",
              "      filter: drop-shadow(0px 1px 2px rgba(0, 0, 0, 0.3));\n",
              "      fill: #FFFFFF;\n",
              "    }\n",
              "  </style>\n",
              "\n",
              "    <script>\n",
              "      const buttonEl =\n",
              "        document.querySelector('#df-bac72f0b-a068-4b06-b284-44c21d21bf07 button.colab-df-convert');\n",
              "      buttonEl.style.display =\n",
              "        google.colab.kernel.accessAllowed ? 'block' : 'none';\n",
              "\n",
              "      async function convertToInteractive(key) {\n",
              "        const element = document.querySelector('#df-bac72f0b-a068-4b06-b284-44c21d21bf07');\n",
              "        const dataTable =\n",
              "          await google.colab.kernel.invokeFunction('convertToInteractive',\n",
              "                                                    [key], {});\n",
              "        if (!dataTable) return;\n",
              "\n",
              "        const docLinkHtml = 'Like what you see? Visit the ' +\n",
              "          '<a target=\"_blank\" href=https://colab.research.google.com/notebooks/data_table.ipynb>data table notebook</a>'\n",
              "          + ' to learn more about interactive tables.';\n",
              "        element.innerHTML = '';\n",
              "        dataTable['output_type'] = 'display_data';\n",
              "        await google.colab.output.renderOutput(dataTable, element);\n",
              "        const docLink = document.createElement('div');\n",
              "        docLink.innerHTML = docLinkHtml;\n",
              "        element.appendChild(docLink);\n",
              "      }\n",
              "    </script>\n",
              "  </div>\n",
              "\n",
              "\n",
              "<div id=\"df-3694682d-b971-4054-992c-30a973bfeba4\">\n",
              "  <button class=\"colab-df-quickchart\" onclick=\"quickchart('df-3694682d-b971-4054-992c-30a973bfeba4')\"\n",
              "            title=\"Suggest charts\"\n",
              "            style=\"display:none;\">\n",
              "\n",
              "<svg xmlns=\"http://www.w3.org/2000/svg\" height=\"24px\"viewBox=\"0 0 24 24\"\n",
              "     width=\"24px\">\n",
              "    <g>\n",
              "        <path d=\"M19 3H5c-1.1 0-2 .9-2 2v14c0 1.1.9 2 2 2h14c1.1 0 2-.9 2-2V5c0-1.1-.9-2-2-2zM9 17H7v-7h2v7zm4 0h-2V7h2v10zm4 0h-2v-4h2v4z\"/>\n",
              "    </g>\n",
              "</svg>\n",
              "  </button>\n",
              "\n",
              "<style>\n",
              "  .colab-df-quickchart {\n",
              "      --bg-color: #E8F0FE;\n",
              "      --fill-color: #1967D2;\n",
              "      --hover-bg-color: #E2EBFA;\n",
              "      --hover-fill-color: #174EA6;\n",
              "      --disabled-fill-color: #AAA;\n",
              "      --disabled-bg-color: #DDD;\n",
              "  }\n",
              "\n",
              "  [theme=dark] .colab-df-quickchart {\n",
              "      --bg-color: #3B4455;\n",
              "      --fill-color: #D2E3FC;\n",
              "      --hover-bg-color: #434B5C;\n",
              "      --hover-fill-color: #FFFFFF;\n",
              "      --disabled-bg-color: #3B4455;\n",
              "      --disabled-fill-color: #666;\n",
              "  }\n",
              "\n",
              "  .colab-df-quickchart {\n",
              "    background-color: var(--bg-color);\n",
              "    border: none;\n",
              "    border-radius: 50%;\n",
              "    cursor: pointer;\n",
              "    display: none;\n",
              "    fill: var(--fill-color);\n",
              "    height: 32px;\n",
              "    padding: 0;\n",
              "    width: 32px;\n",
              "  }\n",
              "\n",
              "  .colab-df-quickchart:hover {\n",
              "    background-color: var(--hover-bg-color);\n",
              "    box-shadow: 0 1px 2px rgba(60, 64, 67, 0.3), 0 1px 3px 1px rgba(60, 64, 67, 0.15);\n",
              "    fill: var(--button-hover-fill-color);\n",
              "  }\n",
              "\n",
              "  .colab-df-quickchart-complete:disabled,\n",
              "  .colab-df-quickchart-complete:disabled:hover {\n",
              "    background-color: var(--disabled-bg-color);\n",
              "    fill: var(--disabled-fill-color);\n",
              "    box-shadow: none;\n",
              "  }\n",
              "\n",
              "  .colab-df-spinner {\n",
              "    border: 2px solid var(--fill-color);\n",
              "    border-color: transparent;\n",
              "    border-bottom-color: var(--fill-color);\n",
              "    animation:\n",
              "      spin 1s steps(1) infinite;\n",
              "  }\n",
              "\n",
              "  @keyframes spin {\n",
              "    0% {\n",
              "      border-color: transparent;\n",
              "      border-bottom-color: var(--fill-color);\n",
              "      border-left-color: var(--fill-color);\n",
              "    }\n",
              "    20% {\n",
              "      border-color: transparent;\n",
              "      border-left-color: var(--fill-color);\n",
              "      border-top-color: var(--fill-color);\n",
              "    }\n",
              "    30% {\n",
              "      border-color: transparent;\n",
              "      border-left-color: var(--fill-color);\n",
              "      border-top-color: var(--fill-color);\n",
              "      border-right-color: var(--fill-color);\n",
              "    }\n",
              "    40% {\n",
              "      border-color: transparent;\n",
              "      border-right-color: var(--fill-color);\n",
              "      border-top-color: var(--fill-color);\n",
              "    }\n",
              "    60% {\n",
              "      border-color: transparent;\n",
              "      border-right-color: var(--fill-color);\n",
              "    }\n",
              "    80% {\n",
              "      border-color: transparent;\n",
              "      border-right-color: var(--fill-color);\n",
              "      border-bottom-color: var(--fill-color);\n",
              "    }\n",
              "    90% {\n",
              "      border-color: transparent;\n",
              "      border-bottom-color: var(--fill-color);\n",
              "    }\n",
              "  }\n",
              "</style>\n",
              "\n",
              "  <script>\n",
              "    async function quickchart(key) {\n",
              "      const quickchartButtonEl =\n",
              "        document.querySelector('#' + key + ' button');\n",
              "      quickchartButtonEl.disabled = true;  // To prevent multiple clicks.\n",
              "      quickchartButtonEl.classList.add('colab-df-spinner');\n",
              "      try {\n",
              "        const charts = await google.colab.kernel.invokeFunction(\n",
              "            'suggestCharts', [key], {});\n",
              "      } catch (error) {\n",
              "        console.error('Error during call to suggestCharts:', error);\n",
              "      }\n",
              "      quickchartButtonEl.classList.remove('colab-df-spinner');\n",
              "      quickchartButtonEl.classList.add('colab-df-quickchart-complete');\n",
              "    }\n",
              "    (() => {\n",
              "      let quickchartButtonEl =\n",
              "        document.querySelector('#df-3694682d-b971-4054-992c-30a973bfeba4 button');\n",
              "      quickchartButtonEl.style.display =\n",
              "        google.colab.kernel.accessAllowed ? 'block' : 'none';\n",
              "    })();\n",
              "  </script>\n",
              "</div>\n",
              "\n",
              "    </div>\n",
              "  </div>\n"
            ],
            "text/plain": [
              "                                             English  \\\n",
              "0     A group of men are loading cotton onto a truck   \n",
              "1         A man sleeping in a green room on a couch.   \n",
              "2  A boy wearing headphones sits on a woman's sho...   \n",
              "3  Two men setting up a blue ice fishing hut on a...   \n",
              "4  A balding man wearing a red life jacket is sit...   \n",
              "\n",
              "                                              German  \n",
              "0  Eine Gruppe von Männern lädt Baumwolle auf ein...  \n",
              "1  Ein Mann schläft in einem grünen Raum auf eine...  \n",
              "2  Ein Junge mit Kopfhörern sitzt auf den Schulte...  \n",
              "3  Zwei Männer bauen eine blaue Eisfischerhütte a...  \n",
              "4  Ein Mann mit beginnender Glatze, der eine rote...  "
            ]
          },
          "execution_count": 126,
          "metadata": {},
          "output_type": "execute_result"
        }
      ],
      "source": [
        "validation_dataset.head()"
      ]
    },
    {
      "cell_type": "code",
      "execution_count": 127,
      "metadata": {
        "colab": {
          "base_uri": "https://localhost:8080/",
          "height": 206
        },
        "id": "VBIJQdPSAlUw",
        "outputId": "5a2306cb-5a59-4cbd-fb89-5a15452859ad"
      },
      "outputs": [
        {
          "data": {
            "application/vnd.google.colaboratory.intrinsic+json": {
              "summary": "{\n  \"name\": \"test_dataset\",\n  \"rows\": 1000,\n  \"fields\": [\n    {\n      \"column\": \"English\",\n      \"properties\": {\n        \"dtype\": \"string\",\n        \"num_unique_values\": 1000,\n        \"samples\": [\n          \"Four black men are sitting on the steps of a church.\",\n          \"A man in an orange shirt and a blond boy are riding with other people on a \\\"Pullman\\\" vehicle.\",\n          \"A man wearing a black hat taking a photo in a busy street.\"\n        ],\n        \"semantic_type\": \"\",\n        \"description\": \"\"\n      }\n    },\n    {\n      \"column\": \"German\",\n      \"properties\": {\n        \"dtype\": \"string\",\n        \"num_unique_values\": 1000,\n        \"samples\": [\n          \"Vier schwarze M\\u00e4nner sitzen auf den Stufen einer Kirche.\",\n          \"Ein Mann in einem orangen Shirt und ein blonder Junge fahren mit anderen Personen in einem \\\"Pullman\\\".\",\n          \"Ein Mann mit einer schwarzen M\\u00fctze macht ein Foto auf einer belebten Stra\\u00dfe.\"\n        ],\n        \"semantic_type\": \"\",\n        \"description\": \"\"\n      }\n    }\n  ]\n}",
              "type": "dataframe",
              "variable_name": "test_dataset"
            },
            "text/html": [
              "\n",
              "  <div id=\"df-6fefe1ad-7809-4d00-9b6f-46760708796d\" class=\"colab-df-container\">\n",
              "    <div>\n",
              "<style scoped>\n",
              "    .dataframe tbody tr th:only-of-type {\n",
              "        vertical-align: middle;\n",
              "    }\n",
              "\n",
              "    .dataframe tbody tr th {\n",
              "        vertical-align: top;\n",
              "    }\n",
              "\n",
              "    .dataframe thead th {\n",
              "        text-align: right;\n",
              "    }\n",
              "</style>\n",
              "<table border=\"1\" class=\"dataframe\">\n",
              "  <thead>\n",
              "    <tr style=\"text-align: right;\">\n",
              "      <th></th>\n",
              "      <th>English</th>\n",
              "      <th>German</th>\n",
              "    </tr>\n",
              "  </thead>\n",
              "  <tbody>\n",
              "    <tr>\n",
              "      <th>0</th>\n",
              "      <td>A man in an orange hat starring at something.</td>\n",
              "      <td>Ein Mann mit einem orangefarbenen Hut, der etw...</td>\n",
              "    </tr>\n",
              "    <tr>\n",
              "      <th>1</th>\n",
              "      <td>A Boston Terrier is running on lush green gras...</td>\n",
              "      <td>Ein Boston Terrier läuft über saftig-grünes Gr...</td>\n",
              "    </tr>\n",
              "    <tr>\n",
              "      <th>2</th>\n",
              "      <td>A girl in karate uniform breaking a stick with...</td>\n",
              "      <td>Ein Mädchen in einem Karateanzug bricht ein Br...</td>\n",
              "    </tr>\n",
              "    <tr>\n",
              "      <th>3</th>\n",
              "      <td>Five people wearing winter jackets and helmets...</td>\n",
              "      <td>Fünf Leute in Winterjacken und mit Helmen steh...</td>\n",
              "    </tr>\n",
              "    <tr>\n",
              "      <th>4</th>\n",
              "      <td>People are fixing the roof of a house.</td>\n",
              "      <td>Leute Reparieren das Dach eines Hauses.</td>\n",
              "    </tr>\n",
              "  </tbody>\n",
              "</table>\n",
              "</div>\n",
              "    <div class=\"colab-df-buttons\">\n",
              "\n",
              "  <div class=\"colab-df-container\">\n",
              "    <button class=\"colab-df-convert\" onclick=\"convertToInteractive('df-6fefe1ad-7809-4d00-9b6f-46760708796d')\"\n",
              "            title=\"Convert this dataframe to an interactive table.\"\n",
              "            style=\"display:none;\">\n",
              "\n",
              "  <svg xmlns=\"http://www.w3.org/2000/svg\" height=\"24px\" viewBox=\"0 -960 960 960\">\n",
              "    <path d=\"M120-120v-720h720v720H120Zm60-500h600v-160H180v160Zm220 220h160v-160H400v160Zm0 220h160v-160H400v160ZM180-400h160v-160H180v160Zm440 0h160v-160H620v160ZM180-180h160v-160H180v160Zm440 0h160v-160H620v160Z\"/>\n",
              "  </svg>\n",
              "    </button>\n",
              "\n",
              "  <style>\n",
              "    .colab-df-container {\n",
              "      display:flex;\n",
              "      gap: 12px;\n",
              "    }\n",
              "\n",
              "    .colab-df-convert {\n",
              "      background-color: #E8F0FE;\n",
              "      border: none;\n",
              "      border-radius: 50%;\n",
              "      cursor: pointer;\n",
              "      display: none;\n",
              "      fill: #1967D2;\n",
              "      height: 32px;\n",
              "      padding: 0 0 0 0;\n",
              "      width: 32px;\n",
              "    }\n",
              "\n",
              "    .colab-df-convert:hover {\n",
              "      background-color: #E2EBFA;\n",
              "      box-shadow: 0px 1px 2px rgba(60, 64, 67, 0.3), 0px 1px 3px 1px rgba(60, 64, 67, 0.15);\n",
              "      fill: #174EA6;\n",
              "    }\n",
              "\n",
              "    .colab-df-buttons div {\n",
              "      margin-bottom: 4px;\n",
              "    }\n",
              "\n",
              "    [theme=dark] .colab-df-convert {\n",
              "      background-color: #3B4455;\n",
              "      fill: #D2E3FC;\n",
              "    }\n",
              "\n",
              "    [theme=dark] .colab-df-convert:hover {\n",
              "      background-color: #434B5C;\n",
              "      box-shadow: 0px 1px 3px 1px rgba(0, 0, 0, 0.15);\n",
              "      filter: drop-shadow(0px 1px 2px rgba(0, 0, 0, 0.3));\n",
              "      fill: #FFFFFF;\n",
              "    }\n",
              "  </style>\n",
              "\n",
              "    <script>\n",
              "      const buttonEl =\n",
              "        document.querySelector('#df-6fefe1ad-7809-4d00-9b6f-46760708796d button.colab-df-convert');\n",
              "      buttonEl.style.display =\n",
              "        google.colab.kernel.accessAllowed ? 'block' : 'none';\n",
              "\n",
              "      async function convertToInteractive(key) {\n",
              "        const element = document.querySelector('#df-6fefe1ad-7809-4d00-9b6f-46760708796d');\n",
              "        const dataTable =\n",
              "          await google.colab.kernel.invokeFunction('convertToInteractive',\n",
              "                                                    [key], {});\n",
              "        if (!dataTable) return;\n",
              "\n",
              "        const docLinkHtml = 'Like what you see? Visit the ' +\n",
              "          '<a target=\"_blank\" href=https://colab.research.google.com/notebooks/data_table.ipynb>data table notebook</a>'\n",
              "          + ' to learn more about interactive tables.';\n",
              "        element.innerHTML = '';\n",
              "        dataTable['output_type'] = 'display_data';\n",
              "        await google.colab.output.renderOutput(dataTable, element);\n",
              "        const docLink = document.createElement('div');\n",
              "        docLink.innerHTML = docLinkHtml;\n",
              "        element.appendChild(docLink);\n",
              "      }\n",
              "    </script>\n",
              "  </div>\n",
              "\n",
              "\n",
              "<div id=\"df-831a5779-7c43-4f6d-a9d3-c186b70b88fa\">\n",
              "  <button class=\"colab-df-quickchart\" onclick=\"quickchart('df-831a5779-7c43-4f6d-a9d3-c186b70b88fa')\"\n",
              "            title=\"Suggest charts\"\n",
              "            style=\"display:none;\">\n",
              "\n",
              "<svg xmlns=\"http://www.w3.org/2000/svg\" height=\"24px\"viewBox=\"0 0 24 24\"\n",
              "     width=\"24px\">\n",
              "    <g>\n",
              "        <path d=\"M19 3H5c-1.1 0-2 .9-2 2v14c0 1.1.9 2 2 2h14c1.1 0 2-.9 2-2V5c0-1.1-.9-2-2-2zM9 17H7v-7h2v7zm4 0h-2V7h2v10zm4 0h-2v-4h2v4z\"/>\n",
              "    </g>\n",
              "</svg>\n",
              "  </button>\n",
              "\n",
              "<style>\n",
              "  .colab-df-quickchart {\n",
              "      --bg-color: #E8F0FE;\n",
              "      --fill-color: #1967D2;\n",
              "      --hover-bg-color: #E2EBFA;\n",
              "      --hover-fill-color: #174EA6;\n",
              "      --disabled-fill-color: #AAA;\n",
              "      --disabled-bg-color: #DDD;\n",
              "  }\n",
              "\n",
              "  [theme=dark] .colab-df-quickchart {\n",
              "      --bg-color: #3B4455;\n",
              "      --fill-color: #D2E3FC;\n",
              "      --hover-bg-color: #434B5C;\n",
              "      --hover-fill-color: #FFFFFF;\n",
              "      --disabled-bg-color: #3B4455;\n",
              "      --disabled-fill-color: #666;\n",
              "  }\n",
              "\n",
              "  .colab-df-quickchart {\n",
              "    background-color: var(--bg-color);\n",
              "    border: none;\n",
              "    border-radius: 50%;\n",
              "    cursor: pointer;\n",
              "    display: none;\n",
              "    fill: var(--fill-color);\n",
              "    height: 32px;\n",
              "    padding: 0;\n",
              "    width: 32px;\n",
              "  }\n",
              "\n",
              "  .colab-df-quickchart:hover {\n",
              "    background-color: var(--hover-bg-color);\n",
              "    box-shadow: 0 1px 2px rgba(60, 64, 67, 0.3), 0 1px 3px 1px rgba(60, 64, 67, 0.15);\n",
              "    fill: var(--button-hover-fill-color);\n",
              "  }\n",
              "\n",
              "  .colab-df-quickchart-complete:disabled,\n",
              "  .colab-df-quickchart-complete:disabled:hover {\n",
              "    background-color: var(--disabled-bg-color);\n",
              "    fill: var(--disabled-fill-color);\n",
              "    box-shadow: none;\n",
              "  }\n",
              "\n",
              "  .colab-df-spinner {\n",
              "    border: 2px solid var(--fill-color);\n",
              "    border-color: transparent;\n",
              "    border-bottom-color: var(--fill-color);\n",
              "    animation:\n",
              "      spin 1s steps(1) infinite;\n",
              "  }\n",
              "\n",
              "  @keyframes spin {\n",
              "    0% {\n",
              "      border-color: transparent;\n",
              "      border-bottom-color: var(--fill-color);\n",
              "      border-left-color: var(--fill-color);\n",
              "    }\n",
              "    20% {\n",
              "      border-color: transparent;\n",
              "      border-left-color: var(--fill-color);\n",
              "      border-top-color: var(--fill-color);\n",
              "    }\n",
              "    30% {\n",
              "      border-color: transparent;\n",
              "      border-left-color: var(--fill-color);\n",
              "      border-top-color: var(--fill-color);\n",
              "      border-right-color: var(--fill-color);\n",
              "    }\n",
              "    40% {\n",
              "      border-color: transparent;\n",
              "      border-right-color: var(--fill-color);\n",
              "      border-top-color: var(--fill-color);\n",
              "    }\n",
              "    60% {\n",
              "      border-color: transparent;\n",
              "      border-right-color: var(--fill-color);\n",
              "    }\n",
              "    80% {\n",
              "      border-color: transparent;\n",
              "      border-right-color: var(--fill-color);\n",
              "      border-bottom-color: var(--fill-color);\n",
              "    }\n",
              "    90% {\n",
              "      border-color: transparent;\n",
              "      border-bottom-color: var(--fill-color);\n",
              "    }\n",
              "  }\n",
              "</style>\n",
              "\n",
              "  <script>\n",
              "    async function quickchart(key) {\n",
              "      const quickchartButtonEl =\n",
              "        document.querySelector('#' + key + ' button');\n",
              "      quickchartButtonEl.disabled = true;  // To prevent multiple clicks.\n",
              "      quickchartButtonEl.classList.add('colab-df-spinner');\n",
              "      try {\n",
              "        const charts = await google.colab.kernel.invokeFunction(\n",
              "            'suggestCharts', [key], {});\n",
              "      } catch (error) {\n",
              "        console.error('Error during call to suggestCharts:', error);\n",
              "      }\n",
              "      quickchartButtonEl.classList.remove('colab-df-spinner');\n",
              "      quickchartButtonEl.classList.add('colab-df-quickchart-complete');\n",
              "    }\n",
              "    (() => {\n",
              "      let quickchartButtonEl =\n",
              "        document.querySelector('#df-831a5779-7c43-4f6d-a9d3-c186b70b88fa button');\n",
              "      quickchartButtonEl.style.display =\n",
              "        google.colab.kernel.accessAllowed ? 'block' : 'none';\n",
              "    })();\n",
              "  </script>\n",
              "</div>\n",
              "\n",
              "    </div>\n",
              "  </div>\n"
            ],
            "text/plain": [
              "                                             English  \\\n",
              "0      A man in an orange hat starring at something.   \n",
              "1  A Boston Terrier is running on lush green gras...   \n",
              "2  A girl in karate uniform breaking a stick with...   \n",
              "3  Five people wearing winter jackets and helmets...   \n",
              "4             People are fixing the roof of a house.   \n",
              "\n",
              "                                              German  \n",
              "0  Ein Mann mit einem orangefarbenen Hut, der etw...  \n",
              "1  Ein Boston Terrier läuft über saftig-grünes Gr...  \n",
              "2  Ein Mädchen in einem Karateanzug bricht ein Br...  \n",
              "3  Fünf Leute in Winterjacken und mit Helmen steh...  \n",
              "4            Leute Reparieren das Dach eines Hauses.  "
            ]
          },
          "execution_count": 127,
          "metadata": {},
          "output_type": "execute_result"
        }
      ],
      "source": [
        "test_dataset.head()"
      ]
    },
    {
      "cell_type": "code",
      "execution_count": 128,
      "metadata": {
        "colab": {
          "base_uri": "https://localhost:8080/"
        },
        "id": "zkuNpWTJAsLY",
        "outputId": "4cb38bfb-d4ae-4585-eb4e-faf39d3aa66e"
      },
      "outputs": [
        {
          "name": "stdout",
          "output_type": "stream",
          "text": [
            "Number of training examples: 29000\n",
            "Number of validation examples: 1014\n",
            "Number of testing examples: 1000\n"
          ]
        }
      ],
      "source": [
        "print(f\"Number of training examples: {len(train_dataset)}\")\n",
        "print(f\"Number of validation examples: {len(validation_dataset)}\")\n",
        "print(f\"Number of testing examples: {len(test_dataset)}\")"
      ]
    },
    {
      "cell_type": "markdown",
      "metadata": {
        "id": "z1CR4hi3mNJa"
      },
      "source": [
        "### Data Preprocessing"
      ]
    },
    {
      "cell_type": "code",
      "execution_count": 129,
      "metadata": {
        "id": "e7gFjFrvEZiU"
      },
      "outputs": [],
      "source": [
        "def tokenize(sentence):\n",
        "  return sentence.lower().split()"
      ]
    },
    {
      "cell_type": "code",
      "execution_count": 130,
      "metadata": {
        "id": "uHfsBMNbEoUH"
      },
      "outputs": [],
      "source": [
        "train_data = [(tokenize(src), tokenize(trg)) for src, trg in zip(train_dataset['English'], train_dataset['German'])]\n",
        "validation_data = [(tokenize(src), tokenize(trg)) for src, trg in zip(validation_dataset['English'], validation_dataset['German'])]\n",
        "test_data = [(tokenize(src), tokenize(trg)) for src, trg in zip(test_dataset['English'], test_dataset['German'])]"
      ]
    },
    {
      "cell_type": "code",
      "execution_count": 131,
      "metadata": {
        "colab": {
          "base_uri": "https://localhost:8080/"
        },
        "id": "70NEJBvf3LO7",
        "outputId": "888c56ac-c233-468c-80df-dd94b645e78d"
      },
      "outputs": [
        {
          "data": {
            "text/plain": [
              "(['two',\n",
              "  'young,',\n",
              "  'white',\n",
              "  'males',\n",
              "  'are',\n",
              "  'outside',\n",
              "  'near',\n",
              "  'many',\n",
              "  'bushes.'],\n",
              " ['zwei',\n",
              "  'junge',\n",
              "  'weiße',\n",
              "  'männer',\n",
              "  'sind',\n",
              "  'im',\n",
              "  'freien',\n",
              "  'in',\n",
              "  'der',\n",
              "  'nähe',\n",
              "  'vieler',\n",
              "  'büsche.'])"
            ]
          },
          "execution_count": 131,
          "metadata": {},
          "output_type": "execute_result"
        }
      ],
      "source": [
        "train_data[0]"
      ]
    },
    {
      "cell_type": "code",
      "execution_count": 132,
      "metadata": {
        "colab": {
          "base_uri": "https://localhost:8080/"
        },
        "id": "Q4qFSIm33PDQ",
        "outputId": "5576f0c0-2a23-4a0b-b17c-589a0d667ef8"
      },
      "outputs": [
        {
          "data": {
            "text/plain": [
              "(['a', 'group', 'of', 'men', 'are', 'loading', 'cotton', 'onto', 'a', 'truck'],\n",
              " ['eine',\n",
              "  'gruppe',\n",
              "  'von',\n",
              "  'männern',\n",
              "  'lädt',\n",
              "  'baumwolle',\n",
              "  'auf',\n",
              "  'einen',\n",
              "  'lastwagen'])"
            ]
          },
          "execution_count": 132,
          "metadata": {},
          "output_type": "execute_result"
        }
      ],
      "source": [
        "test_data[0]"
      ]
    },
    {
      "cell_type": "code",
      "execution_count": 133,
      "metadata": {
        "id": "1VCfKaytyDcF"
      },
      "outputs": [],
      "source": [
        "# 독일어(Deutsch) 문장을 토큰화 하는 함수 (순서를 뒤집지 않음)\n",
        "def tokenize_de(text):\n",
        "    return [token.text for token in text]\n",
        "\n",
        "# 영어(English) 문장을 토큰화 하는 함수\n",
        "def tokenize_en(text):\n",
        "    return [token.text for token in text]"
      ]
    },
    {
      "cell_type": "code",
      "execution_count": 134,
      "metadata": {
        "colab": {
          "base_uri": "https://localhost:8080/"
        },
        "id": "hbsvuW_s8Z_C",
        "outputId": "8dfb04db-9e21-4947-a374-48db7742d01b"
      },
      "outputs": [
        {
          "data": {
            "text/plain": [
              "(['two',\n",
              "  'young,',\n",
              "  'white',\n",
              "  'males',\n",
              "  'are',\n",
              "  'outside',\n",
              "  'near',\n",
              "  'many',\n",
              "  'bushes.'],\n",
              " ['zwei',\n",
              "  'junge',\n",
              "  'weiße',\n",
              "  'männer',\n",
              "  'sind',\n",
              "  'im',\n",
              "  'freien',\n",
              "  'in',\n",
              "  'der',\n",
              "  'nähe',\n",
              "  'vieler',\n",
              "  'büsche.'])"
            ]
          },
          "execution_count": 134,
          "metadata": {},
          "output_type": "execute_result"
        }
      ],
      "source": [
        "train_data[0]"
      ]
    },
    {
      "cell_type": "code",
      "execution_count": 135,
      "metadata": {
        "id": "nS0E7t8O9FBM"
      },
      "outputs": [],
      "source": [
        "SRC = Field(tokenize=tokenize_de, init_token=\"<sos>\", eos_token=\"<eos>\", lower=True, batch_first=True)\n",
        "TRG = Field(tokenize=tokenize_en, init_token=\"<sos\", eos_token=\"<eos>\", lower=True, batch_first=True)\n",
        "train_examples = [Example.fromlist([src, trg], fields=[('src', SRC), ('trg', TRG)]) for trg, src in train_data]\n",
        "train_dataset = Dataset(train_examples, fields={'src': SRC, 'trg': TRG})\n",
        "\n",
        "SRC.build_vocab(train_dataset, min_freq=2)\n",
        "TRG.build_vocab(train_dataset, min_freq=2)"
      ]
    },
    {
      "cell_type": "code",
      "execution_count": 136,
      "metadata": {
        "colab": {
          "base_uri": "https://localhost:8080/"
        },
        "id": "9Wx7Ki249ge2",
        "outputId": "c8ed5f4c-de08-4a0e-8b50-f141284fdeb3"
      },
      "outputs": [
        {
          "name": "stdout",
          "output_type": "stream",
          "text": [
            "len(SRC): 9597\n",
            "len(TRG): 7704\n"
          ]
        }
      ],
      "source": [
        "print(f\"len(SRC): {len(SRC.vocab)}\")\n",
        "print(f\"len(TRG): {len(TRG.vocab)}\")"
      ]
    },
    {
      "cell_type": "code",
      "execution_count": 137,
      "metadata": {
        "colab": {
          "base_uri": "https://localhost:8080/"
        },
        "id": "THMqygrr9lau",
        "outputId": "d94656a5-dd54-4257-9c7e-319584f1cfa5"
      },
      "outputs": [
        {
          "data": {
            "text/plain": [
              "['<unk>',\n",
              " '<pad>',\n",
              " '<sos>',\n",
              " '<eos>',\n",
              " 'ein',\n",
              " 'einem',\n",
              " 'in',\n",
              " 'eine',\n",
              " 'und',\n",
              " 'mit']"
            ]
          },
          "execution_count": 137,
          "metadata": {},
          "output_type": "execute_result"
        }
      ],
      "source": [
        "SRC.vocab.itos[:10]"
      ]
    },
    {
      "cell_type": "code",
      "execution_count": 138,
      "metadata": {
        "colab": {
          "base_uri": "https://localhost:8080/"
        },
        "id": "6QZEhDICAV6X",
        "outputId": "5209c4e1-fcfd-4fa6-dabc-c6c144848d6b"
      },
      "outputs": [
        {
          "data": {
            "text/plain": [
              "['<unk>', '<pad>', '<sos', '<eos>', 'a', 'in', 'the', 'on', 'man', 'is']"
            ]
          },
          "execution_count": 138,
          "metadata": {},
          "output_type": "execute_result"
        }
      ],
      "source": [
        "TRG.vocab.itos[:10]"
      ]
    },
    {
      "cell_type": "code",
      "execution_count": 139,
      "metadata": {
        "colab": {
          "base_uri": "https://localhost:8080/"
        },
        "id": "W5hMrsZY1R0T",
        "outputId": "998daf6d-e468-4f1a-f4b7-8c5639d68827"
      },
      "outputs": [
        {
          "name": "stdout",
          "output_type": "stream",
          "text": [
            "0\n",
            "1\n",
            "0\n",
            "0\n",
            "5039\n",
            "2798\n"
          ]
        }
      ],
      "source": [
        "print(TRG.vocab.stoi[\"abcabc\"])\n",
        "print(TRG.vocab.stoi[TRG.pad_token])\n",
        "print(TRG.vocab.stoi[\"\"])\n",
        "print(TRG.vocab.stoi[\"\"])\n",
        "print(TRG.vocab.stoi[\"hello\"])\n",
        "print(TRG.vocab.stoi[\"world\"])"
      ]
    },
    {
      "cell_type": "code",
      "execution_count": 140,
      "metadata": {
        "colab": {
          "base_uri": "https://localhost:8080/"
        },
        "id": "ldkCJS5R-DD9",
        "outputId": "5a7341eb-b5bb-46b2-8534-bfa628eb0cbe"
      },
      "outputs": [
        {
          "data": {
            "text/plain": [
              "29000"
            ]
          },
          "execution_count": 140,
          "metadata": {},
          "output_type": "execute_result"
        }
      ],
      "source": [
        "len(train_examples)"
      ]
    },
    {
      "cell_type": "code",
      "execution_count": 141,
      "metadata": {
        "colab": {
          "base_uri": "https://localhost:8080/"
        },
        "id": "XNMsM22eAgRQ",
        "outputId": "66f2bd2b-e21f-431b-bb6e-29454015d7b5"
      },
      "outputs": [
        {
          "name": "stdout",
          "output_type": "stream",
          "text": [
            "Validation Dataset 크기: 1014\n",
            "Test Dataset 크기: 1014\n",
            "Validation 데이터 첫 번째 예시의 src: ['eine', 'gruppe', 'von', 'männern', 'lädt', 'baumwolle', 'auf', 'einen', 'lastwagen']\n",
            "Validation 데이터 첫 번째 예시의 tgt: ['a', 'group', 'of', 'men', 'are', 'loading', 'cotton', 'onto', 'a', 'truck']\n",
            "Test 데이터 첫 번째 예시의 src: ['eine', 'gruppe', 'von', 'männern', 'lädt', 'baumwolle', 'auf', 'einen', 'lastwagen']\n"
          ]
        }
      ],
      "source": [
        "validation_examples = [Example.fromlist([src, trg], fields=[('src', SRC), ('trg', TRG)]) for trg, src in validation_data]\n",
        "validation_dataset = Dataset(validation_examples, fields={'src': SRC, 'trg': TRG})\n",
        "\n",
        "test_examples = [Example.fromlist([src, trg], fields=[('src', SRC), ('trg', TRG)]) for trg, src in test_data]\n",
        "test_dataset = Dataset(test_examples, fields={'src': SRC, 'trg': TRG})\n",
        "\n",
        "# Dataset 내용 확인\n",
        "print(\"Validation Dataset 크기:\", len(validation_dataset))\n",
        "print(\"Test Dataset 크기:\", len(test_dataset))\n",
        "\n",
        "# 첫 번째 예시 데이터 확인\n",
        "print(\"Validation 데이터 첫 번째 예시의 src:\", validation_dataset[0].src)\n",
        "print(\"Validation 데이터 첫 번째 예시의 tgt:\", validation_dataset[0].trg)\n",
        "print(\"Test 데이터 첫 번째 예시의 src:\", test_dataset[0].src)"
      ]
    },
    {
      "cell_type": "code",
      "execution_count": 142,
      "metadata": {
        "id": "HwNurnAQints"
      },
      "outputs": [],
      "source": [
        "def sort_key(ex):\n",
        "  return len(ex.src)"
      ]
    },
    {
      "cell_type": "code",
      "execution_count": 143,
      "metadata": {
        "id": "6Pm-4CC81plk"
      },
      "outputs": [],
      "source": [
        "device = torch.device('cuda' if torch.cuda.is_available() else 'cpu')\n",
        "\n",
        "BATCH_SIZE = 128\n",
        "\n",
        "train_iterator, valid_iterator, test_iterator = BucketIterator.splits(\n",
        "    (train_dataset, validation_dataset, test_dataset),\n",
        "    batch_size=BATCH_SIZE,\n",
        "    device=device,\n",
        "    sort_key=sort_key\n",
        ")"
      ]
    },
    {
      "cell_type": "code",
      "execution_count": 144,
      "metadata": {
        "colab": {
          "base_uri": "https://localhost:8080/"
        },
        "id": "bW2lP39jBcGP",
        "outputId": "7b7b5413-a42f-4195-ba5b-f2e12d6715ad"
      },
      "outputs": [
        {
          "name": "stdout",
          "output_type": "stream",
          "text": [
            "First batch of src size: torch.Size([128, 25])\n",
            "First batch of trg size: torch.Size([128, 26])\n",
            "index 0: 2\n",
            "index 1: 28\n",
            "index 2: 6\n",
            "index 3: 150\n",
            "index 4: 732\n",
            "index 5: 9\n",
            "index 6: 0\n",
            "index 7: 2833\n",
            "index 8: 142\n",
            "index 9: 17\n",
            "index 10: 6248\n",
            "index 11: 74\n",
            "index 12: 3\n",
            "index 13: 1\n",
            "index 14: 1\n",
            "index 15: 1\n",
            "index 16: 1\n",
            "index 17: 1\n",
            "index 18: 1\n",
            "index 19: 1\n",
            "index 20: 1\n",
            "index 21: 1\n",
            "index 22: 1\n",
            "index 23: 1\n",
            "index 24: 1\n"
          ]
        }
      ],
      "source": [
        "for i, batch in enumerate(train_iterator):\n",
        "  src = batch.src\n",
        "  trg = batch.trg\n",
        "\n",
        "  print(f\"First batch of src size: {src.shape}\")\n",
        "  print(f\"First batch of trg size: {trg.shape}\")\n",
        "\n",
        "  for i in range(src.shape[1]):\n",
        "    print(f\"index {i}: {src[0][i].item()}\")\n",
        "\n",
        "  break"
      ]
    },
    {
      "cell_type": "markdown",
      "metadata": {
        "id": "az_1nvmYKjgR"
      },
      "source": [
        "## Model Define"
      ]
    },
    {
      "cell_type": "markdown",
      "metadata": {
        "id": "O1-VW7FlM3ai"
      },
      "source": [
        "### Multi Head Attention"
      ]
    },
    {
      "cell_type": "code",
      "execution_count": 145,
      "metadata": {
        "id": "TX1Kgi2fJg2e"
      },
      "outputs": [],
      "source": [
        "class MultiHeadAttentionLayer(nn.Module):\n",
        "  def __init__(self, hidden_dim, n_heads, dropout_ratio, device):\n",
        "    super().__init__()\n",
        "\n",
        "    assert hidden_dim % n_heads == 0\n",
        "\n",
        "    self.hidden_dim = hidden_dim\n",
        "    self.n_heads = n_heads\n",
        "    self.head_dim = hidden_dim // n_heads\n",
        "\n",
        "    self.fc_q = nn.Linear(hidden_dim, hidden_dim)\n",
        "    self.fc_k = nn.Linear(hidden_dim, hidden_dim)\n",
        "    self.fc_v = nn.Linear(hidden_dim, hidden_dim)\n",
        "\n",
        "    self.fc_o = nn.Linear(hidden_dim, hidden_dim)\n",
        "\n",
        "    self.dropout = nn.Dropout(dropout_ratio)\n",
        "\n",
        "    self.scale = torch.sqrt(torch.FloatTensor([self.head_dim])).to(device)\n",
        "\n",
        "  def forward(self, query, key, value, mask = None):\n",
        "    batch_size = query.shape[0]\n",
        "\n",
        "    # query: [batch_size, query_len, hidden_dim]\n",
        "    # key: [batch_size, key_len, hidden_dim]\n",
        "    # value: [batch_size, value_len, hidden_dim]\n",
        "\n",
        "    Q = self.fc_q(query)\n",
        "    K = self.fc_k(key)\n",
        "    V = self.fc_v(value)\n",
        "    # Q: [batch_size, query_len, hidden_dim]\n",
        "    # K: [batch_size, key_len, hidden_dim]\n",
        "    # V: [batch_size, value_len, hidden_dim]\n",
        "\n",
        "    # hidden_dim -> n_heads x head_dim\n",
        "    # n_heads개의 서로 다른 attention 컨셉을 학습하도록\n",
        "    Q = Q.view(batch_size, -1, self.n_heads, self.head_dim).permute(0, 2, 1, 3)\n",
        "    K = K.view(batch_size, -1, self.n_heads, self.head_dim).permute(0, 2, 1, 3)\n",
        "    V = V.view(batch_size, -1, self.n_heads, self.head_dim).permute(0, 2, 1, 3)\n",
        "    # (batch_size, seq_len, hidden_dim) -> (batch_size, seq_len, n_heads, head_dim) -> (batch_size, n_heads, seq_len, head_dim)\n",
        "    # Q: [batch_size, n_heads, query_len, head_dim]\n",
        "    # K: [batch_size, n_heads, key_len, head_dim]\n",
        "    # V: [batch_size, n_heads, value_len, head_dim]\n",
        "\n",
        "    # Attention Energy 계산\n",
        "    energy = torch.matmul(Q, K.permute(0, 1, 3, 2)) / self.scale\n",
        "    # energy: [batch_size, n_heads, query_len, key_len]\n",
        "\n",
        "    # mask를 사용하는 경우\n",
        "    if mask is not None:\n",
        "      # mask 값이 0인 부분을 -1e10으로 채우기\n",
        "      energy = energy.masked_fill(mask == 0, -1e10)\n",
        "\n",
        "    # attention score 계산\n",
        "    attention = torch.softmax(energy, dim = -1)\n",
        "    # attention: [batch_size, n_heads, query_len, key_len]\n",
        "\n",
        "    # scaeld dot-product attention 계산\n",
        "    x = torch.matmul(self.dropout(attention), V)\n",
        "    # x: [batch_size, n_heads, query_len, head_dim]\n",
        "\n",
        "    x = x.permute(0, 2, 1, 3).contiguous()\n",
        "    # x: [batch_size, query_len, n_heads, head_dim]\n",
        "\n",
        "    x = x.view(batch_size, -1, self.hidden_dim)\n",
        "    # x: [batch_size, query_len, hidden_dim]\n",
        "\n",
        "    x = self.fc_o(x)\n",
        "    # x: [batch_size, query_len, hidden_dim]\n",
        "\n",
        "    return x, attention"
      ]
    },
    {
      "cell_type": "markdown",
      "metadata": {
        "id": "L5wlcHwwQHQd"
      },
      "source": [
        "꼭 (batch_size, seq_len, n_heads, head_dim)에서 (batch_size, n_heads, seq_len, head_dim)로 변환해야 하는 이유는 어텐션 계산의 효율성을 높이기 위해서입니다. 다중 헤드 어텐션에서는 각 헤드가 독립적으로 문맥 정보를 학습해야 하므로, 모든 헤드의 어텐션을 병렬로 계산할 수 있도록 차원 순서를 재배열해야 합니다.\n",
        "\n",
        "이유: 차원 순서 변환의 필요성\n",
        "\n",
        "\t1.\t독립적인 어텐션 계산:\n",
        "\t•\t(batch_size, seq_len, n_heads, head_dim) 형식에서는 어텐션을 계산할 때 헤드별 독립적인 연산이 어렵습니다.\n",
        "\t•\t반드시 n_heads 차원이 두 번째로 위치해야 각 헤드에 대해 병렬 계산이 가능해집니다. n_heads 차원이 두 번째에 위치하면 각 헤드를 따로 떼어내어 병렬 연산을 효율적으로 수행할 수 있습니다.\n",
        "\t2.\t병렬 연산 최적화:\n",
        "\t•\t(batch_size, n_heads, seq_len, head_dim) 형식은 PyTorch와 같은 프레임워크에서 배치 행렬 곱셈(bmm) 연산을 사용하기에 최적화된 구조입니다.\n",
        "\t•\tbmm 연산은 (batch_size * n_heads, seq_len, head_dim) 형식으로 데이터를 전달할 때 병렬 처리가 가능하도록 설계되었습니다. 이처럼 헤드별로 독립적인 어텐션 가중치를 계산하는 데 최적화된 형식이므로, 변환을 통해 연산 속도가 크게 향상됩니다.\n",
        "\t3.\t어텐션 가중치 행렬(Q, K, V)의 효율적 사용:\n",
        "\t•\t어텐션 계산에서 Q, K, V 행렬이 각각의 헤드에 맞게 분할되어 사용됩니다.\n",
        "\t•\t각 헤드가 독립적으로 Q, K, V를 사용하여 어텐션 스코어를 계산하기 때문에, (batch_size, n_heads, seq_len, head_dim) 형식이 모든 헤드의 어텐션을 동시에 계산하기에 최적의 구조입니다.\n",
        "\n",
        "요약\n",
        "\n",
        "\t•\t독립적이고 효율적인 병렬 연산: 각 헤드가 독립적으로 어텐션을 계산하기 위해 차원 순서가 필요합니다.\n",
        "\t•\t프레임워크 최적화: PyTorch의 bmm와 같은 연산이 n_heads가 두 번째 차원에 위치한 형식에서 가장 효과적으로 작동합니다.\n",
        "\n",
        "따라서 (batch_size, seq_len, n_heads, head_dim)에서 (batch_size, n_heads, seq_len, head_dim)로 변환하는 것은 다중 헤드 어텐션의 병렬 처리와 최적화된 계산을 위해 필수적입니다."
      ]
    },
    {
      "cell_type": "markdown",
      "metadata": {
        "id": "uMoN-lCrU-NL"
      },
      "source": [
        "### Point-wise Feedforward"
      ]
    },
    {
      "cell_type": "code",
      "execution_count": 146,
      "metadata": {
        "id": "ITbS7f6JQH7y"
      },
      "outputs": [],
      "source": [
        "class PositionwiseFeedforwardLayer(nn.Module):\n",
        "  def __init__(self, hidden_dim, pf_dim, dropout_ratio):\n",
        "    super().__init__()\n",
        "\n",
        "    self.fc_1 = nn.Linear(hidden_dim, pf_dim)\n",
        "    self.fc_2 = nn.Linear(pf_dim, hidden_dim)\n",
        "\n",
        "    self.dropout = nn.Dropout(dropout_ratio)\n",
        "\n",
        "  def forward(self, x):\n",
        "    # x: [batch_size, seq_len, hidden_dim]\n",
        "\n",
        "    x = self.dropout(torch.relu(self.fc_1(x)))\n",
        "    # x: [batch_size, seq_len, pf_dim]\n",
        "\n",
        "    x = self.fc_2(x)\n",
        "    # x: [batch_size, seq_len, hidden_dim]\n",
        "\n",
        "    return x"
      ]
    },
    {
      "cell_type": "markdown",
      "metadata": {
        "id": "TwRFbj9EVwcf"
      },
      "source": [
        "### Encoder layer"
      ]
    },
    {
      "cell_type": "code",
      "execution_count": 147,
      "metadata": {
        "id": "PAIvud04VqTS"
      },
      "outputs": [],
      "source": [
        "class EncoderLayer(nn.Module):\n",
        "  def __init__(self, hidden_dim, n_heads, pf_dim, dropout_ratio, device):\n",
        "    super().__init__()\n",
        "\n",
        "    self.self_attn_layer_norm = nn.LayerNorm(hidden_dim)\n",
        "    self.ff_layer_norm = nn.LayerNorm(hidden_dim)\n",
        "    self.self_attention = MultiHeadAttentionLayer(hidden_dim, n_heads, dropout_ratio, device)\n",
        "    self.positionwise_feedforward = PositionwiseFeedforwardLayer(hidden_dim, pf_dim, dropout_ratio)\n",
        "    self.dropout = nn.Dropout(dropout_ratio)\n",
        "\n",
        "  # 하나의 embedding이 복제되어 q, k, v로 입력되는 방식\n",
        "  def forward(self, src, src_mask):\n",
        "    # src: [batch_size, src_len, hidden_dim]\n",
        "    # src_mask: [batch_size, src_len]\n",
        "\n",
        "    # self attention\n",
        "    _src, _ = self.self_attention(src, src, src, src_mask)\n",
        "\n",
        "    # dropout, residual connection and layer norm\n",
        "    src = self.self_attn_layer_norm(src + self.dropout(_src))\n",
        "    # src: [batch_size, src_len, hidden_dim]\n",
        "\n",
        "    # position-wise feedforward\n",
        "    _src = self.positionwise_feedforward(src)\n",
        "\n",
        "    # dropout, residual connection and layer norm\n",
        "    src = self.ff_layer_norm(src + self.dropout(_src))\n",
        "    # src: [batch_size, src_len, hidden_dim]\n",
        "\n",
        "    return src"
      ]
    },
    {
      "cell_type": "markdown",
      "metadata": {
        "id": "Ev7TV1e3XYfO"
      },
      "source": [
        "### Encoder"
      ]
    },
    {
      "cell_type": "markdown",
      "metadata": {
        "id": "_7mghqJDYQ7S"
      },
      "source": [
        "\"원본 논문과는 다르게 위치 임베딩(positional embedding)을 학습하는 형태로 구현합니다.\" -> 이 부분은 추후에 원본처럼 포지셔널 임베딩 구현해보기"
      ]
    },
    {
      "cell_type": "code",
      "execution_count": 148,
      "metadata": {
        "id": "5pQNu-zwWYiE"
      },
      "outputs": [],
      "source": [
        "class Encoder(nn.Module):\n",
        "  def __init__(self, input_dim, hidden_dim, n_layers, n_heads, pf_dim, dropout_ratio, device, max_length = 100):\n",
        "    super().__init__()\n",
        "\n",
        "    self.device = device\n",
        "\n",
        "    self.tok_embedding = nn.Embedding(input_dim, hidden_dim)\n",
        "    self.pos_embedding = nn.Embedding(max_length, hidden_dim)\n",
        "\n",
        "    self.layers = nn.ModuleList([EncoderLayer(hidden_dim, n_heads, pf_dim, dropout_ratio, device) for _ in range(n_layers)])\n",
        "\n",
        "    self.dropout = nn.Dropout(dropout_ratio)\n",
        "    self.scale = torch.sqrt(torch.FloatTensor([hidden_dim])).to(device)\n",
        "\n",
        "  def forward(self, src, src_mask):\n",
        "    # src: [batch_size, src_len]\n",
        "    # src_mask: [batch_size, src_len]\n",
        "\n",
        "    batch_size = src.shape[0]\n",
        "    src_len = src.shape[1]\n",
        "\n",
        "    pos = torch.arange(0, src_len).unsqueeze(0).repeat(batch_size, 1).to(self.device)\n",
        "    # pos: [batch_size, src_len]\n",
        "\n",
        "    src = self.dropout((self.tok_embedding(src) * self.scale) + self.pos_embedding(pos))\n",
        "    # src: [batch_size, src_len, hidden_dim]\n",
        "\n",
        "    # forward in all encoder layer\n",
        "    for layer in self.layers:\n",
        "      src = layer(src, src_mask)\n",
        "    # src: [batch_size, src_len, hidden_dim]\n",
        "\n",
        "    return src"
      ]
    },
    {
      "cell_type": "markdown",
      "metadata": {
        "id": "RynagOVnmEeS"
      },
      "source": [
        "### Decoder Layer"
      ]
    },
    {
      "cell_type": "code",
      "execution_count": 149,
      "metadata": {
        "id": "S9Nxk7LwZq1j"
      },
      "outputs": [],
      "source": [
        "class DecoderLayer(nn.Module):\n",
        "  def __init__(self, hidden_dim, n_heads, pf_dim, dropout_ratio, device):\n",
        "    super().__init__()\n",
        "\n",
        "    self.self_attn_layer_norm = nn.LayerNorm(hidden_dim)\n",
        "    self.enc_attn_layer_norm = nn.LayerNorm(hidden_dim)\n",
        "    self.ff_layer_norm = nn.LayerNorm(hidden_dim)\n",
        "    self.self_attention = MultiHeadAttentionLayer(hidden_dim, n_heads, dropout_ratio, device)\n",
        "    self.encoder_attention = MultiHeadAttentionLayer(hidden_dim, n_heads, dropout_ratio, device)\n",
        "    self.positionwise_feedforward = PositionwiseFeedforwardLayer(hidden_dim, pf_dim, dropout_ratio)\n",
        "    self.dropout = nn.Dropout(dropout_ratio)\n",
        "\n",
        "  # encoder의 output(enc_src)을 attention\n",
        "  def forward(self, trg, enc_src, trg_mask, src_mask):\n",
        "    # trg: [batch_size, trg_len, hidden_dim]\n",
        "    # eng_src: [batch_size, src_len, hidden_dim]\n",
        "    # trg_mask: [batch_size, trg_len]\n",
        "    # src_mask: [batch_size, src_len]\n",
        "\n",
        "    # self attention\n",
        "    _trg, _ = self.self_attention(trg, trg, trg, trg_mask)\n",
        "\n",
        "    # dropout, residual connection and layer norm\n",
        "    trg = self.self_attn_layer_norm(trg + self.dropout(_trg))\n",
        "    # trg: [batch_size, trg_len, hidden_dim]\n",
        "\n",
        "    # encoder attention\n",
        "    # decoder의 query를 이용해 encoder를 attention\n",
        "    _trg, attention = self.encoder_attention(trg, enc_src, enc_src, src_mask)\n",
        "\n",
        "    # dropout, residual connection and layer norm\n",
        "    trg = self.enc_attn_layer_norm(trg + self.dropout(_trg))\n",
        "    # trg: [batch_size, trg_len, hidden_dim]\n",
        "\n",
        "    # positionwise feedforward\n",
        "    _trg = self.positionwise_feedforward(trg)\n",
        "\n",
        "    # dropout, residual connection and layernorm\n",
        "    trg = self.ff_layer_norm(trg + self.dropout(_trg))\n",
        "    # trg: [batch_size, trg_len, hidden_dim]\n",
        "    # attention: [batch_size, n_heads, trg_len, src_len]\n",
        "\n",
        "    return trg, attention"
      ]
    },
    {
      "cell_type": "markdown",
      "metadata": {
        "id": "qgWvTInHqRHL"
      },
      "source": [
        "### Decoder"
      ]
    },
    {
      "cell_type": "code",
      "execution_count": 150,
      "metadata": {
        "id": "ZAN5cYlnnmz4"
      },
      "outputs": [],
      "source": [
        "class Decoder(nn.Module):\n",
        "  def __init__(self, output_dim, hidden_dim, n_layers, n_heads, pf_dim, dropout_ratio, device, max_length = 100):\n",
        "    super().__init__()\n",
        "\n",
        "    self.device = device\n",
        "\n",
        "    self.tok_embedding = nn.Embedding(output_dim, hidden_dim)\n",
        "    self.pos_embedding = nn.Embedding(max_length, hidden_dim)\n",
        "\n",
        "    self.layers = nn.ModuleList([DecoderLayer(hidden_dim, n_heads, pf_dim, dropout_ratio, device) for _ in range(n_layers)])\n",
        "\n",
        "    self.fc_out = nn.Linear(hidden_dim, output_dim)\n",
        "\n",
        "    self.dropout = nn.Dropout(dropout_ratio)\n",
        "\n",
        "    self.scale = torch.sqrt(torch.FloatTensor([hidden_dim])).to(device)\n",
        "\n",
        "  def forward(self, trg, enc_src, trg_mask, src_mask):\n",
        "    # trg: [batch_size, trg_len]\n",
        "    # enc_src: [batch_size, src_len, hidde_dim]\n",
        "    # trg_mask: [batch_size, trg_len]\n",
        "    # src_mask: [batch_size, src_len]\n",
        "\n",
        "    batch_size = trg.shape[0]\n",
        "    trg_len = trg.shape[1]\n",
        "\n",
        "    pos = torch.arange(0, trg_len).unsqueeze(0).repeat(batch_size, 1).to(self.device)\n",
        "    # pos: [batch_size, trg_len]\n",
        "\n",
        "    trg = self.dropout((self.tok_embedding(trg) * self.scale) + self.pos_embedding(pos))\n",
        "    # trg: [batch_size, trg_len, hidden_dim]\n",
        "\n",
        "    for layer in self.layers:\n",
        "      trg, attention = layer(trg, enc_src, trg_mask, src_mask)\n",
        "      # trg: [batch_size, trg_len, hidden_dim]\n",
        "      # attention: [batch_size, n_heads, trg_len, src_len]\n",
        "\n",
        "    output = self.fc_out(trg)\n",
        "    # output: [batch_size, trg_len, output_dim]\n",
        "\n",
        "    return output, attention\n"
      ]
    },
    {
      "cell_type": "markdown",
      "metadata": {
        "id": "dYfsUabxsIkW"
      },
      "source": [
        "### Transformer"
      ]
    },
    {
      "cell_type": "code",
      "execution_count": 151,
      "metadata": {
        "id": "eqeZQtg3sHlL"
      },
      "outputs": [],
      "source": [
        "class Transformer(nn.Module):\n",
        "  def __init__(self, encoder, decoder, src_pad_idx, trg_pad_idx, device):\n",
        "    super().__init__()\n",
        "\n",
        "    self.encoder = encoder\n",
        "    self.decoder = decoder\n",
        "    self.src_pad_idx = src_pad_idx\n",
        "    self.trg_pad_idx = trg_pad_idx\n",
        "    self.device = device\n",
        "\n",
        "  def make_src_mask(self, src):\n",
        "    # src: [batch_size, src_len]\n",
        "\n",
        "    src_mask = (src != self.src_pad_idx).unsqueeze(1).unsqueeze(2)\n",
        "    # src_mask: [batch_size, 1, 1, src_len]\n",
        "\n",
        "    return src_mask\n",
        "\n",
        "  # 각 단어가 다음 단어가 무엇인지 알 수 없도록 마스킹\n",
        "  def make_trg_mask(self, trg):\n",
        "    # trg: [batch_size, trg_len]\n",
        "\n",
        "\n",
        "    \"\"\"mask exmaple\n",
        "    1 0 0 0 0\n",
        "    1 1 0 0 0\n",
        "    1 1 1 0 0\n",
        "    1 1 1 0 0\n",
        "    1 1 1 0 1\n",
        "    \"\"\"\n",
        "    # sequence길이를 맞추기 위해 padding된 부분을 무시하기 위함\n",
        "    trg_pad_mask = (trg != self.trg_pad_idx).unsqueeze(1).unsqueeze(2)\n",
        "    # trg_pad_mask: [batch_size, 1, 1, trg_len]\n",
        "\n",
        "    trg_len = trg.shape[1]\n",
        "\n",
        "    \"\"\"mask exmaple\n",
        "    1 0 0 0 0\n",
        "    1 1 0 0 0\n",
        "    1 1 1 0 0\n",
        "    1 1 1 1 0\n",
        "    1 1 1 1 1\n",
        "    \"\"\"\n",
        "    # 미래 단어를 참조하지 않도록 하기 위함\n",
        "    trg_sub_mask = torch.tril(torch.ones((trg_len, trg_len), device = self.device)).bool()\n",
        "    # trg_sub_mask: [trg_len, trg_len]\n",
        "\n",
        "    trg_mask = trg_pad_mask & trg_sub_mask\n",
        "    # trg_mask: [batch_size, 1, trg_len, trg_len]\n",
        "\n",
        "    return trg_mask\n",
        "\n",
        "  def forward(self, src, trg):\n",
        "    # src: [batch_size, src_len]\n",
        "    # trg: [batch_size, trg_len]\n",
        "\n",
        "    src_mask = self.make_src_mask(src)\n",
        "    trg_mask = self.make_trg_mask(trg)\n",
        "    # src_mask: [batch_size, 1, 1, src_len]\n",
        "    # trg_mask: [batch_size, 1, trg_len, trg_len]\n",
        "\n",
        "    enc_src = self.encoder(src, src_mask)\n",
        "    # enc_src: [batch_size, src_len, hidden_dim]\n",
        "\n",
        "    output, attention = self.decoder(trg, enc_src, trg_mask, src_mask)\n",
        "    # output: [batch_size, trg_len, output_dim]\n",
        "    # attention: [batch_size, n_heads, trg_len, src_len]\n",
        "\n",
        "    return output, attention"
      ]
    },
    {
      "cell_type": "markdown",
      "metadata": {
        "id": "iHEgZD6Av7VT"
      },
      "source": [
        "## Train"
      ]
    },
    {
      "cell_type": "markdown",
      "metadata": {
        "id": "u7pwGXzfv9Dq"
      },
      "source": [
        "### config"
      ]
    },
    {
      "cell_type": "code",
      "execution_count": 152,
      "metadata": {
        "id": "wVyXU6rRv2sJ"
      },
      "outputs": [],
      "source": [
        "INPUT_DIM = len(SRC.vocab)\n",
        "OUTPUT_DIM = len(TRG.vocab)\n",
        "HIDDEN_DIM = 256\n",
        "ENC_LAYERS = 3\n",
        "DEC_LAYERS = 3\n",
        "ENC_HEADS = 8\n",
        "DEC_HEADS = 8\n",
        "ENC_PF_DIM = 512\n",
        "DEC_PF_DIM = 512\n",
        "ENC_DROPOUT = 0.1\n",
        "DEC_DROPOUT = 0.1"
      ]
    },
    {
      "cell_type": "code",
      "execution_count": 153,
      "metadata": {
        "id": "6C4rL8EcaCEF"
      },
      "outputs": [],
      "source": [
        "SRC_PAD_IDX = SRC.vocab.stoi[SRC.pad_token]\n",
        "TRG_PAD_IDX = TRG.vocab.stoi[TRG.pad_token]\n",
        "\n",
        "enc = Encoder(INPUT_DIM, HIDDEN_DIM, ENC_LAYERS, ENC_HEADS, ENC_PF_DIM, ENC_DROPOUT, device)\n",
        "dec = Decoder(OUTPUT_DIM, HIDDEN_DIM, DEC_LAYERS, DEC_HEADS, DEC_PF_DIM, DEC_DROPOUT, device)\n",
        "\n",
        "model = Transformer(enc, dec, SRC_PAD_IDX, TRG_PAD_IDX, device).to(device)"
      ]
    },
    {
      "cell_type": "code",
      "execution_count": 154,
      "metadata": {
        "colab": {
          "base_uri": "https://localhost:8080/"
        },
        "id": "TkiDo1eOalQK",
        "outputId": "6c604e8f-fead-4c80-daaa-fbe176011602"
      },
      "outputs": [
        {
          "data": {
            "text/plain": [
              "Transformer(\n",
              "  (encoder): Encoder(\n",
              "    (tok_embedding): Embedding(9597, 256)\n",
              "    (pos_embedding): Embedding(100, 256)\n",
              "    (layers): ModuleList(\n",
              "      (0-2): 3 x EncoderLayer(\n",
              "        (self_attn_layer_norm): LayerNorm((256,), eps=1e-05, elementwise_affine=True)\n",
              "        (ff_layer_norm): LayerNorm((256,), eps=1e-05, elementwise_affine=True)\n",
              "        (self_attention): MultiHeadAttentionLayer(\n",
              "          (fc_q): Linear(in_features=256, out_features=256, bias=True)\n",
              "          (fc_k): Linear(in_features=256, out_features=256, bias=True)\n",
              "          (fc_v): Linear(in_features=256, out_features=256, bias=True)\n",
              "          (fc_o): Linear(in_features=256, out_features=256, bias=True)\n",
              "          (dropout): Dropout(p=0.1, inplace=False)\n",
              "        )\n",
              "        (positionwise_feedforward): PositionwiseFeedforwardLayer(\n",
              "          (fc_1): Linear(in_features=256, out_features=512, bias=True)\n",
              "          (fc_2): Linear(in_features=512, out_features=256, bias=True)\n",
              "          (dropout): Dropout(p=0.1, inplace=False)\n",
              "        )\n",
              "        (dropout): Dropout(p=0.1, inplace=False)\n",
              "      )\n",
              "    )\n",
              "    (dropout): Dropout(p=0.1, inplace=False)\n",
              "  )\n",
              "  (decoder): Decoder(\n",
              "    (tok_embedding): Embedding(7704, 256)\n",
              "    (pos_embedding): Embedding(100, 256)\n",
              "    (layers): ModuleList(\n",
              "      (0-2): 3 x DecoderLayer(\n",
              "        (self_attn_layer_norm): LayerNorm((256,), eps=1e-05, elementwise_affine=True)\n",
              "        (enc_attn_layer_norm): LayerNorm((256,), eps=1e-05, elementwise_affine=True)\n",
              "        (ff_layer_norm): LayerNorm((256,), eps=1e-05, elementwise_affine=True)\n",
              "        (self_attention): MultiHeadAttentionLayer(\n",
              "          (fc_q): Linear(in_features=256, out_features=256, bias=True)\n",
              "          (fc_k): Linear(in_features=256, out_features=256, bias=True)\n",
              "          (fc_v): Linear(in_features=256, out_features=256, bias=True)\n",
              "          (fc_o): Linear(in_features=256, out_features=256, bias=True)\n",
              "          (dropout): Dropout(p=0.1, inplace=False)\n",
              "        )\n",
              "        (encoder_attention): MultiHeadAttentionLayer(\n",
              "          (fc_q): Linear(in_features=256, out_features=256, bias=True)\n",
              "          (fc_k): Linear(in_features=256, out_features=256, bias=True)\n",
              "          (fc_v): Linear(in_features=256, out_features=256, bias=True)\n",
              "          (fc_o): Linear(in_features=256, out_features=256, bias=True)\n",
              "          (dropout): Dropout(p=0.1, inplace=False)\n",
              "        )\n",
              "        (positionwise_feedforward): PositionwiseFeedforwardLayer(\n",
              "          (fc_1): Linear(in_features=256, out_features=512, bias=True)\n",
              "          (fc_2): Linear(in_features=512, out_features=256, bias=True)\n",
              "          (dropout): Dropout(p=0.1, inplace=False)\n",
              "        )\n",
              "        (dropout): Dropout(p=0.1, inplace=False)\n",
              "      )\n",
              "    )\n",
              "    (fc_out): Linear(in_features=256, out_features=7704, bias=True)\n",
              "    (dropout): Dropout(p=0.1, inplace=False)\n",
              "  )\n",
              ")"
            ]
          },
          "execution_count": 154,
          "metadata": {},
          "output_type": "execute_result"
        }
      ],
      "source": [
        "model"
      ]
    },
    {
      "cell_type": "code",
      "execution_count": 155,
      "metadata": {
        "colab": {
          "base_uri": "https://localhost:8080/"
        },
        "id": "LGM9ZXqeamHO",
        "outputId": "b35782a4-c0d6-4276-aaa4-e42461298b59"
      },
      "outputs": [
        {
          "name": "stdout",
          "output_type": "stream",
          "text": [
            "The model has 10,413,848 trainable parameters\n"
          ]
        }
      ],
      "source": [
        "def count_parameters(model):\n",
        "  return sum(p.numel() for p in model.parameters() if p.requires_grad)\n",
        "\n",
        "print(f'The model has {count_parameters(model):,} trainable parameters')"
      ]
    },
    {
      "cell_type": "code",
      "execution_count": 156,
      "metadata": {
        "id": "CqrEYyqsbEJZ"
      },
      "outputs": [],
      "source": [
        "def initialize_weights(m):\n",
        "  if hasattr(m, 'weight') and m.weight.dim() > 1:\n",
        "    nn.init.xavier_uniform_(m.weight.data)"
      ]
    },
    {
      "cell_type": "code",
      "execution_count": 157,
      "metadata": {
        "id": "1aH5F27-bJRI"
      },
      "outputs": [],
      "source": [
        "LEARNING_RATE = 5e-4\n",
        "optimizer = torch.optim.Adam(model.parameters(), lr=LEARNING_RATE)\n",
        "\n",
        "# 뒷 부분의 padding에 대해서는 값 무시\n",
        "criterion = nn.CrossEntropyLoss(ignore_index = TRG_PAD_IDX)"
      ]
    },
    {
      "cell_type": "code",
      "execution_count": 158,
      "metadata": {
        "id": "XfjM5Xe3cBT9"
      },
      "outputs": [],
      "source": [
        "def train(model, iterator, optimizer, criterion, clip):\n",
        "  model.train()\n",
        "  epoch_loss = 0\n",
        "\n",
        "  for i, batch in enumerate(iterator):\n",
        "    src = batch.src\n",
        "    trg = batch.trg\n",
        "\n",
        "    optimizer.zero_grad()\n",
        "\n",
        "    output, _ = model(src, trg[:,:-1])\n",
        "    # output: [batch_size, trg_len - 1, output_dim]\n",
        "    # trg: [batch_size, trg_len]\n",
        "\n",
        "    output_dim = output.shape[-1]\n",
        "\n",
        "    output = output.contiguous().view(-1, output_dim)\n",
        "\n",
        "    trg = trg[:,1:].contiguous().view(-1)\n",
        "    # output: [batch_size * (trg_len - 1), output_dim]\n",
        "    # trg: [batch_size * (trg_len - 1)]\n",
        "\n",
        "    loss = criterion(output, trg)\n",
        "    loss.backward()\n",
        "\n",
        "    # gradient clipping to prevent gradient sharp change\n",
        "    torch.nn.utils.clip_grad_norm_(model.parameters(), clip)\n",
        "\n",
        "    optimizer.step()\n",
        "\n",
        "    epoch_loss += loss.item()\n",
        "\n",
        "  return epoch_loss / len(iterator)"
      ]
    },
    {
      "cell_type": "code",
      "execution_count": 159,
      "metadata": {
        "id": "5TRyg8bhf-Aa"
      },
      "outputs": [],
      "source": [
        "def evaluate(model, iterator, criterion):\n",
        "  model.eval()\n",
        "  epoch_loss = 0\n",
        "\n",
        "  with torch.no_grad():\n",
        "    for i, batch in enumerate(iterator):\n",
        "      src = batch.src\n",
        "      trg = batch.trg\n",
        "\n",
        "      output, _ = model(src, trg[:,:-1])\n",
        "      # output: [batch_size, trg_len - 1, output_dim]\n",
        "      # trg: [batch_size, trg_len]\n",
        "\n",
        "      output_dim = output.shape[-1]\n",
        "\n",
        "      output = output.contiguous().view(-1, output_dim)\n",
        "      trg = trg[:,1:].contiguous().view(-1)\n",
        "      # output: [batch_size * (trg_len - 1), output_dim]\n",
        "      # trg: [batch_size * (trg_len - 1)]\n",
        "\n",
        "      loss = criterion(output, trg)\n",
        "\n",
        "      epoch_loss += loss.item()\n",
        "\n",
        "    return epoch_loss / len(iterator)"
      ]
    },
    {
      "cell_type": "code",
      "execution_count": 160,
      "metadata": {
        "id": "ubeFEIIHg0q2"
      },
      "outputs": [],
      "source": [
        "def epoch_time(start_time, end_time):\n",
        "  elapsed_time = end_time - start_time\n",
        "  elapsed_mins = int(elapsed_time / 60)\n",
        "  elapsed_secs = int(elapsed_time - (elapsed_mins * 60))\n",
        "  return elapsed_mins, elapsed_secs"
      ]
    },
    {
      "cell_type": "code",
      "execution_count": 161,
      "metadata": {
        "colab": {
          "base_uri": "https://localhost:8080/"
        },
        "id": "MF2ZKC5XhHlp",
        "outputId": "13e6e6d0-c62e-46a2-ffee-a684aef16335"
      },
      "outputs": [
        {
          "name": "stdout",
          "output_type": "stream",
          "text": [
            "Epoch: 01 | Time: 0m 17s\n",
            "\tTrain Loss: 4.560 | Train PPL:  95.540\n",
            "\tValid Loss: 3.459 | Valid PPL:  31.779\n",
            "Epoch: 02 | Time: 0m 13s\n",
            "\tTrain Loss: 3.401 | Train PPL:  30.005\n",
            "\tValid Loss: 2.947 | Valid PPL:  19.041\n",
            "Epoch: 03 | Time: 0m 13s\n",
            "\tTrain Loss: 2.953 | Train PPL:  19.173\n",
            "\tValid Loss: 2.646 | Valid PPL:  14.100\n",
            "Epoch: 04 | Time: 0m 13s\n",
            "\tTrain Loss: 2.647 | Train PPL:  14.110\n",
            "\tValid Loss: 2.487 | Valid PPL:  12.025\n",
            "Epoch: 05 | Time: 0m 14s\n",
            "\tTrain Loss: 2.407 | Train PPL:  11.099\n",
            "\tValid Loss: 2.324 | Valid PPL:  10.212\n",
            "Epoch: 06 | Time: 0m 14s\n",
            "\tTrain Loss: 2.199 | Train PPL:   9.014\n",
            "\tValid Loss: 2.239 | Valid PPL:   9.382\n",
            "Epoch: 07 | Time: 0m 13s\n",
            "\tTrain Loss: 2.024 | Train PPL:   7.572\n",
            "\tValid Loss: 2.179 | Valid PPL:   8.834\n",
            "Epoch: 08 | Time: 0m 13s\n",
            "\tTrain Loss: 1.871 | Train PPL:   6.497\n",
            "\tValid Loss: 2.121 | Valid PPL:   8.338\n",
            "Epoch: 09 | Time: 0m 13s\n",
            "\tTrain Loss: 1.735 | Train PPL:   5.668\n",
            "\tValid Loss: 2.103 | Valid PPL:   8.187\n",
            "Epoch: 10 | Time: 0m 13s\n",
            "\tTrain Loss: 1.611 | Train PPL:   5.008\n",
            "\tValid Loss: 2.102 | Valid PPL:   8.186\n"
          ]
        }
      ],
      "source": [
        "N_EPOCHS = 10\n",
        "CLIP = 1\n",
        "best_valid_loss = float('inf')\n",
        "\n",
        "for epoch in range(N_EPOCHS):\n",
        "  start_time = time.time()\n",
        "\n",
        "  train_loss = train(model, train_iterator, optimizer, criterion, CLIP)\n",
        "  valid_loss = evaluate(model, valid_iterator, criterion)\n",
        "\n",
        "  end_time = time.time()\n",
        "  epoch_mins, epoch_secs = epoch_time(start_time, end_time)\n",
        "\n",
        "  if valid_loss < best_valid_loss:\n",
        "    best_valid_loss = valid_loss\n",
        "    torch.save(model.state_dict(), 'transformer_german_to_english.pt')\n",
        "\n",
        "  print(f'Epoch: {epoch + 1:02} | Time: {epoch_mins}m {epoch_secs}s')\n",
        "  print(f'\\tTrain Loss: {train_loss:.3f} | Train PPL: {math.exp(train_loss):7.3f}')\n",
        "  print(f'\\tValid Loss: {valid_loss:.3f} | Valid PPL: {math.exp(valid_loss):7.3f}')"
      ]
    },
    {
      "cell_type": "code",
      "execution_count": 162,
      "metadata": {
        "colab": {
          "base_uri": "https://localhost:8080/",
          "height": 17
        },
        "id": "aP8WN1riiFh2",
        "outputId": "59a7184d-532d-415b-9828-47304a5df66d"
      },
      "outputs": [
        {
          "data": {
            "application/javascript": "\n    async function download(id, filename, size) {\n      if (!google.colab.kernel.accessAllowed) {\n        return;\n      }\n      const div = document.createElement('div');\n      const label = document.createElement('label');\n      label.textContent = `Downloading \"${filename}\": `;\n      div.appendChild(label);\n      const progress = document.createElement('progress');\n      progress.max = size;\n      div.appendChild(progress);\n      document.body.appendChild(div);\n\n      const buffers = [];\n      let downloaded = 0;\n\n      const channel = await google.colab.kernel.comms.open(id);\n      // Send a message to notify the kernel that we're ready.\n      channel.send({})\n\n      for await (const message of channel.messages) {\n        // Send a message to notify the kernel that we're ready.\n        channel.send({})\n        if (message.buffers) {\n          for (const buffer of message.buffers) {\n            buffers.push(buffer);\n            downloaded += buffer.byteLength;\n            progress.value = downloaded;\n          }\n        }\n      }\n      const blob = new Blob(buffers, {type: 'application/binary'});\n      const a = document.createElement('a');\n      a.href = window.URL.createObjectURL(blob);\n      a.download = filename;\n      div.appendChild(a);\n      a.click();\n      div.remove();\n    }\n  ",
            "text/plain": [
              "<IPython.core.display.Javascript object>"
            ]
          },
          "metadata": {},
          "output_type": "display_data"
        },
        {
          "data": {
            "application/javascript": "download(\"download_06b0bdfa-87a9-48d0-ade0-9c1b8d979497\", \"transformer_german_to_english.pt\", 41709402)",
            "text/plain": [
              "<IPython.core.display.Javascript object>"
            ]
          },
          "metadata": {},
          "output_type": "display_data"
        }
      ],
      "source": [
        "from google.colab import files\n",
        "files.download('transformer_german_to_english.pt')"
      ]
    },
    {
      "cell_type": "markdown",
      "metadata": {
        "id": "qgBH48VwngHU"
      },
      "source": [
        "## Test"
      ]
    },
    {
      "cell_type": "code",
      "execution_count": 163,
      "metadata": {
        "colab": {
          "base_uri": "https://localhost:8080/"
        },
        "id": "PuMMhZfSknXX",
        "outputId": "18f59318-2e28-471a-e9f1-fe4e7000feb4"
      },
      "outputs": [
        {
          "name": "stderr",
          "output_type": "stream",
          "text": [
            "<ipython-input-163-e7c6567d0869>:1: FutureWarning: You are using `torch.load` with `weights_only=False` (the current default value), which uses the default pickle module implicitly. It is possible to construct malicious pickle data which will execute arbitrary code during unpickling (See https://github.com/pytorch/pytorch/blob/main/SECURITY.md#untrusted-models for more details). In a future release, the default value for `weights_only` will be flipped to `True`. This limits the functions that could be executed during unpickling. Arbitrary objects will no longer be allowed to be loaded via this mode unless they are explicitly allowlisted by the user via `torch.serialization.add_safe_globals`. We recommend you start setting `weights_only=True` for any use case where you don't have full control of the loaded file. Please open an issue on GitHub for any issues related to this experimental feature.\n",
            "  model.load_state_dict(torch.load('./transformer_german_to_english.pt'))\n"
          ]
        },
        {
          "name": "stdout",
          "output_type": "stream",
          "text": [
            "Test Loss: 2.102 | Test PPL: 8.186\n"
          ]
        }
      ],
      "source": [
        "model.load_state_dict(torch.load('./transformer_german_to_english.pt'))\n",
        "\n",
        "test_loss = evaluate(model, test_iterator, criterion)\n",
        "\n",
        "print(f'Test Loss: {test_loss:.3f} | Test PPL: {math.exp(test_loss):.3f}')"
      ]
    },
    {
      "cell_type": "markdown",
      "metadata": {
        "id": "ooM_yTVqsfL-"
      },
      "source": [
        "## Translator using Transformer"
      ]
    },
    {
      "cell_type": "code",
      "execution_count": 179,
      "metadata": {
        "id": "VXvew3HVlSGi"
      },
      "outputs": [],
      "source": [
        "def translate_sentence(sentence, src_field, trg_field, model, device, max_len = 50, logging=True):\n",
        "  model.eval()\n",
        "\n",
        "  tokens = sentence\n",
        "\n",
        "  tokens = [src_field.init_token] + tokens + [src_field.eos_token]\n",
        "  if logging:\n",
        "    print(f\"전체 소스 토큰: {tokens}\")\n",
        "\n",
        "  src_index = [src_field.vocab.stoi[token] for token in tokens]\n",
        "  if logging:\n",
        "    print(f\"소스 문장 인덱스: {src_index}\")\n",
        "\n",
        "  src_tensor = torch.LongTensor(src_index).unsqueeze(0).to(device)\n",
        "\n",
        "  src_mask = model.make_src_mask(src_tensor)\n",
        "\n",
        "  with torch.no_grad():\n",
        "    enc_src = model.encoder(src_tensor, src_mask)\n",
        "\n",
        "  trg_indexes = [trg_field.vocab.stoi[trg_field.init_token]]\n",
        "\n",
        "  for i in range(max_len):\n",
        "    trg_tensor = torch.LongTensor(trg_indexes).unsqueeze(0).to(device)\n",
        "\n",
        "    trg_mask = model.make_trg_mask(trg_tensor)\n",
        "\n",
        "    with torch.no_grad():\n",
        "      output, attention = model.decoder(trg_tensor, enc_src, trg_mask, src_mask)\n",
        "\n",
        "    pred_token = output.argmax(2)[:, -1].item()\n",
        "    trg_indexes.append(pred_token)\n",
        "\n",
        "    if pred_token == trg_field.vocab.stoi[trg_field.eos_token]:\n",
        "      break\n",
        "\n",
        "  trg_tokens = [trg_field.vocab.itos[i] for i in trg_indexes]\n",
        "\n",
        "  return trg_tokens[1:], attention"
      ]
    },
    {
      "cell_type": "code",
      "execution_count": 180,
      "metadata": {
        "colab": {
          "base_uri": "https://localhost:8080/"
        },
        "id": "DIsu1YoPqLKN",
        "outputId": "9f5dbbf5-4d3f-4176-d2a4-e770c2548791"
      },
      "outputs": [
        {
          "name": "stdout",
          "output_type": "stream",
          "text": [
            "Source sentence: ['ein', 'kleines', 'kind', 'steht', 'allein', 'auf', 'einem', 'zerklüfteten', 'felsen.']\n",
            "Target sentence: ['a', 'young', 'child', 'is', 'standing', 'alone', 'on', 'some', 'jagged', 'rocks.']\n"
          ]
        }
      ],
      "source": [
        "example_idx = 10\n",
        "\n",
        "src = test_dataset.examples[example_idx].src\n",
        "trg = test_dataset.examples[example_idx].trg\n",
        "\n",
        "print(f'Source sentence: {src}')\n",
        "print(f'Target sentence: {trg}')"
      ]
    },
    {
      "cell_type": "code",
      "execution_count": 181,
      "metadata": {
        "colab": {
          "base_uri": "https://localhost:8080/"
        },
        "id": "wn5CP-Iqr9lM",
        "outputId": "526a70d7-7413-48e9-9432-034e67548b2b"
      },
      "outputs": [
        {
          "data": {
            "text/plain": [
              "['ein',\n",
              " 'kleines',\n",
              " 'kind',\n",
              " 'steht',\n",
              " 'allein',\n",
              " 'auf',\n",
              " 'einem',\n",
              " 'zerklüfteten',\n",
              " 'felsen.']"
            ]
          },
          "execution_count": 181,
          "metadata": {},
          "output_type": "execute_result"
        }
      ],
      "source": [
        "src"
      ]
    },
    {
      "cell_type": "code",
      "execution_count": 182,
      "metadata": {
        "colab": {
          "base_uri": "https://localhost:8080/"
        },
        "id": "f3EjYgLSq35F",
        "outputId": "d97eed2c-9d33-4bdc-925c-24fbb80e9beb"
      },
      "outputs": [
        {
          "name": "stdout",
          "output_type": "stream",
          "text": [
            "전체 소스 토큰: ['<sos>', 'ein', 'kleines', 'kind', 'steht', 'allein', 'auf', 'einem', 'zerklüfteten', 'felsen.', '<eos>']\n",
            "소스 문장 인덱스: [2, 4, 59, 50, 27, 1046, 10, 5, 0, 618, 3]\n",
            "Translated sentence: ['a', 'young', 'child', 'stands', 'alone', 'on', 'a', 'rock', 'wall', 'of', '<unk>', '<eos>']\n"
          ]
        }
      ],
      "source": [
        "translation, attention = translate_sentence(src, SRC, TRG, model, device, logging=True)\n",
        "\n",
        "print(f'Translated sentence: {translation}')"
      ]
    },
    {
      "cell_type": "markdown",
      "metadata": {
        "id": "ceSm_0aqskgh"
      },
      "source": [
        "### Visualize Attention Map"
      ]
    },
    {
      "cell_type": "code",
      "execution_count": 194,
      "metadata": {
        "id": "nmg5ftwPrzIG"
      },
      "outputs": [],
      "source": [
        "def display_attention(sentence, translation, attention, n_heads=8, n_rows=4, n_cols=2):\n",
        "\n",
        "  assert n_rows * n_cols == n_heads\n",
        "\n",
        "  fig = plt.figure(figsize=(15,25))\n",
        "\n",
        "  for i in range(n_heads):\n",
        "    ax = fig.add_subplot(n_rows, n_cols, i+1)\n",
        "\n",
        "    _attention = attention.squeeze(0)[i].cpu().detach().numpy()\n",
        "\n",
        "    cax = ax.matshow(_attention, cmap='bone')\n",
        "\n",
        "    fig.colorbar(cax, ax=ax, fraction=0.046, pad=0.04)\n",
        "\n",
        "    ax.tick_params(labelsize=12)\n",
        "    ax.set_xticklabels(['']+['<sos>']+[t.lower() for t in sentence]+['<eos>'], rotation=45)\n",
        "    ax.set_yticklabels(['<sos>'] + translation)\n",
        "\n",
        "    ax.xaxis.set_major_locator(ticker.MultipleLocator(1))\n",
        "    ax.yaxis.set_major_locator(ticker.MultipleLocator(1))\n",
        "\n",
        "  plt.show()\n",
        "  plt.close()"
      ]
    },
    {
      "cell_type": "code",
      "execution_count": 195,
      "metadata": {
        "colab": {
          "base_uri": "https://localhost:8080/",
          "height": 1000
        },
        "id": "cWjxBVWRtm1B",
        "outputId": "1515f5fa-c23d-4f09-cac5-a8ee6268bc19"
      },
      "outputs": [
        {
          "name": "stderr",
          "output_type": "stream",
          "text": [
            "<ipython-input-194-4b1e72dcddd4>:17: UserWarning: FixedFormatter should only be used together with FixedLocator\n",
            "  ax.set_xticklabels(['']+['<sos>']+[t.lower() for t in sentence]+['<eos>'], rotation=45)\n",
            "<ipython-input-194-4b1e72dcddd4>:18: UserWarning: FixedFormatter should only be used together with FixedLocator\n",
            "  ax.set_yticklabels(['<sos>'] + translation)\n"
          ]
        },
        {
          "data": {
            "image/png": "[encoded data removed]",
            "text/plain": [
              "<Figure size 1500x2500 with 16 Axes>"
            ]
          },
          "metadata": {},
          "output_type": "display_data"
        }
      ],
      "source": [
        "display_attention(src, translation, attention)"
      ]
    },
    {
      "cell_type": "markdown",
      "metadata": {
        "id": "cxrwPmPYutjS"
      },
      "source": [
        "German : English\n",
        "- ein : a\n",
        "- kleines : young\n",
        "- kind : child\n",
        "- steht : stands\n",
        "- allein : alone\n",
        "- auf : on\n",
        "- einem : one\n"
      ]
    },
    {
      "cell_type": "markdown",
      "metadata": {
        "id": "omTQXipZvf5W"
      },
      "source": [
        "## BLEU Score"
      ]
    },
    {
      "cell_type": "code",
      "execution_count": 199,
      "metadata": {
        "id": "Cp3ttrVutvvV"
      },
      "outputs": [],
      "source": [
        "def show_bleu(data, src_field, trg_field, model, device, max_len=50):\n",
        "  trgs = []\n",
        "  pred_trgs = []\n",
        "  index = 0\n",
        "\n",
        "  for datum in data:\n",
        "    src = datum.src\n",
        "    trg = datum.trg\n",
        "\n",
        "    pred_trg, _ = translate_sentence(src, src_field, trg_field, model, device, max_len, logging=False)\n",
        "\n",
        "    pred_trg = pred_trg[:-1]\n",
        "\n",
        "    pred_trgs.append(pred_trg)\n",
        "    trgs.append([trg])\n",
        "\n",
        "    index += 1\n",
        "    if (index + 1) % 100 == 0:\n",
        "      print(f\"[{index + 1}/{len(data)}]\")\n",
        "      print(f\"predictd sentence: {pred_trg}\")\n",
        "      print(f\"label: {trg}\")\n",
        "\n",
        "  bleu = bleu_score(pred_trgs, trgs, max_n=4, weights=[0.25, 0.25, 0.25, 0.25])\n",
        "  print(f'BLEU score = {bleu * 100:.2f}')\n",
        "\n",
        "  individual_bleu1_score = bleu_score(pred_trgs, trgs, max_n=4, weights=[1, 0, 0, 0])\n",
        "  individual_bleu2_score = bleu_score(pred_trgs, trgs, max_n=4, weights=[0, 1, 0, 0])\n",
        "  individual_bleu3_score = bleu_score(pred_trgs, trgs, max_n=4, weights=[0, 0, 1, 0])\n",
        "  individual_bleu4_score = bleu_score(pred_trgs, trgs, max_n=4, weights=[0, 0, 0, 1])\n",
        "\n",
        "  print(f'Individual BLEU1 score = {individual_bleu1_score*100:.2f}')\n",
        "  print(f'Individual BLEU2 score = {individual_bleu2_score*100:.2f}')\n",
        "  print(f'Individual BLEU3 score = {individual_bleu3_score*100:.2f}')\n",
        "  print(f'Individual BLEU4 score = {individual_bleu4_score*100:.2f}')\n",
        "\n",
        "  cumulative_bleu1_score = bleu_score(pred_trgs, trgs, max_n=4, weights=[1, 0, 0, 0])\n",
        "  cumulative_bleu2_score = bleu_score(pred_trgs, trgs, max_n=4, weights=[1/2, 1/2, 0, 0])\n",
        "  cumulative_bleu3_score = bleu_score(pred_trgs, trgs, max_n=4, weights=[1/3, 1/3, 1/3, 0])\n",
        "  cumulative_bleu4_score = bleu_score(pred_trgs, trgs, max_n=4, weights=[1/4, 1/4, 1/4, 1/4])\n",
        "\n",
        "  print(f'Cumulative BLEU1 score = {cumulative_bleu1_score*100:.2f}')\n",
        "  print(f'Cumulative BLEU2 score = {cumulative_bleu2_score*100:.2f}')\n",
        "  print(f'Cumulative BLEU3 score = {cumulative_bleu3_score*100:.2f}')\n",
        "  print(f'Cumulative BLEU4 score = {cumulative_bleu4_score*100:.2f}')"
      ]
    },
    {
      "cell_type": "code",
      "execution_count": 200,
      "metadata": {
        "colab": {
          "base_uri": "https://localhost:8080/"
        },
        "id": "AVsvyn6sxaxo",
        "outputId": "2c2f24d7-92b0-4f5a-ca58-ab52a599f7d6"
      },
      "outputs": [
        {
          "name": "stdout",
          "output_type": "stream",
          "text": [
            "[100/1014]\n",
            "predictd sentence: ['some', 'men', 'sit', 'near', 'a', 'boat', 'with', 'a', 'boat', 'and', '<unk>', '<unk>']\n",
            "label: ['some', 'men', 'are', 'sitting', 'on', 'a', 'boat', 'near', 'a', 'beach', 'covered', 'in', 'stacked', 'logs', 'and', 'sticks.']\n",
            "[200/1014]\n",
            "predictd sentence: ['a', 'person', 'rowing', 'in', 'their', 'boat', 'in', 'the', 'water.']\n",
            "label: ['a', 'person', 'rowing', 'in', 'their', 'boat', 'in', 'the', 'water.']\n",
            "[300/1014]\n",
            "predictd sentence: ['boys', 'smiling', 'girl', 'and', 'girl', 'are', 'smiling', 'out', 'of', 'a', 'grassy', 'field', 'of', 'grass.']\n",
            "label: ['boys', 'and', 'girls', 'from', 'an', 'eastern', 'nation', 'smiling', 'in', 'a', 'field.']\n",
            "[400/1014]\n",
            "predictd sentence: ['young', 'people', 'are', 'playing', 'with', 'a', 'game', 'of', 'leaves.']\n",
            "label: ['young', 'people', 'are', 'engaged', 'in', 'a', 'game.']\n",
            "[500/1014]\n",
            "predictd sentence: ['the', 'men', 'are', 'fighting', 'while', 'the', 'men', 'watch.']\n",
            "label: ['the', 'men', 'fight', 'during', 'the', 'game.']\n",
            "[600/1014]\n",
            "predictd sentence: ['blond', 'man', 'in', 'black', 'leather', 'jacket', 'opening', 'a', 'sculpture.']\n",
            "label: ['blond-haired', 'man', 'wearing', 'a', 'black', 'fleece', 'jacket', 'sculpting.']\n",
            "[700/1014]\n",
            "predictd sentence: ['a', 'happy', 'man', 'raising', 'a', 'woman', 'in', 'the', 'middle', 'of', '<unk>']\n",
            "label: ['a', 'man', 'picks', 'up', 'a', 'dripping', 'wet', 'woman', 'happily.']\n",
            "[800/1014]\n",
            "predictd sentence: ['a', 'family', 'stands', 'outside', 'on', 'a', 'cloudy', 'day.']\n",
            "label: ['a', 'family', 'is', 'standing', 'outdoors', 'on', 'a', 'cloudy', 'day.']\n",
            "[900/1014]\n",
            "predictd sentence: ['a', 'woman', 'stands', 'in', 'front', 'of', 'trees.']\n",
            "label: ['a', 'woman', 'standing', 'in', 'front', 'of', 'trees', 'and', 'smiling.']\n",
            "[1000/1014]\n",
            "predictd sentence: ['two', 'indian', 'children', 'in', 'formal', 'outfits', 'are', 'performing', 'a', 'dance', 'dance', 'in', 'a', 'dance.']\n",
            "label: ['two', 'indian', 'children', 'in', 'formal', 'costume', 'happily', 'performing', 'a', 'ritual', 'dance.']\n",
            "BLEU score = 24.23\n",
            "Individual BLEU1 score = 54.17\n",
            "Individual BLEU2 score = 32.14\n",
            "Individual BLEU3 score = 18.36\n",
            "Individual BLEU4 score = 10.77\n",
            "Cumulative BLEU1 score = 54.17\n",
            "Cumulative BLEU2 score = 41.73\n",
            "Cumulative BLEU3 score = 31.74\n",
            "Cumulative BLEU4 score = 24.23\n"
          ]
        }
      ],
      "source": [
        "show_bleu(test_dataset, SRC, TRG, model, device)"
      ]
    }
  ],
  "metadata": {
    "accelerator": "GPU",
    "colab": {
      "gpuType": "T4",
      "provenance": []
    },
    "kernelspec": {
      "display_name": "Python 3",
      "name": "python3"
    },
    "language_info": {
      "name": "python"
    }
  },
  "nbformat": 4,
  "nbformat_minor": 0
}
