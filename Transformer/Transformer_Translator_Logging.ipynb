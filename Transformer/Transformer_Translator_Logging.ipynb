{
  "nbformat": 4,
  "nbformat_minor": 0,
  "metadata": {
    "colab": {
      "provenance": [],
      "gpuType": "T4"
    },
    "kernelspec": {
      "name": "python3",
      "display_name": "Python 3"
    },
    "language_info": {
      "name": "python"
    },
    "accelerator": "GPU"
  },
  "cells": [
    {
      "cell_type": "markdown",
      "source": [
        "# Transformer Code Review"
      ],
      "metadata": {
        "id": "VebyKBIY_bY2"
      }
    },
    {
      "cell_type": "markdown",
      "source": [
        "## Library"
      ],
      "metadata": {
        "id": "jO8aVl8c_VJy"
      }
    },
    {
      "cell_type": "code",
      "execution_count": 60,
      "metadata": {
        "colab": {
          "base_uri": "https://localhost:8080/"
        },
        "id": "vQNi-e4QlPiO",
        "outputId": "8080232e-f794-4bc9-8b17-36d495beabb7"
      },
      "outputs": [
        {
          "output_type": "stream",
          "name": "stdout",
          "text": [
            "Requirement already satisfied: torchtext==0.6.0 in /usr/local/lib/python3.10/dist-packages (0.6.0)\n",
            "Requirement already satisfied: tqdm in /usr/local/lib/python3.10/dist-packages (from torchtext==0.6.0) (4.66.5)\n",
            "Requirement already satisfied: requests in /usr/local/lib/python3.10/dist-packages (from torchtext==0.6.0) (2.32.3)\n",
            "Requirement already satisfied: torch in /usr/local/lib/python3.10/dist-packages (from torchtext==0.6.0) (2.5.0+cu121)\n",
            "Requirement already satisfied: numpy in /usr/local/lib/python3.10/dist-packages (from torchtext==0.6.0) (1.26.4)\n",
            "Requirement already satisfied: six in /usr/local/lib/python3.10/dist-packages (from torchtext==0.6.0) (1.16.0)\n",
            "Requirement already satisfied: sentencepiece in /usr/local/lib/python3.10/dist-packages (from torchtext==0.6.0) (0.2.0)\n",
            "Requirement already satisfied: charset-normalizer<4,>=2 in /usr/local/lib/python3.10/dist-packages (from requests->torchtext==0.6.0) (3.4.0)\n",
            "Requirement already satisfied: idna<4,>=2.5 in /usr/local/lib/python3.10/dist-packages (from requests->torchtext==0.6.0) (3.10)\n",
            "Requirement already satisfied: urllib3<3,>=1.21.1 in /usr/local/lib/python3.10/dist-packages (from requests->torchtext==0.6.0) (2.2.3)\n",
            "Requirement already satisfied: certifi>=2017.4.17 in /usr/local/lib/python3.10/dist-packages (from requests->torchtext==0.6.0) (2024.8.30)\n",
            "Requirement already satisfied: filelock in /usr/local/lib/python3.10/dist-packages (from torch->torchtext==0.6.0) (3.16.1)\n",
            "Requirement already satisfied: typing-extensions>=4.8.0 in /usr/local/lib/python3.10/dist-packages (from torch->torchtext==0.6.0) (4.12.2)\n",
            "Requirement already satisfied: networkx in /usr/local/lib/python3.10/dist-packages (from torch->torchtext==0.6.0) (3.4.2)\n",
            "Requirement already satisfied: jinja2 in /usr/local/lib/python3.10/dist-packages (from torch->torchtext==0.6.0) (3.1.4)\n",
            "Requirement already satisfied: fsspec in /usr/local/lib/python3.10/dist-packages (from torch->torchtext==0.6.0) (2024.6.1)\n",
            "Requirement already satisfied: sympy==1.13.1 in /usr/local/lib/python3.10/dist-packages (from torch->torchtext==0.6.0) (1.13.1)\n",
            "Requirement already satisfied: mpmath<1.4,>=1.1.0 in /usr/local/lib/python3.10/dist-packages (from sympy==1.13.1->torch->torchtext==0.6.0) (1.3.0)\n",
            "Requirement already satisfied: MarkupSafe>=2.0 in /usr/local/lib/python3.10/dist-packages (from jinja2->torch->torchtext==0.6.0) (3.0.2)\n"
          ]
        }
      ],
      "source": [
        "!pip install torchtext==0.6.0"
      ]
    },
    {
      "cell_type": "code",
      "source": [
        "import csv\n",
        "import math\n",
        "import time\n",
        "import random\n",
        "\n",
        "import numpy as np\n",
        "import torch\n",
        "import torch.nn as nn\n",
        "import torch.optim as optim\n",
        "import torch.utils.data as data\n",
        "import spacy\n",
        "from torch.utils.tensorboard import SummaryWriter\n",
        "\n",
        "import pandas as pd\n",
        "import seaborn as sns\n",
        "from torch import Tensor\n",
        "from torch.nn.utils.rnn import pad_sequence\n",
        "from torch.utils.data import DataLoader\n",
        "from tqdm import tqdm\n",
        "\n",
        "import matplotlib.pyplot as plt\n",
        "import matplotlib.ticker as ticker\n",
        "\n",
        "from torchtext.data import Field, BucketIterator,Example, Dataset\n",
        "from torchtext.data.metrics import bleu_score\n",
        "import spacy\n",
        "import csv"
      ],
      "metadata": {
        "id": "3qs6BA4d_ffo"
      },
      "execution_count": 61,
      "outputs": []
    },
    {
      "cell_type": "markdown",
      "source": [
        "## Dataset"
      ],
      "metadata": {
        "id": "bwnFzAGo_eLn"
      }
    },
    {
      "cell_type": "code",
      "source": [
        "# 영어와 독일어 파일 경로\n",
        "en_file = './train.en'\n",
        "de_file = './train.de'\n",
        "\n",
        "# 두 파일을 열고 대응되는 문장 쌍을 묶기\n",
        "with open(en_file, 'r', encoding='utf-8') as en_f, open(de_file, 'r', encoding='utf-8') as de_f:\n",
        "    en_sentences = en_f.readlines()  # 영어 문장들\n",
        "    de_sentences = de_f.readlines()  # 독일어 문장들\n",
        "\n",
        "# 문장 쌍 묶기\n",
        "dataset = [(en.strip(), de.strip()) for en, de in zip(en_sentences, de_sentences)]\n",
        "\n",
        "# 데이터셋 확인\n",
        "for en, de in dataset[:5]:  # 예시로 처음 5개의 문장 쌍 출력\n",
        "    print(f'English: {en}\\nGerman: {de}\\n')"
      ],
      "metadata": {
        "colab": {
          "base_uri": "https://localhost:8080/"
        },
        "id": "_ENmIjkog_1h",
        "outputId": "40b8b916-f3d4-4a68-d541-c421a559d639"
      },
      "execution_count": 62,
      "outputs": [
        {
          "output_type": "stream",
          "name": "stdout",
          "text": [
            "English: Two young, White males are outside near many bushes.\n",
            "German: Zwei junge weiße Männer sind im Freien in der Nähe vieler Büsche.\n",
            "\n",
            "English: Several men in hard hats are operating a giant pulley system.\n",
            "German: Mehrere Männer mit Schutzhelmen bedienen ein Antriebsradsystem.\n",
            "\n",
            "English: A little girl climbing into a wooden playhouse.\n",
            "German: Ein kleines Mädchen klettert in ein Spielhaus aus Holz.\n",
            "\n",
            "English: A man in a blue shirt is standing on a ladder cleaning a window.\n",
            "German: Ein Mann in einem blauen Hemd steht auf einer Leiter und putzt ein Fenster.\n",
            "\n",
            "English: Two men are at the stove preparing food.\n",
            "German: Zwei Männer stehen am Herd und bereiten Essen zu.\n",
            "\n"
          ]
        }
      ]
    },
    {
      "cell_type": "code",
      "source": [
        "# 데이터셋을 CSV 파일로 저장\n",
        "with open('./train_dataset.csv', 'w', newline='', encoding='utf-8') as csvfile:\n",
        "    writer = csv.writer(csvfile)\n",
        "    writer.writerow(['English', 'German'])  # 헤더\n",
        "    writer.writerows(dataset)  # 데이터 쓰기"
      ],
      "metadata": {
        "id": "S22Xb4SDhB4c"
      },
      "execution_count": 63,
      "outputs": []
    },
    {
      "cell_type": "code",
      "source": [
        "en_file = './test_2016_flickr.en'\n",
        "de_file = './test_2016_flickr.de'\n",
        "\n",
        "with open(en_file, 'r', encoding='utf-8') as en_f, open(de_file, 'r', encoding='utf-8') as de_f:\n",
        "    en_sentences = en_f.readlines()  # 영어 문장들\n",
        "    de_sentences = de_f.readlines()  # 독일어 문장들\n",
        "\n",
        "dataset = [(en.strip(), de.strip()) for en, de in zip(en_sentences, de_sentences)]\n",
        "\n",
        "for en, de in dataset[:5]:  # 예시로 처음 5개의 문장 쌍 출력\n",
        "    print(f'English: {en}\\nGerman: {de}\\n')\n",
        "\n",
        "with open('./test2016flickr_dataset.csv', 'w', newline='', encoding='utf-8') as csvfile:\n",
        "    writer = csv.writer(csvfile)\n",
        "    writer.writerow(['English', 'German'])  # 헤더\n",
        "    writer.writerows(dataset)  # 데이터 쓰기"
      ],
      "metadata": {
        "colab": {
          "base_uri": "https://localhost:8080/"
        },
        "id": "LTB3eBlhln6J",
        "outputId": "7a553862-bdcf-42ef-dbf9-33f645bf3446"
      },
      "execution_count": 64,
      "outputs": [
        {
          "output_type": "stream",
          "name": "stdout",
          "text": [
            "English: A man in an orange hat starring at something.\n",
            "German: Ein Mann mit einem orangefarbenen Hut, der etwas anstarrt.\n",
            "\n",
            "English: A Boston Terrier is running on lush green grass in front of a white fence.\n",
            "German: Ein Boston Terrier läuft über saftig-grünes Gras vor einem weißen Zaun.\n",
            "\n",
            "English: A girl in karate uniform breaking a stick with a front kick.\n",
            "German: Ein Mädchen in einem Karateanzug bricht ein Brett mit einem Tritt.\n",
            "\n",
            "English: Five people wearing winter jackets and helmets stand in the snow, with snowmobiles in the background.\n",
            "German: Fünf Leute in Winterjacken und mit Helmen stehen im Schnee mit Schneemobilen im Hintergrund.\n",
            "\n",
            "English: People are fixing the roof of a house.\n",
            "German: Leute Reparieren das Dach eines Hauses.\n",
            "\n"
          ]
        }
      ]
    },
    {
      "cell_type": "code",
      "source": [
        "train_dataset = pd.read_csv('./train_dataset.csv')\n",
        "test_dataset = pd.read_csv('./test2016flickr_dataset.csv')"
      ],
      "metadata": {
        "id": "-P95faoIAWqZ"
      },
      "execution_count": 65,
      "outputs": []
    },
    {
      "cell_type": "code",
      "source": [
        "test_dataset.head()"
      ],
      "metadata": {
        "colab": {
          "base_uri": "https://localhost:8080/",
          "height": 206
        },
        "id": "VBIJQdPSAlUw",
        "outputId": "e54938d6-e634-47c1-f4fc-f667f4cc2d1b"
      },
      "execution_count": 66,
      "outputs": [
        {
          "output_type": "execute_result",
          "data": {
            "text/plain": [
              "                                             English  \\\n",
              "0      A man in an orange hat starring at something.   \n",
              "1  A Boston Terrier is running on lush green gras...   \n",
              "2  A girl in karate uniform breaking a stick with...   \n",
              "3  Five people wearing winter jackets and helmets...   \n",
              "4             People are fixing the roof of a house.   \n",
              "\n",
              "                                              German  \n",
              "0  Ein Mann mit einem orangefarbenen Hut, der etw...  \n",
              "1  Ein Boston Terrier läuft über saftig-grünes Gr...  \n",
              "2  Ein Mädchen in einem Karateanzug bricht ein Br...  \n",
              "3  Fünf Leute in Winterjacken und mit Helmen steh...  \n",
              "4            Leute Reparieren das Dach eines Hauses.  "
            ],
            "text/html": [
              "\n",
              "  <div id=\"df-f9ab5310-fec7-448d-98a3-fe685ac97d22\" class=\"colab-df-container\">\n",
              "    <div>\n",
              "<style scoped>\n",
              "    .dataframe tbody tr th:only-of-type {\n",
              "        vertical-align: middle;\n",
              "    }\n",
              "\n",
              "    .dataframe tbody tr th {\n",
              "        vertical-align: top;\n",
              "    }\n",
              "\n",
              "    .dataframe thead th {\n",
              "        text-align: right;\n",
              "    }\n",
              "</style>\n",
              "<table border=\"1\" class=\"dataframe\">\n",
              "  <thead>\n",
              "    <tr style=\"text-align: right;\">\n",
              "      <th></th>\n",
              "      <th>English</th>\n",
              "      <th>German</th>\n",
              "    </tr>\n",
              "  </thead>\n",
              "  <tbody>\n",
              "    <tr>\n",
              "      <th>0</th>\n",
              "      <td>A man in an orange hat starring at something.</td>\n",
              "      <td>Ein Mann mit einem orangefarbenen Hut, der etw...</td>\n",
              "    </tr>\n",
              "    <tr>\n",
              "      <th>1</th>\n",
              "      <td>A Boston Terrier is running on lush green gras...</td>\n",
              "      <td>Ein Boston Terrier läuft über saftig-grünes Gr...</td>\n",
              "    </tr>\n",
              "    <tr>\n",
              "      <th>2</th>\n",
              "      <td>A girl in karate uniform breaking a stick with...</td>\n",
              "      <td>Ein Mädchen in einem Karateanzug bricht ein Br...</td>\n",
              "    </tr>\n",
              "    <tr>\n",
              "      <th>3</th>\n",
              "      <td>Five people wearing winter jackets and helmets...</td>\n",
              "      <td>Fünf Leute in Winterjacken und mit Helmen steh...</td>\n",
              "    </tr>\n",
              "    <tr>\n",
              "      <th>4</th>\n",
              "      <td>People are fixing the roof of a house.</td>\n",
              "      <td>Leute Reparieren das Dach eines Hauses.</td>\n",
              "    </tr>\n",
              "  </tbody>\n",
              "</table>\n",
              "</div>\n",
              "    <div class=\"colab-df-buttons\">\n",
              "\n",
              "  <div class=\"colab-df-container\">\n",
              "    <button class=\"colab-df-convert\" onclick=\"convertToInteractive('df-f9ab5310-fec7-448d-98a3-fe685ac97d22')\"\n",
              "            title=\"Convert this dataframe to an interactive table.\"\n",
              "            style=\"display:none;\">\n",
              "\n",
              "  <svg xmlns=\"http://www.w3.org/2000/svg\" height=\"24px\" viewBox=\"0 -960 960 960\">\n",
              "    <path d=\"M120-120v-720h720v720H120Zm60-500h600v-160H180v160Zm220 220h160v-160H400v160Zm0 220h160v-160H400v160ZM180-400h160v-160H180v160Zm440 0h160v-160H620v160ZM180-180h160v-160H180v160Zm440 0h160v-160H620v160Z\"/>\n",
              "  </svg>\n",
              "    </button>\n",
              "\n",
              "  <style>\n",
              "    .colab-df-container {\n",
              "      display:flex;\n",
              "      gap: 12px;\n",
              "    }\n",
              "\n",
              "    .colab-df-convert {\n",
              "      background-color: #E8F0FE;\n",
              "      border: none;\n",
              "      border-radius: 50%;\n",
              "      cursor: pointer;\n",
              "      display: none;\n",
              "      fill: #1967D2;\n",
              "      height: 32px;\n",
              "      padding: 0 0 0 0;\n",
              "      width: 32px;\n",
              "    }\n",
              "\n",
              "    .colab-df-convert:hover {\n",
              "      background-color: #E2EBFA;\n",
              "      box-shadow: 0px 1px 2px rgba(60, 64, 67, 0.3), 0px 1px 3px 1px rgba(60, 64, 67, 0.15);\n",
              "      fill: #174EA6;\n",
              "    }\n",
              "\n",
              "    .colab-df-buttons div {\n",
              "      margin-bottom: 4px;\n",
              "    }\n",
              "\n",
              "    [theme=dark] .colab-df-convert {\n",
              "      background-color: #3B4455;\n",
              "      fill: #D2E3FC;\n",
              "    }\n",
              "\n",
              "    [theme=dark] .colab-df-convert:hover {\n",
              "      background-color: #434B5C;\n",
              "      box-shadow: 0px 1px 3px 1px rgba(0, 0, 0, 0.15);\n",
              "      filter: drop-shadow(0px 1px 2px rgba(0, 0, 0, 0.3));\n",
              "      fill: #FFFFFF;\n",
              "    }\n",
              "  </style>\n",
              "\n",
              "    <script>\n",
              "      const buttonEl =\n",
              "        document.querySelector('#df-f9ab5310-fec7-448d-98a3-fe685ac97d22 button.colab-df-convert');\n",
              "      buttonEl.style.display =\n",
              "        google.colab.kernel.accessAllowed ? 'block' : 'none';\n",
              "\n",
              "      async function convertToInteractive(key) {\n",
              "        const element = document.querySelector('#df-f9ab5310-fec7-448d-98a3-fe685ac97d22');\n",
              "        const dataTable =\n",
              "          await google.colab.kernel.invokeFunction('convertToInteractive',\n",
              "                                                    [key], {});\n",
              "        if (!dataTable) return;\n",
              "\n",
              "        const docLinkHtml = 'Like what you see? Visit the ' +\n",
              "          '<a target=\"_blank\" href=https://colab.research.google.com/notebooks/data_table.ipynb>data table notebook</a>'\n",
              "          + ' to learn more about interactive tables.';\n",
              "        element.innerHTML = '';\n",
              "        dataTable['output_type'] = 'display_data';\n",
              "        await google.colab.output.renderOutput(dataTable, element);\n",
              "        const docLink = document.createElement('div');\n",
              "        docLink.innerHTML = docLinkHtml;\n",
              "        element.appendChild(docLink);\n",
              "      }\n",
              "    </script>\n",
              "  </div>\n",
              "\n",
              "\n",
              "<div id=\"df-1cefd5a8-796e-4b47-b1ef-f7d5e2f7f615\">\n",
              "  <button class=\"colab-df-quickchart\" onclick=\"quickchart('df-1cefd5a8-796e-4b47-b1ef-f7d5e2f7f615')\"\n",
              "            title=\"Suggest charts\"\n",
              "            style=\"display:none;\">\n",
              "\n",
              "<svg xmlns=\"http://www.w3.org/2000/svg\" height=\"24px\"viewBox=\"0 0 24 24\"\n",
              "     width=\"24px\">\n",
              "    <g>\n",
              "        <path d=\"M19 3H5c-1.1 0-2 .9-2 2v14c0 1.1.9 2 2 2h14c1.1 0 2-.9 2-2V5c0-1.1-.9-2-2-2zM9 17H7v-7h2v7zm4 0h-2V7h2v10zm4 0h-2v-4h2v4z\"/>\n",
              "    </g>\n",
              "</svg>\n",
              "  </button>\n",
              "\n",
              "<style>\n",
              "  .colab-df-quickchart {\n",
              "      --bg-color: #E8F0FE;\n",
              "      --fill-color: #1967D2;\n",
              "      --hover-bg-color: #E2EBFA;\n",
              "      --hover-fill-color: #174EA6;\n",
              "      --disabled-fill-color: #AAA;\n",
              "      --disabled-bg-color: #DDD;\n",
              "  }\n",
              "\n",
              "  [theme=dark] .colab-df-quickchart {\n",
              "      --bg-color: #3B4455;\n",
              "      --fill-color: #D2E3FC;\n",
              "      --hover-bg-color: #434B5C;\n",
              "      --hover-fill-color: #FFFFFF;\n",
              "      --disabled-bg-color: #3B4455;\n",
              "      --disabled-fill-color: #666;\n",
              "  }\n",
              "\n",
              "  .colab-df-quickchart {\n",
              "    background-color: var(--bg-color);\n",
              "    border: none;\n",
              "    border-radius: 50%;\n",
              "    cursor: pointer;\n",
              "    display: none;\n",
              "    fill: var(--fill-color);\n",
              "    height: 32px;\n",
              "    padding: 0;\n",
              "    width: 32px;\n",
              "  }\n",
              "\n",
              "  .colab-df-quickchart:hover {\n",
              "    background-color: var(--hover-bg-color);\n",
              "    box-shadow: 0 1px 2px rgba(60, 64, 67, 0.3), 0 1px 3px 1px rgba(60, 64, 67, 0.15);\n",
              "    fill: var(--button-hover-fill-color);\n",
              "  }\n",
              "\n",
              "  .colab-df-quickchart-complete:disabled,\n",
              "  .colab-df-quickchart-complete:disabled:hover {\n",
              "    background-color: var(--disabled-bg-color);\n",
              "    fill: var(--disabled-fill-color);\n",
              "    box-shadow: none;\n",
              "  }\n",
              "\n",
              "  .colab-df-spinner {\n",
              "    border: 2px solid var(--fill-color);\n",
              "    border-color: transparent;\n",
              "    border-bottom-color: var(--fill-color);\n",
              "    animation:\n",
              "      spin 1s steps(1) infinite;\n",
              "  }\n",
              "\n",
              "  @keyframes spin {\n",
              "    0% {\n",
              "      border-color: transparent;\n",
              "      border-bottom-color: var(--fill-color);\n",
              "      border-left-color: var(--fill-color);\n",
              "    }\n",
              "    20% {\n",
              "      border-color: transparent;\n",
              "      border-left-color: var(--fill-color);\n",
              "      border-top-color: var(--fill-color);\n",
              "    }\n",
              "    30% {\n",
              "      border-color: transparent;\n",
              "      border-left-color: var(--fill-color);\n",
              "      border-top-color: var(--fill-color);\n",
              "      border-right-color: var(--fill-color);\n",
              "    }\n",
              "    40% {\n",
              "      border-color: transparent;\n",
              "      border-right-color: var(--fill-color);\n",
              "      border-top-color: var(--fill-color);\n",
              "    }\n",
              "    60% {\n",
              "      border-color: transparent;\n",
              "      border-right-color: var(--fill-color);\n",
              "    }\n",
              "    80% {\n",
              "      border-color: transparent;\n",
              "      border-right-color: var(--fill-color);\n",
              "      border-bottom-color: var(--fill-color);\n",
              "    }\n",
              "    90% {\n",
              "      border-color: transparent;\n",
              "      border-bottom-color: var(--fill-color);\n",
              "    }\n",
              "  }\n",
              "</style>\n",
              "\n",
              "  <script>\n",
              "    async function quickchart(key) {\n",
              "      const quickchartButtonEl =\n",
              "        document.querySelector('#' + key + ' button');\n",
              "      quickchartButtonEl.disabled = true;  // To prevent multiple clicks.\n",
              "      quickchartButtonEl.classList.add('colab-df-spinner');\n",
              "      try {\n",
              "        const charts = await google.colab.kernel.invokeFunction(\n",
              "            'suggestCharts', [key], {});\n",
              "      } catch (error) {\n",
              "        console.error('Error during call to suggestCharts:', error);\n",
              "      }\n",
              "      quickchartButtonEl.classList.remove('colab-df-spinner');\n",
              "      quickchartButtonEl.classList.add('colab-df-quickchart-complete');\n",
              "    }\n",
              "    (() => {\n",
              "      let quickchartButtonEl =\n",
              "        document.querySelector('#df-1cefd5a8-796e-4b47-b1ef-f7d5e2f7f615 button');\n",
              "      quickchartButtonEl.style.display =\n",
              "        google.colab.kernel.accessAllowed ? 'block' : 'none';\n",
              "    })();\n",
              "  </script>\n",
              "</div>\n",
              "\n",
              "    </div>\n",
              "  </div>\n"
            ],
            "application/vnd.google.colaboratory.intrinsic+json": {
              "type": "dataframe",
              "variable_name": "test_dataset",
              "summary": "{\n  \"name\": \"test_dataset\",\n  \"rows\": 1000,\n  \"fields\": [\n    {\n      \"column\": \"English\",\n      \"properties\": {\n        \"dtype\": \"string\",\n        \"num_unique_values\": 1000,\n        \"samples\": [\n          \"Four black men are sitting on the steps of a church.\",\n          \"A man in an orange shirt and a blond boy are riding with other people on a \\\"Pullman\\\" vehicle.\",\n          \"A man wearing a black hat taking a photo in a busy street.\"\n        ],\n        \"semantic_type\": \"\",\n        \"description\": \"\"\n      }\n    },\n    {\n      \"column\": \"German\",\n      \"properties\": {\n        \"dtype\": \"string\",\n        \"num_unique_values\": 1000,\n        \"samples\": [\n          \"Vier schwarze M\\u00e4nner sitzen auf den Stufen einer Kirche.\",\n          \"Ein Mann in einem orangen Shirt und ein blonder Junge fahren mit anderen Personen in einem \\\"Pullman\\\".\",\n          \"Ein Mann mit einer schwarzen M\\u00fctze macht ein Foto auf einer belebten Stra\\u00dfe.\"\n        ],\n        \"semantic_type\": \"\",\n        \"description\": \"\"\n      }\n    }\n  ]\n}"
            }
          },
          "metadata": {},
          "execution_count": 66
        }
      ]
    },
    {
      "cell_type": "code",
      "source": [
        "print(f\"Number of training examples: {len(train_dataset)}\")\n",
        "print(f\"Number of testing examples: {len(test_dataset)}\")"
      ],
      "metadata": {
        "colab": {
          "base_uri": "https://localhost:8080/"
        },
        "id": "zkuNpWTJAsLY",
        "outputId": "f1539b7f-8a1d-4c4e-e502-a1a755a6559e"
      },
      "execution_count": 67,
      "outputs": [
        {
          "output_type": "stream",
          "name": "stdout",
          "text": [
            "Number of training examples: 29000\n",
            "Number of testing examples: 1000\n"
          ]
        }
      ]
    },
    {
      "cell_type": "markdown",
      "source": [
        "### Data Preprocessing"
      ],
      "metadata": {
        "id": "z1CR4hi3mNJa"
      }
    },
    {
      "cell_type": "code",
      "source": [
        "def tokenize(sentence):\n",
        "  return sentence.lower().split()"
      ],
      "metadata": {
        "id": "e7gFjFrvEZiU"
      },
      "execution_count": 68,
      "outputs": []
    },
    {
      "cell_type": "code",
      "source": [
        "train_data = [(tokenize(src), tokenize(trg)) for src, trg in zip(train_dataset['English'], train_dataset['German'])]\n",
        "test_data = [(tokenize(src), tokenize(trg)) for src, trg in zip(test_dataset['English'], test_dataset['German'])]"
      ],
      "metadata": {
        "id": "uHfsBMNbEoUH"
      },
      "execution_count": 69,
      "outputs": []
    },
    {
      "cell_type": "code",
      "source": [
        "test_data[0]"
      ],
      "metadata": {
        "colab": {
          "base_uri": "https://localhost:8080/"
        },
        "id": "Q4qFSIm33PDQ",
        "outputId": "c06453c9-7133-492e-83b4-f84a387017c8"
      },
      "execution_count": 70,
      "outputs": [
        {
          "output_type": "execute_result",
          "data": {
            "text/plain": [
              "(['a', 'man', 'in', 'an', 'orange', 'hat', 'starring', 'at', 'something.'],\n",
              " ['ein',\n",
              "  'mann',\n",
              "  'mit',\n",
              "  'einem',\n",
              "  'orangefarbenen',\n",
              "  'hut,',\n",
              "  'der',\n",
              "  'etwas',\n",
              "  'anstarrt.'])"
            ]
          },
          "metadata": {},
          "execution_count": 70
        }
      ]
    },
    {
      "cell_type": "code",
      "source": [
        "# 독일어(Deutsch) 문장을 토큰화 하는 함수 (순서를 뒤집지 않음)\n",
        "def tokenize_de(text):\n",
        "    return [token.text for token in text]\n",
        "\n",
        "# 영어(English) 문장을 토큰화 하는 함수\n",
        "def tokenize_en(text):\n",
        "    return [token.text for token in text]"
      ],
      "metadata": {
        "id": "1VCfKaytyDcF"
      },
      "execution_count": 71,
      "outputs": []
    },
    {
      "cell_type": "code",
      "source": [
        "SRC = Field(tokenize=tokenize_de, init_token=\"<sos>\", eos_token=\"<eos>\", lower=True, batch_first=True)\n",
        "TRG = Field(tokenize=tokenize_en, init_token=\"<sos\", eos_token=\"<eos>\", lower=True, batch_first=True)\n",
        "train_examples = [Example.fromlist([src, trg], fields=[('src', SRC), ('trg', TRG)]) for trg, src in train_data]\n",
        "train_dataset = Dataset(train_examples, fields={'src': SRC, 'trg': TRG})\n",
        "\n",
        "SRC.build_vocab(train_dataset, min_freq=2)\n",
        "TRG.build_vocab(train_dataset, min_freq=2)"
      ],
      "metadata": {
        "id": "nS0E7t8O9FBM"
      },
      "execution_count": 72,
      "outputs": []
    },
    {
      "cell_type": "code",
      "source": [
        "test_examples = [Example.fromlist([src, trg], fields=[('src', SRC), ('trg', TRG)]) for trg, src in test_data]\n",
        "test_dataset = Dataset(test_examples, fields={'src': SRC, 'trg': TRG})\n",
        "\n",
        "# Dataset 내용 확인\n",
        "print(\"Test Dataset 크기:\", len(test_dataset))\n",
        "\n",
        "# 첫 번째 예시 데이터 확인\n",
        "print(\"Test 데이터 첫 번째 예시의 src:\", test_dataset[0].src)"
      ],
      "metadata": {
        "colab": {
          "base_uri": "https://localhost:8080/"
        },
        "id": "XNMsM22eAgRQ",
        "outputId": "91539e9c-fdbc-4fa7-aea6-7c82cbde2496"
      },
      "execution_count": 73,
      "outputs": [
        {
          "output_type": "stream",
          "name": "stdout",
          "text": [
            "Test Dataset 크기: 1000\n",
            "Test 데이터 첫 번째 예시의 src: ['ein', 'mann', 'mit', 'einem', 'orangefarbenen', 'hut,', 'der', 'etwas', 'anstarrt.']\n"
          ]
        }
      ]
    },
    {
      "cell_type": "code",
      "source": [
        "def sort_key(ex):\n",
        "  return len(ex.src)"
      ],
      "metadata": {
        "id": "HwNurnAQints"
      },
      "execution_count": 74,
      "outputs": []
    },
    {
      "cell_type": "code",
      "source": [
        "device = torch.device('cuda' if torch.cuda.is_available() else 'cpu')\n",
        "\n",
        "BATCH_SIZE = 128"
      ],
      "metadata": {
        "id": "6Pm-4CC81plk"
      },
      "execution_count": 75,
      "outputs": []
    },
    {
      "cell_type": "code",
      "source": [
        "test_iterator = BucketIterator(\n",
        "    test_dataset,\n",
        "    batch_size=BATCH_SIZE,\n",
        "    device=device,\n",
        "    sort_key=sort_key\n",
        ")"
      ],
      "metadata": {
        "id": "GJZrx8vhiJ8g"
      },
      "execution_count": 94,
      "outputs": []
    },
    {
      "cell_type": "markdown",
      "source": [
        "## Model Define"
      ],
      "metadata": {
        "id": "az_1nvmYKjgR"
      }
    },
    {
      "cell_type": "markdown",
      "source": [
        "### Multi Head Attention"
      ],
      "metadata": {
        "id": "O1-VW7FlM3ai"
      }
    },
    {
      "cell_type": "code",
      "source": [
        "class MultiHeadAttentionLayer(nn.Module):\n",
        "  def __init__(self, hidden_dim, n_heads, dropout_ratio, device):\n",
        "    super().__init__()\n",
        "\n",
        "    assert hidden_dim % n_heads == 0\n",
        "\n",
        "    self.hidden_dim = hidden_dim\n",
        "    self.n_heads = n_heads\n",
        "    self.head_dim = hidden_dim // n_heads\n",
        "\n",
        "    self.fc_q = nn.Linear(hidden_dim, hidden_dim)\n",
        "    self.fc_k = nn.Linear(hidden_dim, hidden_dim)\n",
        "    self.fc_v = nn.Linear(hidden_dim, hidden_dim)\n",
        "\n",
        "    self.fc_o = nn.Linear(hidden_dim, hidden_dim)\n",
        "\n",
        "    self.dropout = nn.Dropout(dropout_ratio)\n",
        "\n",
        "    self.scale = torch.sqrt(torch.FloatTensor([self.head_dim])).to(device)\n",
        "\n",
        "  def forward(self, query, key, value, mask = None):\n",
        "    batch_size = query.shape[0]\n",
        "\n",
        "    # query: [batch_size, query_len, hidden_dim]\n",
        "    # key: [batch_size, key_len, hidden_dim]\n",
        "    # value: [batch_size, value_len, hidden_dim]\n",
        "\n",
        "    Q = self.fc_q(query)\n",
        "    K = self.fc_k(key)\n",
        "    V = self.fc_v(value)\n",
        "    # Q: [batch_size, query_len, hidden_dim]\n",
        "    # K: [batch_size, key_len, hidden_dim]\n",
        "    # V: [batch_size, value_len, hidden_dim]\n",
        "\n",
        "    # hidden_dim -> n_heads x head_dim\n",
        "    # n_heads개의 서로 다른 attention 컨셉을 학습하도록\n",
        "    Q = Q.view(batch_size, -1, self.n_heads, self.head_dim).permute(0, 2, 1, 3)\n",
        "    K = K.view(batch_size, -1, self.n_heads, self.head_dim).permute(0, 2, 1, 3)\n",
        "    V = V.view(batch_size, -1, self.n_heads, self.head_dim).permute(0, 2, 1, 3)\n",
        "    # (batch_size, seq_len, hidden_dim) -> (batch_size, seq_len, n_heads, head_dim) -> (batch_size, n_heads, seq_len, head_dim)\n",
        "    # Q: [batch_size, n_heads, query_len, head_dim]\n",
        "    # K: [batch_size, n_heads, key_len, head_dim]\n",
        "    # V: [batch_size, n_heads, value_len, head_dim]\n",
        "\n",
        "    # Attention Energy 계산\n",
        "    energy = torch.matmul(Q, K.permute(0, 1, 3, 2)) / self.scale\n",
        "    # energy: [batch_size, n_heads, query_len, key_len]\n",
        "\n",
        "    # mask를 사용하는 경우\n",
        "    if mask is not None:\n",
        "      # mask 값이 0인 부분을 -1e10으로 채우기\n",
        "      energy = energy.masked_fill(mask == 0, -1e10)\n",
        "\n",
        "    # attention score 계산\n",
        "    attention = torch.softmax(energy, dim = -1)\n",
        "    # attention: [batch_size, n_heads, query_len, key_len]\n",
        "\n",
        "    # scaeld dot-product attention 계산\n",
        "    x = torch.matmul(self.dropout(attention), V)\n",
        "    # x: [batch_size, n_heads, query_len, head_dim]\n",
        "\n",
        "    x = x.permute(0, 2, 1, 3).contiguous()\n",
        "    # x: [batch_size, query_len, n_heads, head_dim]\n",
        "\n",
        "    x = x.view(batch_size, -1, self.hidden_dim)\n",
        "    # x: [batch_size, query_len, hidden_dim]\n",
        "\n",
        "    x = self.fc_o(x)\n",
        "    # x: [batch_size, query_len, hidden_dim]\n",
        "\n",
        "    return x, attention"
      ],
      "metadata": {
        "id": "TX1Kgi2fJg2e"
      },
      "execution_count": 95,
      "outputs": []
    },
    {
      "cell_type": "markdown",
      "source": [
        "꼭 (batch_size, seq_len, n_heads, head_dim)에서 (batch_size, n_heads, seq_len, head_dim)로 변환해야 하는 이유는 어텐션 계산의 효율성을 높이기 위해서입니다. 다중 헤드 어텐션에서는 각 헤드가 독립적으로 문맥 정보를 학습해야 하므로, 모든 헤드의 어텐션을 병렬로 계산할 수 있도록 차원 순서를 재배열해야 합니다.\n",
        "\n",
        "이유: 차원 순서 변환의 필요성\n",
        "\n",
        "\t1.\t독립적인 어텐션 계산:\n",
        "\t•\t(batch_size, seq_len, n_heads, head_dim) 형식에서는 어텐션을 계산할 때 헤드별 독립적인 연산이 어렵습니다.\n",
        "\t•\t반드시 n_heads 차원이 두 번째로 위치해야 각 헤드에 대해 병렬 계산이 가능해집니다. n_heads 차원이 두 번째에 위치하면 각 헤드를 따로 떼어내어 병렬 연산을 효율적으로 수행할 수 있습니다.\n",
        "\t2.\t병렬 연산 최적화:\n",
        "\t•\t(batch_size, n_heads, seq_len, head_dim) 형식은 PyTorch와 같은 프레임워크에서 배치 행렬 곱셈(bmm) 연산을 사용하기에 최적화된 구조입니다.\n",
        "\t•\tbmm 연산은 (batch_size * n_heads, seq_len, head_dim) 형식으로 데이터를 전달할 때 병렬 처리가 가능하도록 설계되었습니다. 이처럼 헤드별로 독립적인 어텐션 가중치를 계산하는 데 최적화된 형식이므로, 변환을 통해 연산 속도가 크게 향상됩니다.\n",
        "\t3.\t어텐션 가중치 행렬(Q, K, V)의 효율적 사용:\n",
        "\t•\t어텐션 계산에서 Q, K, V 행렬이 각각의 헤드에 맞게 분할되어 사용됩니다.\n",
        "\t•\t각 헤드가 독립적으로 Q, K, V를 사용하여 어텐션 스코어를 계산하기 때문에, (batch_size, n_heads, seq_len, head_dim) 형식이 모든 헤드의 어텐션을 동시에 계산하기에 최적의 구조입니다.\n",
        "\n",
        "요약\n",
        "\n",
        "\t•\t독립적이고 효율적인 병렬 연산: 각 헤드가 독립적으로 어텐션을 계산하기 위해 차원 순서가 필요합니다.\n",
        "\t•\t프레임워크 최적화: PyTorch의 bmm와 같은 연산이 n_heads가 두 번째 차원에 위치한 형식에서 가장 효과적으로 작동합니다.\n",
        "\n",
        "따라서 (batch_size, seq_len, n_heads, head_dim)에서 (batch_size, n_heads, seq_len, head_dim)로 변환하는 것은 다중 헤드 어텐션의 병렬 처리와 최적화된 계산을 위해 필수적입니다."
      ],
      "metadata": {
        "id": "L5wlcHwwQHQd"
      }
    },
    {
      "cell_type": "markdown",
      "source": [
        "### Point-wise Feedforward"
      ],
      "metadata": {
        "id": "uMoN-lCrU-NL"
      }
    },
    {
      "cell_type": "code",
      "source": [
        "class PositionwiseFeedforwardLayer(nn.Module):\n",
        "  def __init__(self, hidden_dim, pf_dim, dropout_ratio):\n",
        "    super().__init__()\n",
        "\n",
        "    self.fc_1 = nn.Linear(hidden_dim, pf_dim)\n",
        "    self.fc_2 = nn.Linear(pf_dim, hidden_dim)\n",
        "\n",
        "    self.dropout = nn.Dropout(dropout_ratio)\n",
        "\n",
        "  def forward(self, x):\n",
        "    # x: [batch_size, seq_len, hidden_dim]\n",
        "\n",
        "    x = self.dropout(torch.relu(self.fc_1(x)))\n",
        "    # x: [batch_size, seq_len, pf_dim]\n",
        "\n",
        "    x = self.fc_2(x)\n",
        "    # x: [batch_size, seq_len, hidden_dim]\n",
        "\n",
        "    return x"
      ],
      "metadata": {
        "id": "ITbS7f6JQH7y"
      },
      "execution_count": 96,
      "outputs": []
    },
    {
      "cell_type": "markdown",
      "source": [
        "### Encoder layer"
      ],
      "metadata": {
        "id": "TwRFbj9EVwcf"
      }
    },
    {
      "cell_type": "code",
      "source": [
        "class EncoderLayer(nn.Module):\n",
        "  def __init__(self, hidden_dim, n_heads, pf_dim, dropout_ratio, device):\n",
        "    super().__init__()\n",
        "\n",
        "    self.self_attn_layer_norm = nn.LayerNorm(hidden_dim)\n",
        "    self.ff_layer_norm = nn.LayerNorm(hidden_dim)\n",
        "    self.self_attention = MultiHeadAttentionLayer(hidden_dim, n_heads, dropout_ratio, device)\n",
        "    self.positionwise_feedforward = PositionwiseFeedforwardLayer(hidden_dim, pf_dim, dropout_ratio)\n",
        "    self.dropout = nn.Dropout(dropout_ratio)\n",
        "\n",
        "  # 하나의 embedding이 복제되어 q, k, v로 입력되는 방식\n",
        "  def forward(self, src, src_mask):\n",
        "    # src: [batch_size, src_len, hidden_dim]\n",
        "    # src_mask: [batch_size, src_len]\n",
        "\n",
        "    # self attention\n",
        "    _src, _ = self.self_attention(src, src, src, src_mask)\n",
        "\n",
        "    # dropout, residual connection and layer norm\n",
        "    src = self.self_attn_layer_norm(src + self.dropout(_src))\n",
        "    # src: [batch_size, src_len, hidden_dim]\n",
        "\n",
        "    # position-wise feedforward\n",
        "    _src = self.positionwise_feedforward(src)\n",
        "\n",
        "    # dropout, residual connection and layer norm\n",
        "    src = self.ff_layer_norm(src + self.dropout(_src))\n",
        "    # src: [batch_size, src_len, hidden_dim]\n",
        "\n",
        "    return src"
      ],
      "metadata": {
        "id": "PAIvud04VqTS"
      },
      "execution_count": 97,
      "outputs": []
    },
    {
      "cell_type": "markdown",
      "source": [
        "### Encoder"
      ],
      "metadata": {
        "id": "Ev7TV1e3XYfO"
      }
    },
    {
      "cell_type": "markdown",
      "source": [
        "\"원본 논문과는 다르게 위치 임베딩(positional embedding)을 학습하는 형태로 구현합니다.\" -> 이 부분은 추후에 원본처럼 포지셔널 임베딩 구현해보기"
      ],
      "metadata": {
        "id": "_7mghqJDYQ7S"
      }
    },
    {
      "cell_type": "code",
      "source": [
        "class Encoder(nn.Module):\n",
        "  def __init__(self, input_dim, hidden_dim, n_layers, n_heads, pf_dim, dropout_ratio, device, max_length = 100):\n",
        "    super().__init__()\n",
        "\n",
        "    self.device = device\n",
        "\n",
        "    self.tok_embedding = nn.Embedding(input_dim, hidden_dim)\n",
        "    self.pos_embedding = nn.Embedding(max_length, hidden_dim)\n",
        "\n",
        "    self.layers = nn.ModuleList([EncoderLayer(hidden_dim, n_heads, pf_dim, dropout_ratio, device) for _ in range(n_layers)])\n",
        "\n",
        "    self.dropout = nn.Dropout(dropout_ratio)\n",
        "    self.scale = torch.sqrt(torch.FloatTensor([hidden_dim])).to(device)\n",
        "\n",
        "  def forward(self, src, src_mask):\n",
        "    # src: [batch_size, src_len]\n",
        "    # src_mask: [batch_size, src_len]\n",
        "\n",
        "    batch_size = src.shape[0]\n",
        "    src_len = src.shape[1]\n",
        "\n",
        "    pos = torch.arange(0, src_len).unsqueeze(0).repeat(batch_size, 1).to(self.device)\n",
        "    # pos: [batch_size, src_len]\n",
        "\n",
        "    src = self.dropout((self.tok_embedding(src) * self.scale) + self.pos_embedding(pos))\n",
        "    # src: [batch_size, src_len, hidden_dim]\n",
        "\n",
        "    # forward in all encoder layer\n",
        "    for layer in self.layers:\n",
        "      src = layer(src, src_mask)\n",
        "    # src: [batch_size, src_len, hidden_dim]\n",
        "\n",
        "    return src"
      ],
      "metadata": {
        "id": "5pQNu-zwWYiE"
      },
      "execution_count": 98,
      "outputs": []
    },
    {
      "cell_type": "markdown",
      "source": [
        "### Decoder Layer"
      ],
      "metadata": {
        "id": "RynagOVnmEeS"
      }
    },
    {
      "cell_type": "code",
      "source": [
        "class DecoderLayer(nn.Module):\n",
        "  def __init__(self, hidden_dim, n_heads, pf_dim, dropout_ratio, device):\n",
        "    super().__init__()\n",
        "\n",
        "    self.self_attn_layer_norm = nn.LayerNorm(hidden_dim)\n",
        "    self.enc_attn_layer_norm = nn.LayerNorm(hidden_dim)\n",
        "    self.ff_layer_norm = nn.LayerNorm(hidden_dim)\n",
        "    self.self_attention = MultiHeadAttentionLayer(hidden_dim, n_heads, dropout_ratio, device)\n",
        "    self.encoder_attention = MultiHeadAttentionLayer(hidden_dim, n_heads, dropout_ratio, device)\n",
        "    self.positionwise_feedforward = PositionwiseFeedforwardLayer(hidden_dim, pf_dim, dropout_ratio)\n",
        "    self.dropout = nn.Dropout(dropout_ratio)\n",
        "\n",
        "  # encoder의 output(enc_src)을 attention\n",
        "  def forward(self, trg, enc_src, trg_mask, src_mask):\n",
        "    # trg: [batch_size, trg_len, hidden_dim]\n",
        "    # eng_src: [batch_size, src_len, hidden_dim]\n",
        "    # trg_mask: [batch_size, trg_len]\n",
        "    # src_mask: [batch_size, src_len]\n",
        "\n",
        "    # self attention\n",
        "    _trg, _ = self.self_attention(trg, trg, trg, trg_mask)\n",
        "\n",
        "    # dropout, residual connection and layer norm\n",
        "    trg = self.self_attn_layer_norm(trg + self.dropout(_trg))\n",
        "    # trg: [batch_size, trg_len, hidden_dim]\n",
        "\n",
        "    # encoder attention\n",
        "    # decoder의 query를 이용해 encoder를 attention\n",
        "    _trg, attention = self.encoder_attention(trg, enc_src, enc_src, src_mask)\n",
        "\n",
        "    # dropout, residual connection and layer norm\n",
        "    trg = self.enc_attn_layer_norm(trg + self.dropout(_trg))\n",
        "    # trg: [batch_size, trg_len, hidden_dim]\n",
        "\n",
        "    # positionwise feedforward\n",
        "    _trg = self.positionwise_feedforward(trg)\n",
        "\n",
        "    # dropout, residual connection and layernorm\n",
        "    trg = self.ff_layer_norm(trg + self.dropout(_trg))\n",
        "    # trg: [batch_size, trg_len, hidden_dim]\n",
        "    # attention: [batch_size, n_heads, trg_len, src_len]\n",
        "\n",
        "    return trg, attention"
      ],
      "metadata": {
        "id": "S9Nxk7LwZq1j"
      },
      "execution_count": 99,
      "outputs": []
    },
    {
      "cell_type": "markdown",
      "source": [
        "### Decoder"
      ],
      "metadata": {
        "id": "qgWvTInHqRHL"
      }
    },
    {
      "cell_type": "code",
      "source": [
        "class Decoder(nn.Module):\n",
        "  def __init__(self, output_dim, hidden_dim, n_layers, n_heads, pf_dim, dropout_ratio, device, max_length = 100):\n",
        "    super().__init__()\n",
        "\n",
        "    self.device = device\n",
        "\n",
        "    self.tok_embedding = nn.Embedding(output_dim, hidden_dim)\n",
        "    self.pos_embedding = nn.Embedding(max_length, hidden_dim)\n",
        "\n",
        "    self.layers = nn.ModuleList([DecoderLayer(hidden_dim, n_heads, pf_dim, dropout_ratio, device) for _ in range(n_layers)])\n",
        "\n",
        "    self.fc_out = nn.Linear(hidden_dim, output_dim)\n",
        "\n",
        "    self.dropout = nn.Dropout(dropout_ratio)\n",
        "\n",
        "    self.scale = torch.sqrt(torch.FloatTensor([hidden_dim])).to(device)\n",
        "\n",
        "  def forward(self, trg, enc_src, trg_mask, src_mask):\n",
        "    # trg: [batch_size, trg_len]\n",
        "    # enc_src: [batch_size, src_len, hidde_dim]\n",
        "    # trg_mask: [batch_size, trg_len]\n",
        "    # src_mask: [batch_size, src_len]\n",
        "\n",
        "    batch_size = trg.shape[0]\n",
        "    trg_len = trg.shape[1]\n",
        "\n",
        "    pos = torch.arange(0, trg_len).unsqueeze(0).repeat(batch_size, 1).to(self.device)\n",
        "    # pos: [batch_size, trg_len]\n",
        "\n",
        "    trg = self.dropout((self.tok_embedding(trg) * self.scale) + self.pos_embedding(pos))\n",
        "    # trg: [batch_size, trg_len, hidden_dim]\n",
        "\n",
        "    for layer in self.layers:\n",
        "      trg, attention = layer(trg, enc_src, trg_mask, src_mask)\n",
        "      # trg: [batch_size, trg_len, hidden_dim]\n",
        "      # attention: [batch_size, n_heads, trg_len, src_len]\n",
        "\n",
        "    output = self.fc_out(trg)\n",
        "    # output: [batch_size, trg_len, output_dim]\n",
        "\n",
        "    return output, attention\n"
      ],
      "metadata": {
        "id": "ZAN5cYlnnmz4"
      },
      "execution_count": 100,
      "outputs": []
    },
    {
      "cell_type": "markdown",
      "source": [
        "### Transformer"
      ],
      "metadata": {
        "id": "dYfsUabxsIkW"
      }
    },
    {
      "cell_type": "code",
      "source": [
        "class Transformer(nn.Module):\n",
        "  def __init__(self, encoder, decoder, src_pad_idx, trg_pad_idx, device):\n",
        "    super().__init__()\n",
        "\n",
        "    self.encoder = encoder\n",
        "    self.decoder = decoder\n",
        "    self.src_pad_idx = src_pad_idx\n",
        "    self.trg_pad_idx = trg_pad_idx\n",
        "    self.device = device\n",
        "\n",
        "  def make_src_mask(self, src):\n",
        "    # src: [batch_size, src_len]\n",
        "\n",
        "    src_mask = (src != self.src_pad_idx).unsqueeze(1).unsqueeze(2)\n",
        "    # src_mask: [batch_size, 1, 1, src_len]\n",
        "\n",
        "    return src_mask\n",
        "\n",
        "  # 각 단어가 다음 단어가 무엇인지 알 수 없도록 마스킹\n",
        "  def make_trg_mask(self, trg):\n",
        "    # trg: [batch_size, trg_len]\n",
        "\n",
        "\n",
        "    \"\"\"mask exmaple\n",
        "    1 0 0 0 0\n",
        "    1 1 0 0 0\n",
        "    1 1 1 0 0\n",
        "    1 1 1 0 0\n",
        "    1 1 1 0 1\n",
        "    \"\"\"\n",
        "    # sequence길이를 맞추기 위해 padding된 부분을 무시하기 위함\n",
        "    trg_pad_mask = (trg != self.trg_pad_idx).unsqueeze(1).unsqueeze(2)\n",
        "    # trg_pad_mask: [batch_size, 1, 1, trg_len]\n",
        "\n",
        "    trg_len = trg.shape[1]\n",
        "\n",
        "    \"\"\"mask exmaple\n",
        "    1 0 0 0 0\n",
        "    1 1 0 0 0\n",
        "    1 1 1 0 0\n",
        "    1 1 1 1 0\n",
        "    1 1 1 1 1\n",
        "    \"\"\"\n",
        "    # 미래 단어를 참조하지 않도록 하기 위함\n",
        "    trg_sub_mask = torch.tril(torch.ones((trg_len, trg_len), device = self.device)).bool()\n",
        "    # trg_sub_mask: [trg_len, trg_len]\n",
        "\n",
        "    trg_mask = trg_pad_mask & trg_sub_mask\n",
        "    # trg_mask: [batch_size, 1, trg_len, trg_len]\n",
        "\n",
        "    return trg_mask\n",
        "\n",
        "  def forward(self, src, trg):\n",
        "    # src: [batch_size, src_len]\n",
        "    # trg: [batch_size, trg_len]\n",
        "\n",
        "    src_mask = self.make_src_mask(src)\n",
        "    trg_mask = self.make_trg_mask(trg)\n",
        "    # src_mask: [batch_size, 1, 1, src_len]\n",
        "    # trg_mask: [batch_size, 1, trg_len, trg_len]\n",
        "\n",
        "    enc_src = self.encoder(src, src_mask)\n",
        "    # enc_src: [batch_size, src_len, hidden_dim]\n",
        "\n",
        "    output, attention = self.decoder(trg, enc_src, trg_mask, src_mask)\n",
        "    # output: [batch_size, trg_len, output_dim]\n",
        "    # attention: [batch_size, n_heads, trg_len, src_len]\n",
        "\n",
        "    return output, attention"
      ],
      "metadata": {
        "id": "eqeZQtg3sHlL"
      },
      "execution_count": 101,
      "outputs": []
    },
    {
      "cell_type": "markdown",
      "source": [
        "## Train"
      ],
      "metadata": {
        "id": "iHEgZD6Av7VT"
      }
    },
    {
      "cell_type": "markdown",
      "source": [
        "### config"
      ],
      "metadata": {
        "id": "u7pwGXzfv9Dq"
      }
    },
    {
      "cell_type": "code",
      "source": [
        "INPUT_DIM = len(SRC.vocab)\n",
        "OUTPUT_DIM = len(TRG.vocab)\n",
        "HIDDEN_DIM = 256\n",
        "ENC_LAYERS = 3\n",
        "DEC_LAYERS = 3\n",
        "ENC_HEADS = 8\n",
        "DEC_HEADS = 8\n",
        "ENC_PF_DIM = 512\n",
        "DEC_PF_DIM = 512\n",
        "ENC_DROPOUT = 0.1\n",
        "DEC_DROPOUT = 0.1"
      ],
      "metadata": {
        "id": "wVyXU6rRv2sJ"
      },
      "execution_count": 102,
      "outputs": []
    },
    {
      "cell_type": "code",
      "source": [
        "SRC_PAD_IDX = SRC.vocab.stoi[SRC.pad_token]\n",
        "TRG_PAD_IDX = TRG.vocab.stoi[TRG.pad_token]\n",
        "\n",
        "enc = Encoder(INPUT_DIM, HIDDEN_DIM, ENC_LAYERS, ENC_HEADS, ENC_PF_DIM, ENC_DROPOUT, device)\n",
        "dec = Decoder(OUTPUT_DIM, HIDDEN_DIM, DEC_LAYERS, DEC_HEADS, DEC_PF_DIM, DEC_DROPOUT, device)\n",
        "\n",
        "model = Transformer(enc, dec, SRC_PAD_IDX, TRG_PAD_IDX, device).to(device)"
      ],
      "metadata": {
        "id": "6C4rL8EcaCEF"
      },
      "execution_count": 103,
      "outputs": []
    },
    {
      "cell_type": "code",
      "source": [
        "model"
      ],
      "metadata": {
        "colab": {
          "base_uri": "https://localhost:8080/"
        },
        "id": "TkiDo1eOalQK",
        "outputId": "f5783ef1-46a9-4a53-c3ff-dca9fe28a9f5"
      },
      "execution_count": 104,
      "outputs": [
        {
          "output_type": "execute_result",
          "data": {
            "text/plain": [
              "Transformer(\n",
              "  (encoder): Encoder(\n",
              "    (tok_embedding): Embedding(9597, 256)\n",
              "    (pos_embedding): Embedding(100, 256)\n",
              "    (layers): ModuleList(\n",
              "      (0-2): 3 x EncoderLayer(\n",
              "        (self_attn_layer_norm): LayerNorm((256,), eps=1e-05, elementwise_affine=True)\n",
              "        (ff_layer_norm): LayerNorm((256,), eps=1e-05, elementwise_affine=True)\n",
              "        (self_attention): MultiHeadAttentionLayer(\n",
              "          (fc_q): Linear(in_features=256, out_features=256, bias=True)\n",
              "          (fc_k): Linear(in_features=256, out_features=256, bias=True)\n",
              "          (fc_v): Linear(in_features=256, out_features=256, bias=True)\n",
              "          (fc_o): Linear(in_features=256, out_features=256, bias=True)\n",
              "          (dropout): Dropout(p=0.1, inplace=False)\n",
              "        )\n",
              "        (positionwise_feedforward): PositionwiseFeedforwardLayer(\n",
              "          (fc_1): Linear(in_features=256, out_features=512, bias=True)\n",
              "          (fc_2): Linear(in_features=512, out_features=256, bias=True)\n",
              "          (dropout): Dropout(p=0.1, inplace=False)\n",
              "        )\n",
              "        (dropout): Dropout(p=0.1, inplace=False)\n",
              "      )\n",
              "    )\n",
              "    (dropout): Dropout(p=0.1, inplace=False)\n",
              "  )\n",
              "  (decoder): Decoder(\n",
              "    (tok_embedding): Embedding(7704, 256)\n",
              "    (pos_embedding): Embedding(100, 256)\n",
              "    (layers): ModuleList(\n",
              "      (0-2): 3 x DecoderLayer(\n",
              "        (self_attn_layer_norm): LayerNorm((256,), eps=1e-05, elementwise_affine=True)\n",
              "        (enc_attn_layer_norm): LayerNorm((256,), eps=1e-05, elementwise_affine=True)\n",
              "        (ff_layer_norm): LayerNorm((256,), eps=1e-05, elementwise_affine=True)\n",
              "        (self_attention): MultiHeadAttentionLayer(\n",
              "          (fc_q): Linear(in_features=256, out_features=256, bias=True)\n",
              "          (fc_k): Linear(in_features=256, out_features=256, bias=True)\n",
              "          (fc_v): Linear(in_features=256, out_features=256, bias=True)\n",
              "          (fc_o): Linear(in_features=256, out_features=256, bias=True)\n",
              "          (dropout): Dropout(p=0.1, inplace=False)\n",
              "        )\n",
              "        (encoder_attention): MultiHeadAttentionLayer(\n",
              "          (fc_q): Linear(in_features=256, out_features=256, bias=True)\n",
              "          (fc_k): Linear(in_features=256, out_features=256, bias=True)\n",
              "          (fc_v): Linear(in_features=256, out_features=256, bias=True)\n",
              "          (fc_o): Linear(in_features=256, out_features=256, bias=True)\n",
              "          (dropout): Dropout(p=0.1, inplace=False)\n",
              "        )\n",
              "        (positionwise_feedforward): PositionwiseFeedforwardLayer(\n",
              "          (fc_1): Linear(in_features=256, out_features=512, bias=True)\n",
              "          (fc_2): Linear(in_features=512, out_features=256, bias=True)\n",
              "          (dropout): Dropout(p=0.1, inplace=False)\n",
              "        )\n",
              "        (dropout): Dropout(p=0.1, inplace=False)\n",
              "      )\n",
              "    )\n",
              "    (fc_out): Linear(in_features=256, out_features=7704, bias=True)\n",
              "    (dropout): Dropout(p=0.1, inplace=False)\n",
              "  )\n",
              ")"
            ]
          },
          "metadata": {},
          "execution_count": 104
        }
      ]
    },
    {
      "cell_type": "code",
      "source": [
        "def count_parameters(model):\n",
        "  return sum(p.numel() for p in model.parameters() if p.requires_grad)\n",
        "\n",
        "print(f'The model has {count_parameters(model):,} trainable parameters')"
      ],
      "metadata": {
        "colab": {
          "base_uri": "https://localhost:8080/"
        },
        "id": "LGM9ZXqeamHO",
        "outputId": "112048a4-a2ff-4b8c-d98d-3ae16b53fa2c"
      },
      "execution_count": 105,
      "outputs": [
        {
          "output_type": "stream",
          "name": "stdout",
          "text": [
            "The model has 10,413,848 trainable parameters\n"
          ]
        }
      ]
    },
    {
      "cell_type": "code",
      "source": [
        "def initialize_weights(m):\n",
        "  if hasattr(m, 'weight') and m.weight.dim() > 1:\n",
        "    nn.init.xavier_uniform_(m.weight.data)"
      ],
      "metadata": {
        "id": "CqrEYyqsbEJZ"
      },
      "execution_count": 106,
      "outputs": []
    },
    {
      "cell_type": "code",
      "source": [
        "def evaluate(model, iterator, criterion):\n",
        "  model.eval()\n",
        "  epoch_loss = 0\n",
        "\n",
        "  with torch.no_grad():\n",
        "    for i, batch in enumerate(iterator):\n",
        "      src = batch.src\n",
        "      trg = batch.trg\n",
        "\n",
        "      output, _ = model(src, trg[:,:-1])\n",
        "      # output: [batch_size, trg_len - 1, output_dim]\n",
        "      # trg: [batch_size, trg_len]\n",
        "\n",
        "      output_dim = output.shape[-1]\n",
        "\n",
        "      output = output.contiguous().view(-1, output_dim)\n",
        "      trg = trg[:,1:].contiguous().view(-1)\n",
        "      # output: [batch_size * (trg_len - 1), output_dim]\n",
        "      # trg: [batch_size * (trg_len - 1)]\n",
        "\n",
        "      loss = criterion(output, trg)\n",
        "\n",
        "      epoch_loss += loss.item()\n",
        "\n",
        "    return epoch_loss / len(iterator)"
      ],
      "metadata": {
        "id": "aXVxv6vnhe7o"
      },
      "execution_count": 107,
      "outputs": []
    },
    {
      "cell_type": "code",
      "source": [
        "criterion = nn.CrossEntropyLoss(ignore_index = TRG_PAD_IDX)"
      ],
      "metadata": {
        "id": "RbEV-ScBhkIi"
      },
      "execution_count": 108,
      "outputs": []
    },
    {
      "cell_type": "markdown",
      "source": [
        "## Test"
      ],
      "metadata": {
        "id": "qgBH48VwngHU"
      }
    },
    {
      "cell_type": "code",
      "source": [
        "model.load_state_dict(torch.load('./transformer_german_to_english.pt', map_location=torch.device(device)))\n",
        "\n",
        "test_loss = evaluate(model, test_iterator, criterion)\n",
        "\n",
        "print(f'Test Loss: {test_loss:.3f} | Test PPL: {math.exp(test_loss):.3f}')"
      ],
      "metadata": {
        "colab": {
          "base_uri": "https://localhost:8080/"
        },
        "id": "PuMMhZfSknXX",
        "outputId": "8acbda58-6005-4519-a4e1-eee1f58e309d"
      },
      "execution_count": 109,
      "outputs": [
        {
          "output_type": "stream",
          "name": "stderr",
          "text": [
            "<ipython-input-109-bc3f9d2f0eaa>:1: FutureWarning: You are using `torch.load` with `weights_only=False` (the current default value), which uses the default pickle module implicitly. It is possible to construct malicious pickle data which will execute arbitrary code during unpickling (See https://github.com/pytorch/pytorch/blob/main/SECURITY.md#untrusted-models for more details). In a future release, the default value for `weights_only` will be flipped to `True`. This limits the functions that could be executed during unpickling. Arbitrary objects will no longer be allowed to be loaded via this mode unless they are explicitly allowlisted by the user via `torch.serialization.add_safe_globals`. We recommend you start setting `weights_only=True` for any use case where you don't have full control of the loaded file. Please open an issue on GitHub for any issues related to this experimental feature.\n",
            "  model.load_state_dict(torch.load('./transformer_german_to_english.pt', map_location=torch.device(device)))\n"
          ]
        },
        {
          "output_type": "stream",
          "name": "stdout",
          "text": [
            "Test Loss: 2.188 | Test PPL: 8.918\n"
          ]
        }
      ]
    },
    {
      "cell_type": "markdown",
      "source": [
        "## Translator using Transformer"
      ],
      "metadata": {
        "id": "ooM_yTVqsfL-"
      }
    },
    {
      "cell_type": "code",
      "source": [
        "def translate_sentence(sentence, src_field, trg_field, model, device, max_len = 50, logging=True):\n",
        "  model.eval()\n",
        "\n",
        "  tokens = sentence\n",
        "\n",
        "  tokens = [src_field.init_token] + tokens + [src_field.eos_token]\n",
        "  if logging:\n",
        "    print(f\"전체 소스 토큰: {tokens}\")\n",
        "\n",
        "  src_index = [src_field.vocab.stoi[token] for token in tokens]\n",
        "  if logging:\n",
        "    print(f\"소스 문장 인덱스: {src_index}\")\n",
        "\n",
        "  src_tensor = torch.LongTensor(src_index).unsqueeze(0).to(device)\n",
        "\n",
        "  src_mask = model.make_src_mask(src_tensor)\n",
        "\n",
        "  with torch.no_grad():\n",
        "    enc_src = model.encoder(src_tensor, src_mask)\n",
        "\n",
        "  trg_indexes = [trg_field.vocab.stoi[trg_field.init_token]]\n",
        "\n",
        "  if logging:\n",
        "    print(f\"src_tensor: {src_tensor}\")\n",
        "    print(f\"src_mask: {src_mask}\")\n",
        "    print(f\"enc_src: {enc_src}\")\n",
        "    print(f\"trg_indexes: {trg_indexes}\")\n",
        "    print(\"=\"*50)\n",
        "  for i in range(max_len):\n",
        "    trg_tensor = torch.LongTensor(trg_indexes).unsqueeze(0).to(device)\n",
        "\n",
        "    trg_mask = model.make_trg_mask(trg_tensor)\n",
        "\n",
        "    with torch.no_grad():\n",
        "      output, attention = model.decoder(trg_tensor, enc_src, trg_mask, src_mask)\n",
        "\n",
        "    pred_token = output.argmax(2)[:, -1].item()\n",
        "    trg_indexes.append(pred_token)\n",
        "\n",
        "    if logging:\n",
        "      print(f\"Index: {i}\")\n",
        "      print(f\"trg_tensor: {trg_tensor}\")\n",
        "      print(f\"trg_mask: {trg_mask}\")\n",
        "      print(f\"output.argmax(2): {output.argmax(2)}\")\n",
        "      print(f\"pred_token: {pred_token}\")\n",
        "      print(f\"trg_indexes: {trg_indexes}\")\n",
        "      print(\"=\"*50)\n",
        "\n",
        "    if pred_token == trg_field.vocab.stoi[trg_field.eos_token]:\n",
        "      break\n",
        "\n",
        "  trg_tokens = [trg_field.vocab.itos[i] for i in trg_indexes]\n",
        "\n",
        "  return trg_tokens[1:], attention"
      ],
      "metadata": {
        "id": "VXvew3HVlSGi"
      },
      "execution_count": 122,
      "outputs": []
    },
    {
      "cell_type": "code",
      "source": [
        "example_idx = 10\n",
        "\n",
        "src = test_dataset.examples[example_idx].src\n",
        "trg = test_dataset.examples[example_idx].trg\n",
        "\n",
        "print(f'Source sentence: {src}')\n",
        "print(f'Target sentence: {trg}')"
      ],
      "metadata": {
        "colab": {
          "base_uri": "https://localhost:8080/"
        },
        "id": "DIsu1YoPqLKN",
        "outputId": "f182790d-683e-485f-c71a-1b0815544a67"
      },
      "execution_count": 123,
      "outputs": [
        {
          "output_type": "stream",
          "name": "stdout",
          "text": [
            "Source sentence: ['eine', 'mutter', 'und', 'ihr', 'kleiner', 'sohn', 'genießen', 'einen', 'schönen', 'tag', 'im', 'freien.']\n",
            "Target sentence: ['a', 'mother', 'and', 'her', 'young', 'song', 'enjoying', 'a', 'beautiful', 'day', 'outside.']\n"
          ]
        }
      ]
    },
    {
      "cell_type": "code",
      "source": [
        "src"
      ],
      "metadata": {
        "colab": {
          "base_uri": "https://localhost:8080/"
        },
        "id": "wn5CP-Iqr9lM",
        "outputId": "53d2db1a-2a74-47d4-dbcc-02fd112ad72b"
      },
      "execution_count": 124,
      "outputs": [
        {
          "output_type": "execute_result",
          "data": {
            "text/plain": [
              "['eine',\n",
              " 'mutter',\n",
              " 'und',\n",
              " 'ihr',\n",
              " 'kleiner',\n",
              " 'sohn',\n",
              " 'genießen',\n",
              " 'einen',\n",
              " 'schönen',\n",
              " 'tag',\n",
              " 'im',\n",
              " 'freien.']"
            ]
          },
          "metadata": {},
          "execution_count": 124
        }
      ]
    },
    {
      "cell_type": "code",
      "source": [
        "translation, attention = translate_sentence(src, SRC, TRG, model, device, logging=True)\n",
        "\n",
        "print(f'Translated sentence: {translation}')"
      ],
      "metadata": {
        "colab": {
          "base_uri": "https://localhost:8080/"
        },
        "id": "f3EjYgLSq35F",
        "outputId": "410b825b-e7c4-4fd7-963c-00b46f7de441"
      },
      "execution_count": 126,
      "outputs": [
        {
          "output_type": "stream",
          "name": "stdout",
          "text": [
            "전체 소스 토큰: ['<sos>', 'eine', 'mutter', 'und', 'ihr', 'kleiner', 'sohn', 'genießen', 'einen', 'schönen', 'tag', 'im', 'freien.', '<eos>']\n",
            "소스 문장 인덱스: [2, 7, 388, 8, 121, 61, 680, 650, 17, 800, 238, 18, 252, 3]\n",
            "src_tensor: tensor([[  2,   7, 388,   8, 121,  61, 680, 650,  17, 800, 238,  18, 252,   3]])\n",
            "src_mask: tensor([[[[True, True, True, True, True, True, True, True, True, True, True,\n",
            "           True, True, True]]]])\n",
            "enc_src: tensor([[[-1.0514, -0.0389, -0.5989,  ...,  0.0796, -0.1800, -0.2235],\n",
            "         [-0.1877,  0.5156,  0.9588,  ...,  0.3972,  0.3792, -0.4946],\n",
            "         [-0.4538,  1.7405,  0.6138,  ...,  0.0447,  0.8218,  0.4676],\n",
            "         ...,\n",
            "         [-2.3597, -0.9182, -1.2662,  ..., -0.1437,  1.2089, -2.0196],\n",
            "         [ 0.5949,  0.5704, -1.6148,  ..., -0.6011, -0.4188, -0.0955],\n",
            "         [-1.1539, -0.1522, -0.9009,  ..., -0.0794, -1.1308,  0.0931]]])\n",
            "trg_indexes: [2]\n",
            "==================================================\n",
            "Index: 0\n",
            "trg_tensor: tensor([[2]])\n",
            "trg_mask: tensor([[[[True]]]])\n",
            "output.argmax(2): tensor([[4]])\n",
            "pred_token: 4\n",
            "trg_indexes: [2, 4]\n",
            "==================================================\n",
            "Index: 1\n",
            "trg_tensor: tensor([[2, 4]])\n",
            "trg_mask: tensor([[[[ True, False],\n",
            "          [ True,  True]]]])\n",
            "output.argmax(2): tensor([[  4, 546]])\n",
            "pred_token: 546\n",
            "trg_indexes: [2, 4, 546]\n",
            "==================================================\n",
            "Index: 2\n",
            "trg_tensor: tensor([[  2,   4, 546]])\n",
            "trg_mask: tensor([[[[ True, False, False],\n",
            "          [ True,  True, False],\n",
            "          [ True,  True,  True]]]])\n",
            "output.argmax(2): tensor([[  4, 546,  10]])\n",
            "pred_token: 10\n",
            "trg_indexes: [2, 4, 546, 10]\n",
            "==================================================\n",
            "Index: 3\n",
            "trg_tensor: tensor([[  2,   4, 546,  10]])\n",
            "trg_mask: tensor([[[[ True, False, False, False],\n",
            "          [ True,  True, False, False],\n",
            "          [ True,  True,  True, False],\n",
            "          [ True,  True,  True,  True]]]])\n",
            "output.argmax(2): tensor([[  4, 546,  10,  41]])\n",
            "pred_token: 41\n",
            "trg_indexes: [2, 4, 546, 10, 41]\n",
            "==================================================\n",
            "Index: 4\n",
            "trg_tensor: tensor([[  2,   4, 546,  10,  41]])\n",
            "trg_mask: tensor([[[[ True, False, False, False, False],\n",
            "          [ True,  True, False, False, False],\n",
            "          [ True,  True,  True, False, False],\n",
            "          [ True,  True,  True,  True, False],\n",
            "          [ True,  True,  True,  True,  True]]]])\n",
            "output.argmax(2): tensor([[  4, 546,  10,  41, 874]])\n",
            "pred_token: 874\n",
            "trg_indexes: [2, 4, 546, 10, 41, 874]\n",
            "==================================================\n",
            "Index: 5\n",
            "trg_tensor: tensor([[  2,   4, 546,  10,  41, 874]])\n",
            "trg_mask: tensor([[[[ True, False, False, False, False, False],\n",
            "          [ True,  True, False, False, False, False],\n",
            "          [ True,  True,  True, False, False, False],\n",
            "          [ True,  True,  True,  True, False, False],\n",
            "          [ True,  True,  True,  True,  True, False],\n",
            "          [ True,  True,  True,  True,  True,  True]]]])\n",
            "output.argmax(2): tensor([[  4, 546,  10,  41, 874, 267]])\n",
            "pred_token: 267\n",
            "trg_indexes: [2, 4, 546, 10, 41, 874, 267]\n",
            "==================================================\n",
            "Index: 6\n",
            "trg_tensor: tensor([[  2,   4, 546,  10,  41, 874, 267]])\n",
            "trg_mask: tensor([[[[ True, False, False, False, False, False, False],\n",
            "          [ True,  True, False, False, False, False, False],\n",
            "          [ True,  True,  True, False, False, False, False],\n",
            "          [ True,  True,  True,  True, False, False, False],\n",
            "          [ True,  True,  True,  True,  True, False, False],\n",
            "          [ True,  True,  True,  True,  True,  True, False],\n",
            "          [ True,  True,  True,  True,  True,  True,  True]]]])\n",
            "output.argmax(2): tensor([[  4, 546,  10,  41, 874, 267,   4]])\n",
            "pred_token: 4\n",
            "trg_indexes: [2, 4, 546, 10, 41, 874, 267, 4]\n",
            "==================================================\n",
            "Index: 7\n",
            "trg_tensor: tensor([[  2,   4, 546,  10,  41, 874, 267,   4]])\n",
            "trg_mask: tensor([[[[ True, False, False, False, False, False, False, False],\n",
            "          [ True,  True, False, False, False, False, False, False],\n",
            "          [ True,  True,  True, False, False, False, False, False],\n",
            "          [ True,  True,  True,  True, False, False, False, False],\n",
            "          [ True,  True,  True,  True,  True, False, False, False],\n",
            "          [ True,  True,  True,  True,  True,  True, False, False],\n",
            "          [ True,  True,  True,  True,  True,  True,  True, False],\n",
            "          [ True,  True,  True,  True,  True,  True,  True,  True]]]])\n",
            "output.argmax(2): tensor([[   4,  546,   10,   41,  874,  267,    4, 1044]])\n",
            "pred_token: 1044\n",
            "trg_indexes: [2, 4, 546, 10, 41, 874, 267, 4, 1044]\n",
            "==================================================\n",
            "Index: 8\n",
            "trg_tensor: tensor([[   2,    4,  546,   10,   41,  874,  267,    4, 1044]])\n",
            "trg_mask: tensor([[[[ True, False, False, False, False, False, False, False, False],\n",
            "          [ True,  True, False, False, False, False, False, False, False],\n",
            "          [ True,  True,  True, False, False, False, False, False, False],\n",
            "          [ True,  True,  True,  True, False, False, False, False, False],\n",
            "          [ True,  True,  True,  True,  True, False, False, False, False],\n",
            "          [ True,  True,  True,  True,  True,  True, False, False, False],\n",
            "          [ True,  True,  True,  True,  True,  True,  True, False, False],\n",
            "          [ True,  True,  True,  True,  True,  True,  True,  True, False],\n",
            "          [ True,  True,  True,  True,  True,  True,  True,  True,  True]]]])\n",
            "output.argmax(2): tensor([[   4,  546,   10,   41,  874,  267,    4, 1044,  432]])\n",
            "pred_token: 432\n",
            "trg_indexes: [2, 4, 546, 10, 41, 874, 267, 4, 1044, 432]\n",
            "==================================================\n",
            "Index: 9\n",
            "trg_tensor: tensor([[   2,    4,  546,   10,   41,  874,  267,    4, 1044,  432]])\n",
            "trg_mask: tensor([[[[ True, False, False, False, False, False, False, False, False, False],\n",
            "          [ True,  True, False, False, False, False, False, False, False, False],\n",
            "          [ True,  True,  True, False, False, False, False, False, False, False],\n",
            "          [ True,  True,  True,  True, False, False, False, False, False, False],\n",
            "          [ True,  True,  True,  True,  True, False, False, False, False, False],\n",
            "          [ True,  True,  True,  True,  True,  True, False, False, False, False],\n",
            "          [ True,  True,  True,  True,  True,  True,  True, False, False, False],\n",
            "          [ True,  True,  True,  True,  True,  True,  True,  True, False, False],\n",
            "          [ True,  True,  True,  True,  True,  True,  True,  True,  True, False],\n",
            "          [ True,  True,  True,  True,  True,  True,  True,  True,  True,  True]]]])\n",
            "output.argmax(2): tensor([[   4,  546,   10,   41,  874,  267,    4, 1044,  432,  201]])\n",
            "pred_token: 201\n",
            "trg_indexes: [2, 4, 546, 10, 41, 874, 267, 4, 1044, 432, 201]\n",
            "==================================================\n",
            "Index: 10\n",
            "trg_tensor: tensor([[   2,    4,  546,   10,   41,  874,  267,    4, 1044,  432,  201]])\n",
            "trg_mask: tensor([[[[ True, False, False, False, False, False, False, False, False, False,\n",
            "           False],\n",
            "          [ True,  True, False, False, False, False, False, False, False, False,\n",
            "           False],\n",
            "          [ True,  True,  True, False, False, False, False, False, False, False,\n",
            "           False],\n",
            "          [ True,  True,  True,  True, False, False, False, False, False, False,\n",
            "           False],\n",
            "          [ True,  True,  True,  True,  True, False, False, False, False, False,\n",
            "           False],\n",
            "          [ True,  True,  True,  True,  True,  True, False, False, False, False,\n",
            "           False],\n",
            "          [ True,  True,  True,  True,  True,  True,  True, False, False, False,\n",
            "           False],\n",
            "          [ True,  True,  True,  True,  True,  True,  True,  True, False, False,\n",
            "           False],\n",
            "          [ True,  True,  True,  True,  True,  True,  True,  True,  True, False,\n",
            "           False],\n",
            "          [ True,  True,  True,  True,  True,  True,  True,  True,  True,  True,\n",
            "           False],\n",
            "          [ True,  True,  True,  True,  True,  True,  True,  True,  True,  True,\n",
            "            True]]]])\n",
            "output.argmax(2): tensor([[   4,  546,   10,   41,  874,  267,    4, 1044,  432,  201,    3]])\n",
            "pred_token: 3\n",
            "trg_indexes: [2, 4, 546, 10, 41, 874, 267, 4, 1044, 432, 201, 3]\n",
            "==================================================\n",
            "Translated sentence: ['a', 'mother', 'and', 'her', 'son', 'enjoying', 'a', 'nice', 'day', 'outside.', '<eos>']\n"
          ]
        }
      ]
    },
    {
      "cell_type": "markdown",
      "source": [
        "### Visualize Attention Map"
      ],
      "metadata": {
        "id": "ceSm_0aqskgh"
      }
    },
    {
      "cell_type": "code",
      "source": [
        "def display_attention(sentence, translation, attention, n_heads=8, n_rows=4, n_cols=2):\n",
        "\n",
        "  assert n_rows * n_cols == n_heads\n",
        "\n",
        "  fig = plt.figure(figsize=(15,25))\n",
        "\n",
        "  for i in range(n_heads):\n",
        "    ax = fig.add_subplot(n_rows, n_cols, i+1)\n",
        "\n",
        "    _attention = attention.squeeze(0)[i].cpu().detach().numpy()\n",
        "\n",
        "    cax = ax.matshow(_attention, cmap='bone')\n",
        "\n",
        "    fig.colorbar(cax, ax=ax, fraction=0.046, pad=0.04)\n",
        "\n",
        "    ax.tick_params(labelsize=12)\n",
        "    ax.set_xticklabels(['']+['<sos>']+[t.lower() for t in sentence]+['<eos>'], rotation=45)\n",
        "    ax.set_yticklabels(['<sos>'] + translation)\n",
        "\n",
        "    ax.xaxis.set_major_locator(ticker.MultipleLocator(1))\n",
        "    ax.yaxis.set_major_locator(ticker.MultipleLocator(1))\n",
        "\n",
        "  plt.show()\n",
        "  plt.close()"
      ],
      "metadata": {
        "id": "nmg5ftwPrzIG"
      },
      "execution_count": 127,
      "outputs": []
    },
    {
      "cell_type": "code",
      "source": [
        "display_attention(src, translation, attention)"
      ],
      "metadata": {
        "colab": {
          "base_uri": "https://localhost:8080/",
          "height": 1000
        },
        "id": "cWjxBVWRtm1B",
        "outputId": "fd9f864a-9a1e-4f5e-98bc-36a5b4292ba8"
      },
      "execution_count": 128,
      "outputs": [
        {
          "output_type": "stream",
          "name": "stderr",
          "text": [
            "<ipython-input-127-4b1e72dcddd4>:17: UserWarning: FixedFormatter should only be used together with FixedLocator\n",
            "  ax.set_xticklabels(['']+['<sos>']+[t.lower() for t in sentence]+['<eos>'], rotation=45)\n",
            "<ipython-input-127-4b1e72dcddd4>:18: UserWarning: FixedFormatter should only be used together with FixedLocator\n",
            "  ax.set_yticklabels(['<sos>'] + translation)\n"
          ]
        },
        {
          "output_type": "display_data",
          "data": {
            "text/plain": [
              "<Figure size 1500x2500 with 16 Axes>"
            ],
            "image/png": "[encoded data removed]"
          },
          "metadata": {}
        }
      ]
    },
    {
      "cell_type": "markdown",
      "source": [
        "German : English\n",
        "- ein : a\n",
        "- kleines : young\n",
        "- kind : child\n",
        "- steht : stands\n",
        "- allein : alone\n",
        "- auf : on\n",
        "- einem : one\n"
      ],
      "metadata": {
        "id": "cxrwPmPYutjS"
      }
    }
  ]
}